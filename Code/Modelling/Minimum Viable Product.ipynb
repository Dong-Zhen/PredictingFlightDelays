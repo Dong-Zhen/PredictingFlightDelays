{
 "cells": [
  {
   "cell_type": "code",
   "execution_count": 7,
   "metadata": {},
   "outputs": [],
   "source": [
    "import os"
   ]
  },
  {
   "cell_type": "code",
   "execution_count": 1,
   "metadata": {},
   "outputs": [],
   "source": [
    "import pandas as pd\n",
    "import numpy as np\n",
    "import pickle"
   ]
  },
  {
   "cell_type": "code",
   "execution_count": 70,
   "metadata": {},
   "outputs": [],
   "source": [
    "import matplotlib.pyplot as plt\n",
    "import matplotlib.cm as cm\n",
    "%matplotlib inline\n",
    "import seaborn as sns\n",
    "sns.set()"
   ]
  },
  {
   "cell_type": "code",
   "execution_count": 71,
   "metadata": {},
   "outputs": [],
   "source": [
    "from datetime import datetime"
   ]
  },
  {
   "cell_type": "code",
   "execution_count": 90,
   "metadata": {},
   "outputs": [],
   "source": [
    "from math import sqrt"
   ]
  },
  {
   "cell_type": "code",
   "execution_count": 72,
   "metadata": {},
   "outputs": [],
   "source": [
    "from sklearn.metrics import (r2_score, mean_squared_error, mean_absolute_error)\n",
    "from sklearn.model_selection import (cross_val_score, cross_val_predict, train_test_split, \n",
    "                                     KFold, GridSearchCV)\n",
    "from sklearn.model_selection import GroupShuffleSplit, StratifiedShuffleSplit\n",
    "from sklearn.metrics import precision_score, recall_score, accuracy_score, f1_score, roc_auc_score, roc_curve\n",
    "from sklearn.metrics import confusion_matrix\n",
    "from sklearn.preprocessing import StandardScaler"
   ]
  },
  {
   "cell_type": "code",
   "execution_count": 73,
   "metadata": {},
   "outputs": [],
   "source": [
    "from sklearn.tree import DecisionTreeClassifier\n",
    "from sklearn.ensemble import RandomForestClassifier\n",
    "from sklearn.linear_model import LogisticRegression"
   ]
  },
  {
   "cell_type": "code",
   "execution_count": 84,
   "metadata": {},
   "outputs": [],
   "source": [
    "import xgboost as xgb"
   ]
  },
  {
   "cell_type": "markdown",
   "metadata": {},
   "source": [
    "# The goal is to predict departing flights that will be delayed. A flight is considered delay when it takes more than 15 minutes to leave the gate. \n",
    "\n",
    "Within the delta dataframe, there is a column called departure delay that points out how early or late the flight was from the scheduled departure time in minutes. Using this, I calculated the target column named 'Departure Delay' which dictates that any flight that took longer than 15 minutes to depart is considered to be delay (1) and 15 minutes or less is considered to be on-time (0). \n",
    "\n",
    "Because Delta wants to make actionable decisions based on this model, it's essential for it to be as precise as possible. The secondary priority is to increase recall so that they are able to mitigate the damages of as many flight delays as possible. "
   ]
  },
  {
   "cell_type": "code",
   "execution_count": 16,
   "metadata": {},
   "outputs": [],
   "source": [
    "selection = 25\n",
    "year = '2019'\n",
    "airline = 'DL'\n",
    "download_path = r'/home/desbrium/Metis/PredictingFlightDelays/Data/BTS Departure Data'\n",
    "file_path = os.path.join(download_path, f'{selection}airports{airline}{year}.csv')"
   ]
  },
  {
   "cell_type": "code",
   "execution_count": 17,
   "metadata": {},
   "outputs": [],
   "source": [
    "delta_df = pd.read_csv(file_path)"
   ]
  },
  {
   "cell_type": "code",
   "execution_count": 18,
   "metadata": {},
   "outputs": [
    {
     "data": {
      "text/html": [
       "<div>\n",
       "<style scoped>\n",
       "    .dataframe tbody tr th:only-of-type {\n",
       "        vertical-align: middle;\n",
       "    }\n",
       "\n",
       "    .dataframe tbody tr th {\n",
       "        vertical-align: top;\n",
       "    }\n",
       "\n",
       "    .dataframe thead th {\n",
       "        text-align: right;\n",
       "    }\n",
       "</style>\n",
       "<table border=\"1\" class=\"dataframe\">\n",
       "  <thead>\n",
       "    <tr style=\"text-align: right;\">\n",
       "      <th></th>\n",
       "      <th>Unique_Id</th>\n",
       "      <th>Carrier Code</th>\n",
       "      <th>Flight Date</th>\n",
       "      <th>Flight Number</th>\n",
       "      <th>Month</th>\n",
       "      <th>Tail Number</th>\n",
       "      <th>Origin Airport</th>\n",
       "      <th>Origin City</th>\n",
       "      <th>Origin State</th>\n",
       "      <th>Origin Divison</th>\n",
       "      <th>...</th>\n",
       "      <th>Cancelled</th>\n",
       "      <th>Diverted</th>\n",
       "      <th>Flights</th>\n",
       "      <th>Distance</th>\n",
       "      <th>Distance Name</th>\n",
       "      <th>Distance Range Name</th>\n",
       "      <th>Scheduled Arrival Time</th>\n",
       "      <th>Actual Arrival Time</th>\n",
       "      <th>Minutes Delayed Arriving</th>\n",
       "      <th>AirTime</th>\n",
       "    </tr>\n",
       "  </thead>\n",
       "  <tbody>\n",
       "    <tr>\n",
       "      <th>0</th>\n",
       "      <td>01/01/2019-N67171-15-ATL</td>\n",
       "      <td>DL</td>\n",
       "      <td>2019-01-01</td>\n",
       "      <td>15</td>\n",
       "      <td>January</td>\n",
       "      <td>N67171</td>\n",
       "      <td>ATL</td>\n",
       "      <td>Atlanta</td>\n",
       "      <td>Georgia</td>\n",
       "      <td>South Atlantic</td>\n",
       "      <td>...</td>\n",
       "      <td>0.0</td>\n",
       "      <td>0.0</td>\n",
       "      <td>1.0</td>\n",
       "      <td>406.0</td>\n",
       "      <td>Short Haul</td>\n",
       "      <td>90-583</td>\n",
       "      <td>2119</td>\n",
       "      <td>2108.0</td>\n",
       "      <td>-11.0</td>\n",
       "      <td>64.0</td>\n",
       "    </tr>\n",
       "    <tr>\n",
       "      <th>1</th>\n",
       "      <td>01/01/2019-N354NW-31-ATL</td>\n",
       "      <td>DL</td>\n",
       "      <td>2019-01-01</td>\n",
       "      <td>31</td>\n",
       "      <td>January</td>\n",
       "      <td>N354NW</td>\n",
       "      <td>ATL</td>\n",
       "      <td>Atlanta</td>\n",
       "      <td>Georgia</td>\n",
       "      <td>South Atlantic</td>\n",
       "      <td>...</td>\n",
       "      <td>0.0</td>\n",
       "      <td>0.0</td>\n",
       "      <td>1.0</td>\n",
       "      <td>731.0</td>\n",
       "      <td>Short Haul</td>\n",
       "      <td>583-1072</td>\n",
       "      <td>2042</td>\n",
       "      <td>2036.0</td>\n",
       "      <td>-6.0</td>\n",
       "      <td>112.0</td>\n",
       "    </tr>\n",
       "    <tr>\n",
       "      <th>2</th>\n",
       "      <td>01/01/2019-N960DL-91-ATL</td>\n",
       "      <td>DL</td>\n",
       "      <td>2019-01-01</td>\n",
       "      <td>91</td>\n",
       "      <td>January</td>\n",
       "      <td>N960DL</td>\n",
       "      <td>ATL</td>\n",
       "      <td>Atlanta</td>\n",
       "      <td>Georgia</td>\n",
       "      <td>South Atlantic</td>\n",
       "      <td>...</td>\n",
       "      <td>0.0</td>\n",
       "      <td>0.0</td>\n",
       "      <td>1.0</td>\n",
       "      <td>515.0</td>\n",
       "      <td>Short Haul</td>\n",
       "      <td>90-583</td>\n",
       "      <td>1905</td>\n",
       "      <td>1859.0</td>\n",
       "      <td>-46.0</td>\n",
       "      <td>86.0</td>\n",
       "    </tr>\n",
       "    <tr>\n",
       "      <th>3</th>\n",
       "      <td>01/01/2019-N944AT-131-ATL</td>\n",
       "      <td>DL</td>\n",
       "      <td>2019-01-01</td>\n",
       "      <td>131</td>\n",
       "      <td>January</td>\n",
       "      <td>N944AT</td>\n",
       "      <td>ATL</td>\n",
       "      <td>Atlanta</td>\n",
       "      <td>Georgia</td>\n",
       "      <td>South Atlantic</td>\n",
       "      <td>...</td>\n",
       "      <td>0.0</td>\n",
       "      <td>0.0</td>\n",
       "      <td>1.0</td>\n",
       "      <td>153.0</td>\n",
       "      <td>Short Haul</td>\n",
       "      <td>90-583</td>\n",
       "      <td>1840</td>\n",
       "      <td>1832.0</td>\n",
       "      <td>-8.0</td>\n",
       "      <td>31.0</td>\n",
       "    </tr>\n",
       "    <tr>\n",
       "      <th>4</th>\n",
       "      <td>01/01/2019-N173DZ-186-ATL</td>\n",
       "      <td>DL</td>\n",
       "      <td>2019-01-01</td>\n",
       "      <td>186</td>\n",
       "      <td>January</td>\n",
       "      <td>N173DZ</td>\n",
       "      <td>ATL</td>\n",
       "      <td>Atlanta</td>\n",
       "      <td>Georgia</td>\n",
       "      <td>South Atlantic</td>\n",
       "      <td>...</td>\n",
       "      <td>0.0</td>\n",
       "      <td>0.0</td>\n",
       "      <td>1.0</td>\n",
       "      <td>404.0</td>\n",
       "      <td>Short Haul</td>\n",
       "      <td>90-583</td>\n",
       "      <td>1725</td>\n",
       "      <td>1717.0</td>\n",
       "      <td>-8.0</td>\n",
       "      <td>60.0</td>\n",
       "    </tr>\n",
       "  </tbody>\n",
       "</table>\n",
       "<p>5 rows × 40 columns</p>\n",
       "</div>"
      ],
      "text/plain": [
       "                   Unique_Id Carrier Code Flight Date  Flight Number    Month  \\\n",
       "0   01/01/2019-N67171-15-ATL           DL  2019-01-01             15  January   \n",
       "1   01/01/2019-N354NW-31-ATL           DL  2019-01-01             31  January   \n",
       "2   01/01/2019-N960DL-91-ATL           DL  2019-01-01             91  January   \n",
       "3  01/01/2019-N944AT-131-ATL           DL  2019-01-01            131  January   \n",
       "4  01/01/2019-N173DZ-186-ATL           DL  2019-01-01            186  January   \n",
       "\n",
       "  Tail Number Origin Airport Origin City Origin State  Origin Divison  ...  \\\n",
       "0      N67171            ATL     Atlanta      Georgia  South Atlantic  ...   \n",
       "1      N354NW            ATL     Atlanta      Georgia  South Atlantic  ...   \n",
       "2      N960DL            ATL     Atlanta      Georgia  South Atlantic  ...   \n",
       "3      N944AT            ATL     Atlanta      Georgia  South Atlantic  ...   \n",
       "4      N173DZ            ATL     Atlanta      Georgia  South Atlantic  ...   \n",
       "\n",
       "  Cancelled Diverted Flights Distance Distance Name Distance Range Name  \\\n",
       "0       0.0      0.0     1.0    406.0    Short Haul              90-583   \n",
       "1       0.0      0.0     1.0    731.0    Short Haul            583-1072   \n",
       "2       0.0      0.0     1.0    515.0    Short Haul              90-583   \n",
       "3       0.0      0.0     1.0    153.0    Short Haul              90-583   \n",
       "4       0.0      0.0     1.0    404.0    Short Haul              90-583   \n",
       "\n",
       "  Scheduled Arrival Time Actual Arrival Time Minutes Delayed Arriving  AirTime  \n",
       "0                   2119              2108.0                    -11.0     64.0  \n",
       "1                   2042              2036.0                     -6.0    112.0  \n",
       "2                   1905              1859.0                    -46.0     86.0  \n",
       "3                   1840              1832.0                     -8.0     31.0  \n",
       "4                   1725              1717.0                     -8.0     60.0  \n",
       "\n",
       "[5 rows x 40 columns]"
      ]
     },
     "execution_count": 18,
     "metadata": {},
     "output_type": "execute_result"
    }
   ],
   "source": [
    "delta_df.head()"
   ]
  },
  {
   "cell_type": "code",
   "execution_count": 19,
   "metadata": {},
   "outputs": [
    {
     "name": "stdout",
     "output_type": "stream",
     "text": [
      "<class 'pandas.core.frame.DataFrame'>\n",
      "RangeIndex: 704501 entries, 0 to 704500\n",
      "Data columns (total 40 columns):\n",
      " #   Column                           Non-Null Count   Dtype  \n",
      "---  ------                           --------------   -----  \n",
      " 0   Unique_Id                        704501 non-null  object \n",
      " 1   Carrier Code                     704501 non-null  object \n",
      " 2   Flight Date                      704501 non-null  object \n",
      " 3   Flight Number                    704501 non-null  int64  \n",
      " 4   Month                            704501 non-null  object \n",
      " 5   Tail Number                      704500 non-null  object \n",
      " 6   Origin Airport                   704501 non-null  object \n",
      " 7   Origin City                      704501 non-null  object \n",
      " 8   Origin State                     704501 non-null  object \n",
      " 9   Origin Divison                   704501 non-null  object \n",
      " 10  Origin Region                    704501 non-null  object \n",
      " 11  Dest Airport                     704501 non-null  object \n",
      " 12  Dest City                        704501 non-null  object \n",
      " 13  Dest State                       704501 non-null  object \n",
      " 14  Dest Divison                     704501 non-null  object \n",
      " 15  Dest Region                      704501 non-null  object \n",
      " 16  Scheduled Departure Time         704501 non-null  object \n",
      " 17  Actual Departure Time            704501 non-null  object \n",
      " 18  Actual Departure Time Name       704501 non-null  object \n",
      " 19  Minutes Delayed Departing        704501 non-null  int64  \n",
      " 20  Delayed Departure                704501 non-null  int64  \n",
      " 21  Scheduled Elapsed Time           704501 non-null  int64  \n",
      " 22  Actual Elapsed Time              704501 non-null  int64  \n",
      " 23  Wheels-off Time                  704501 non-null  object \n",
      " 24  Taxi-out Time                    704501 non-null  int64  \n",
      " 25  Minutes Delayed By Carrier       704501 non-null  int64  \n",
      " 26  Minutes Delayed By Weather       704501 non-null  int64  \n",
      " 27  Minutes Delayed By NAS           704501 non-null  int64  \n",
      " 28  Minutes Delayed By Security      704501 non-null  int64  \n",
      " 29  Minutes Delayed By Late Arrival  704501 non-null  int64  \n",
      " 30  Cancelled                        704501 non-null  float64\n",
      " 31  Diverted                         704501 non-null  float64\n",
      " 32  Flights                          704501 non-null  float64\n",
      " 33  Distance                         704501 non-null  float64\n",
      " 34  Distance Name                    704501 non-null  object \n",
      " 35  Distance Range Name              704501 non-null  object \n",
      " 36  Scheduled Arrival Time           704501 non-null  int64  \n",
      " 37  Actual Arrival Time              703079 non-null  float64\n",
      " 38  Minutes Delayed Arriving         703079 non-null  float64\n",
      " 39  AirTime                          701616 non-null  float64\n",
      "dtypes: float64(7), int64(12), object(21)\n",
      "memory usage: 215.0+ MB\n"
     ]
    }
   ],
   "source": [
    "delta_df.info()"
   ]
  },
  {
   "cell_type": "code",
   "execution_count": 20,
   "metadata": {},
   "outputs": [
    {
     "data": {
      "text/plain": [
       "Index(['Unique_Id', 'Carrier Code', 'Flight Date', 'Flight Number', 'Month',\n",
       "       'Tail Number', 'Origin Airport', 'Origin City', 'Origin State',\n",
       "       'Origin Divison', 'Origin Region', 'Dest Airport', 'Dest City',\n",
       "       'Dest State', 'Dest Divison', 'Dest Region', 'Scheduled Departure Time',\n",
       "       'Actual Departure Time', 'Actual Departure Time Name',\n",
       "       'Minutes Delayed Departing', 'Delayed Departure',\n",
       "       'Scheduled Elapsed Time', 'Actual Elapsed Time', 'Wheels-off Time',\n",
       "       'Taxi-out Time', 'Minutes Delayed By Carrier',\n",
       "       'Minutes Delayed By Weather', 'Minutes Delayed By NAS',\n",
       "       'Minutes Delayed By Security', 'Minutes Delayed By Late Arrival',\n",
       "       'Cancelled', 'Diverted', 'Flights', 'Distance', 'Distance Name',\n",
       "       'Distance Range Name', 'Scheduled Arrival Time', 'Actual Arrival Time',\n",
       "       'Minutes Delayed Arriving', 'AirTime'],\n",
       "      dtype='object')"
      ]
     },
     "execution_count": 20,
     "metadata": {},
     "output_type": "execute_result"
    }
   ],
   "source": [
    "delta_df.columns"
   ]
  },
  {
   "cell_type": "code",
   "execution_count": 21,
   "metadata": {},
   "outputs": [],
   "source": [
    "delta_df_features = delta_df[['Origin Airport', 'Origin Region', 'Actual Departure Time Name',\n",
    "       'Distance Range Name', 'Minutes Delayed By Carrier',\n",
    "       'Minutes Delayed By Weather', 'Minutes Delayed By NAS',\n",
    "       'Minutes Delayed By Security', 'Minutes Delayed By Late Arrival',\n",
    "        ]]"
   ]
  },
  {
   "cell_type": "code",
   "execution_count": 23,
   "metadata": {},
   "outputs": [],
   "source": [
    "delta_df_target = delta_df['Delayed Departure']"
   ]
  },
  {
   "cell_type": "code",
   "execution_count": 24,
   "metadata": {},
   "outputs": [
    {
     "name": "stdout",
     "output_type": "stream",
     "text": [
      "Number of delayed Delta flights in 2019: 105882, 15% were delayed\n",
      "Number of not delayed Delta flights in 2019: -105881, 85% were not delayed\n"
     ]
    }
   ],
   "source": [
    "delayed = delta_df_target.sum()\n",
    "perc_delayed = round(delta_df_target.sum()/delta_df_target.count(),2)\n",
    "print(f'Number of delayed Delta flights in 2019: {delayed}, {int(perc_delayed*100)}% were delayed')\n",
    "\n",
    "not_delayed = delta_df_target.count() - delayed \n",
    "perc_not_delayed = 1 - perc_delayed\n",
    "print(f'Number of not delayed Delta flights in 2019: {not_delayed}, {int(perc_not_delayed*100)}% were not delayed')"
   ]
  },
  {
   "cell_type": "code",
   "execution_count": 25,
   "metadata": {},
   "outputs": [
    {
     "data": {
      "text/plain": [
       "0.15"
      ]
     },
     "execution_count": 25,
     "metadata": {},
     "output_type": "execute_result"
    }
   ],
   "source": [
    "positive_class = perc_delayed\n",
    "\n",
    "positive_class"
   ]
  },
  {
   "cell_type": "code",
   "execution_count": 26,
   "metadata": {},
   "outputs": [
    {
     "data": {
      "text/plain": [
       "0.85"
      ]
     },
     "execution_count": 26,
     "metadata": {},
     "output_type": "execute_result"
    }
   ],
   "source": [
    "negative_class = perc_not_delayed\n",
    "\n",
    "negative_class"
   ]
  },
  {
   "cell_type": "code",
   "execution_count": 27,
   "metadata": {},
   "outputs": [
    {
     "data": {
      "text/html": [
       "<div>\n",
       "<style scoped>\n",
       "    .dataframe tbody tr th:only-of-type {\n",
       "        vertical-align: middle;\n",
       "    }\n",
       "\n",
       "    .dataframe tbody tr th {\n",
       "        vertical-align: top;\n",
       "    }\n",
       "\n",
       "    .dataframe thead th {\n",
       "        text-align: right;\n",
       "    }\n",
       "</style>\n",
       "<table border=\"1\" class=\"dataframe\">\n",
       "  <thead>\n",
       "    <tr style=\"text-align: right;\">\n",
       "      <th></th>\n",
       "      <th>Minutes Delayed By Carrier</th>\n",
       "      <th>Minutes Delayed By Weather</th>\n",
       "      <th>Minutes Delayed By NAS</th>\n",
       "      <th>Minutes Delayed By Security</th>\n",
       "      <th>Minutes Delayed By Late Arrival</th>\n",
       "    </tr>\n",
       "  </thead>\n",
       "  <tbody>\n",
       "    <tr>\n",
       "      <th>count</th>\n",
       "      <td>704501.000000</td>\n",
       "      <td>704501.000000</td>\n",
       "      <td>704501.000000</td>\n",
       "      <td>704501.000000</td>\n",
       "      <td>704501.000000</td>\n",
       "    </tr>\n",
       "    <tr>\n",
       "      <th>mean</th>\n",
       "      <td>3.632091</td>\n",
       "      <td>0.728494</td>\n",
       "      <td>3.060468</td>\n",
       "      <td>0.010633</td>\n",
       "      <td>2.948092</td>\n",
       "    </tr>\n",
       "    <tr>\n",
       "      <th>std</th>\n",
       "      <td>27.429235</td>\n",
       "      <td>15.664364</td>\n",
       "      <td>19.666613</td>\n",
       "      <td>1.034018</td>\n",
       "      <td>18.858401</td>\n",
       "    </tr>\n",
       "    <tr>\n",
       "      <th>min</th>\n",
       "      <td>0.000000</td>\n",
       "      <td>0.000000</td>\n",
       "      <td>0.000000</td>\n",
       "      <td>0.000000</td>\n",
       "      <td>0.000000</td>\n",
       "    </tr>\n",
       "    <tr>\n",
       "      <th>25%</th>\n",
       "      <td>0.000000</td>\n",
       "      <td>0.000000</td>\n",
       "      <td>0.000000</td>\n",
       "      <td>0.000000</td>\n",
       "      <td>0.000000</td>\n",
       "    </tr>\n",
       "    <tr>\n",
       "      <th>50%</th>\n",
       "      <td>0.000000</td>\n",
       "      <td>0.000000</td>\n",
       "      <td>0.000000</td>\n",
       "      <td>0.000000</td>\n",
       "      <td>0.000000</td>\n",
       "    </tr>\n",
       "    <tr>\n",
       "      <th>75%</th>\n",
       "      <td>0.000000</td>\n",
       "      <td>0.000000</td>\n",
       "      <td>0.000000</td>\n",
       "      <td>0.000000</td>\n",
       "      <td>0.000000</td>\n",
       "    </tr>\n",
       "    <tr>\n",
       "      <th>max</th>\n",
       "      <td>1265.000000</td>\n",
       "      <td>1167.000000</td>\n",
       "      <td>1215.000000</td>\n",
       "      <td>434.000000</td>\n",
       "      <td>1046.000000</td>\n",
       "    </tr>\n",
       "  </tbody>\n",
       "</table>\n",
       "</div>"
      ],
      "text/plain": [
       "       Minutes Delayed By Carrier  Minutes Delayed By Weather  \\\n",
       "count               704501.000000               704501.000000   \n",
       "mean                     3.632091                    0.728494   \n",
       "std                     27.429235                   15.664364   \n",
       "min                      0.000000                    0.000000   \n",
       "25%                      0.000000                    0.000000   \n",
       "50%                      0.000000                    0.000000   \n",
       "75%                      0.000000                    0.000000   \n",
       "max                   1265.000000                 1167.000000   \n",
       "\n",
       "       Minutes Delayed By NAS  Minutes Delayed By Security  \\\n",
       "count           704501.000000                704501.000000   \n",
       "mean                 3.060468                     0.010633   \n",
       "std                 19.666613                     1.034018   \n",
       "min                  0.000000                     0.000000   \n",
       "25%                  0.000000                     0.000000   \n",
       "50%                  0.000000                     0.000000   \n",
       "75%                  0.000000                     0.000000   \n",
       "max               1215.000000                   434.000000   \n",
       "\n",
       "       Minutes Delayed By Late Arrival  \n",
       "count                    704501.000000  \n",
       "mean                          2.948092  \n",
       "std                          18.858401  \n",
       "min                           0.000000  \n",
       "25%                           0.000000  \n",
       "50%                           0.000000  \n",
       "75%                           0.000000  \n",
       "max                        1046.000000  "
      ]
     },
     "execution_count": 27,
     "metadata": {},
     "output_type": "execute_result"
    }
   ],
   "source": [
    "delta_df[['Minutes Delayed By Carrier',\n",
    "       'Minutes Delayed By Weather', 'Minutes Delayed By NAS',\n",
    "       'Minutes Delayed By Security', 'Minutes Delayed By Late Arrival'\n",
    "        ]].describe()"
   ]
  },
  {
   "cell_type": "markdown",
   "metadata": {},
   "source": [
    "Delay Carrier, National Aviation System, and Late Aircraft Arrival looks like good predictors of departure delays"
   ]
  },
  {
   "cell_type": "markdown",
   "metadata": {},
   "source": [
    "# Baseline Logistic Regression\n",
    "\n",
    "No scaler needed for this because the features are all on the same scale as shown in the describe table. Definitely need to stratify this"
   ]
  },
  {
   "cell_type": "code",
   "execution_count": 29,
   "metadata": {},
   "outputs": [],
   "source": [
    "X = delta_df[['Minutes Delayed By Carrier', 'Minutes Delayed By NAS','Minutes Delayed By Late Arrival']]"
   ]
  },
  {
   "cell_type": "code",
   "execution_count": 30,
   "metadata": {},
   "outputs": [],
   "source": [
    "y = delta_df['Delayed Departure'] "
   ]
  },
  {
   "cell_type": "code",
   "execution_count": 36,
   "metadata": {},
   "outputs": [],
   "source": [
    "X_train, X_test, y_train, y_test = train_test_split(X, y, test_size = 0.2, random_state=42, stratify = y)"
   ]
  },
  {
   "cell_type": "code",
   "execution_count": 37,
   "metadata": {},
   "outputs": [],
   "source": [
    "X_train2, X_val, y_train2, y_val = train_test_split(X_train, y_train, test_size=0.2, random_state=42, stratify = y_train)"
   ]
  },
  {
   "cell_type": "code",
   "execution_count": null,
   "metadata": {},
   "outputs": [],
   "source": [
    "#stratifykhold"
   ]
  },
  {
   "cell_type": "code",
   "execution_count": 38,
   "metadata": {},
   "outputs": [],
   "source": [
    "kfold = KFold(n_splits=5, shuffle=True, random_state=42)"
   ]
  },
  {
   "cell_type": "code",
   "execution_count": 39,
   "metadata": {},
   "outputs": [],
   "source": [
    "lr = LogisticRegression(C=1000)"
   ]
  },
  {
   "cell_type": "code",
   "execution_count": 40,
   "metadata": {},
   "outputs": [
    {
     "data": {
      "text/plain": [
       "LogisticRegression(C=1000)"
      ]
     },
     "execution_count": 40,
     "metadata": {},
     "output_type": "execute_result"
    }
   ],
   "source": [
    "lr.fit(X_train2, y_train2)"
   ]
  },
  {
   "cell_type": "code",
   "execution_count": 41,
   "metadata": {},
   "outputs": [
    {
     "data": {
      "text/plain": [
       "0.9437544357700497"
      ]
     },
     "execution_count": 41,
     "metadata": {},
     "output_type": "execute_result"
    }
   ],
   "source": [
    "lr.score(X_train2, y_train2)"
   ]
  },
  {
   "cell_type": "code",
   "execution_count": 42,
   "metadata": {},
   "outputs": [
    {
     "data": {
      "text/plain": [
       "(array([[0.2451373 , 0.04484369, 0.27993727]]), array([-3.03233378]))"
      ]
     },
     "execution_count": 42,
     "metadata": {},
     "output_type": "execute_result"
    }
   ],
   "source": [
    "lr.coef_, lr.intercept_"
   ]
  },
  {
   "cell_type": "code",
   "execution_count": 43,
   "metadata": {},
   "outputs": [],
   "source": [
    "y_val_pred = lr.predict(X_val)"
   ]
  },
  {
   "cell_type": "code",
   "execution_count": 44,
   "metadata": {},
   "outputs": [
    {
     "data": {
      "text/plain": [
       "array([0.94356592, 0.9441093 , 0.94373226, 0.94251242, 0.94490774])"
      ]
     },
     "execution_count": 44,
     "metadata": {},
     "output_type": "execute_result"
    }
   ],
   "source": [
    "cross_val_score(lr, X_train2, y_train2, cv=kfold)"
   ]
  },
  {
   "cell_type": "code",
   "execution_count": 45,
   "metadata": {},
   "outputs": [
    {
     "name": "stdout",
     "output_type": "stream",
     "text": [
      "recall_score:0.6928162446136592\n",
      "precision_score:0.9288540677429566\n",
      "accuracy_score:0.9458569907735983\n",
      "f1_score:0.7936572336612908\n",
      "roc_auc_score:0.841715026743084\n"
     ]
    }
   ],
   "source": [
    "print(f'recall_score:{recall_score(y_val, y_val_pred)}')\n",
    "print(f'precision_score:{precision_score(y_val, y_val_pred)}')\n",
    "print(f'accuracy_score:{accuracy_score(y_val, y_val_pred)}')\n",
    "print(f'f1_score:{f1_score(y_val, y_val_pred)}')\n",
    "print(f'roc_auc_score:{roc_auc_score(y_val, y_val_pred)}')"
   ]
  },
  {
   "cell_type": "code",
   "execution_count": null,
   "metadata": {},
   "outputs": [],
   "source": [
    "#use logistic regression to interpret coef"
   ]
  },
  {
   "cell_type": "code",
   "execution_count": null,
   "metadata": {},
   "outputs": [],
   "source": [
    "#class weights on dataset and feed in as parameter"
   ]
  },
  {
   "cell_type": "code",
   "execution_count": null,
   "metadata": {},
   "outputs": [],
   "source": [
    "#beta coefficients"
   ]
  },
  {
   "cell_type": "code",
   "execution_count": 46,
   "metadata": {},
   "outputs": [
    {
     "data": {
      "image/png": "[encoded data removed]",
      "text/plain": [
       "<Figure size 1000x800 with 1 Axes>"
      ]
     },
     "metadata": {},
     "output_type": "display_data"
    }
   ],
   "source": [
    "auc = roc_auc_score(y_val, y_val_pred)\n",
    "\n",
    "false_positive_rate, true_positive_rate, thresolds = roc_curve(y_val, y_val_pred)\n",
    "\n",
    "plt.figure(figsize=(10, 8), dpi=100)\n",
    "plt.axis('scaled')\n",
    "plt.xlim([0, 1])\n",
    "plt.ylim([0, 1])\n",
    "plt.title(\"AUC & ROC Curve\")\n",
    "plt.plot(false_positive_rate, true_positive_rate, 'g')\n",
    "plt.fill_between(false_positive_rate, true_positive_rate, facecolor='lightgreen', alpha=0.7)\n",
    "plt.text(0.95, 0.05, 'AUC = %0.4f' % auc, ha='right', fontsize=12, weight='bold', color='blue')\n",
    "plt.xlabel(\"False Positive Rate\")\n",
    "plt.ylabel(\"True Positive Rate\")\n",
    "plt.show()"
   ]
  },
  {
   "cell_type": "markdown",
   "metadata": {},
   "source": [
    "# Baseline Random Forest"
   ]
  },
  {
   "cell_type": "code",
   "execution_count": 61,
   "metadata": {},
   "outputs": [],
   "source": [
    "rf = RandomForestClassifier(n_estimators=50, max_depth=7)#, class_weight= {1: positive_class, 0: negative_class})"
   ]
  },
  {
   "cell_type": "code",
   "execution_count": 62,
   "metadata": {},
   "outputs": [
    {
     "data": {
      "text/plain": [
       "RandomForestClassifier(max_depth=7, n_estimators=50)"
      ]
     },
     "execution_count": 62,
     "metadata": {},
     "output_type": "execute_result"
    }
   ],
   "source": [
    "rf.fit(X_train2, y_train2)"
   ]
  },
  {
   "cell_type": "code",
   "execution_count": 63,
   "metadata": {},
   "outputs": [
    {
     "data": {
      "text/plain": [
       "0.9513906139105749"
      ]
     },
     "execution_count": 63,
     "metadata": {},
     "output_type": "execute_result"
    }
   ],
   "source": [
    "rf.score(X_train2, y_train2)"
   ]
  },
  {
   "cell_type": "code",
   "execution_count": 64,
   "metadata": {},
   "outputs": [],
   "source": [
    "y_val_pred = rf.predict(X_val)"
   ]
  },
  {
   "cell_type": "code",
   "execution_count": 65,
   "metadata": {},
   "outputs": [
    {
     "name": "stdout",
     "output_type": "stream",
     "text": [
      "recall_score:0.7045628947523759\n",
      "precision_score:0.974128784787399\n",
      "accuracy_score:0.9527856635911994\n",
      "f1_score:0.8177022675892306\n",
      "roc_auc_score:0.8506265961039884\n"
     ]
    }
   ],
   "source": [
    "print(f'recall_score:{recall_score(y_val, y_val_pred)}')\n",
    "print(f'precision_score:{precision_score(y_val, y_val_pred)}')\n",
    "print(f'accuracy_score:{accuracy_score(y_val, y_val_pred)}')\n",
    "print(f'f1_score:{f1_score(y_val, y_val_pred)}')\n",
    "print(f'roc_auc_score:{roc_auc_score(y_val, y_val_pred)}')"
   ]
  },
  {
   "cell_type": "code",
   "execution_count": 101,
   "metadata": {},
   "outputs": [
    {
     "data": {
      "text/plain": [
       "array([0.96718147, 0.9734458 , 0.96813525, 0.96784831, 0.97470697])"
      ]
     },
     "execution_count": 101,
     "metadata": {},
     "output_type": "execute_result"
    }
   ],
   "source": [
    "cross_val_score(rf, X_train2, y_train2, cv=kfold, scoring = 'precision')"
   ]
  },
  {
   "cell_type": "code",
   "execution_count": 82,
   "metadata": {},
   "outputs": [
    {
     "data": {
      "text/plain": [
       "<BarContainer object of 3 artists>"
      ]
     },
     "execution_count": 82,
     "metadata": {},
     "output_type": "execute_result"
    },
    {
     "data": {
      "image/png": "[encoded data removed]",
      "text/plain": [
       "<Figure size 1080x360 with 1 Axes>"
      ]
     },
     "metadata": {},
     "output_type": "display_data"
    }
   ],
   "source": [
    "plt.figure(figsize=[15,5])\n",
    "\n",
    "plt.bar(X.columns, rf.feature_importances_)"
   ]
  },
  {
   "cell_type": "code",
   "execution_count": 66,
   "metadata": {},
   "outputs": [],
   "source": [
    "rf_confusion_matrix_data = {'Actual' : y_val, 'Predicted' : y_val_pred}"
   ]
  },
  {
   "cell_type": "code",
   "execution_count": 67,
   "metadata": {},
   "outputs": [],
   "source": [
    "rf_confusion_matrix_df = pd.DataFrame(rf_confusion_matrix_data, columns=['Actual','Predicted'])"
   ]
  },
  {
   "cell_type": "code",
   "execution_count": 68,
   "metadata": {},
   "outputs": [],
   "source": [
    "confusion_matrix = pd.crosstab(rf_confusion_matrix_df['Actual'], rf_confusion_matrix_df['Predicted'], rownames=['Actual'], colnames=['Predicted'])"
   ]
  },
  {
   "cell_type": "code",
   "execution_count": 77,
   "metadata": {},
   "outputs": [],
   "source": [
    "#sns.heatmap(confusion_matrix, annot=True)\n",
    "#plt.show()"
   ]
  },
  {
   "cell_type": "code",
   "execution_count": null,
   "metadata": {},
   "outputs": [],
   "source": []
  },
  {
   "cell_type": "code",
   "execution_count": 78,
   "metadata": {},
   "outputs": [
    {
     "data": {
      "image/png": "[encoded data removed]",
      "text/plain": [
       "<Figure size 1000x800 with 1 Axes>"
      ]
     },
     "metadata": {},
     "output_type": "display_data"
    }
   ],
   "source": [
    "auc = roc_auc_score(y_val, y_val_pred)\n",
    "\n",
    "false_positive_rate, true_positive_rate, thresolds = roc_curve(y_val, y_val_pred)\n",
    "\n",
    "plt.figure(figsize=(10, 8), dpi=100)\n",
    "plt.axis('scaled')\n",
    "plt.xlim([0, 1])\n",
    "plt.ylim([0, 1])\n",
    "plt.title(\"AUC & ROC Curve\")\n",
    "plt.plot(false_positive_rate, true_positive_rate, 'g')\n",
    "plt.fill_between(false_positive_rate, true_positive_rate, facecolor='lightgreen', alpha=0.7)\n",
    "plt.text(0.95, 0.05, 'AUC = %0.4f' % auc, ha='right', fontsize=12, weight='bold', color='blue')\n",
    "plt.xlabel(\"False Positive Rate\")\n",
    "plt.ylabel(\"True Positive Rate\")\n",
    "plt.show()"
   ]
  },
  {
   "cell_type": "code",
   "execution_count": null,
   "metadata": {},
   "outputs": [],
   "source": []
  },
  {
   "cell_type": "markdown",
   "metadata": {},
   "source": [
    "# Baseline XGBoost"
   ]
  },
  {
   "cell_type": "code",
   "execution_count": 93,
   "metadata": {},
   "outputs": [],
   "source": [
    "#use default"
   ]
  },
  {
   "cell_type": "code",
   "execution_count": null,
   "metadata": {},
   "outputs": [],
   "source": [
    "#gridsearch"
   ]
  },
  {
   "cell_type": "code",
   "execution_count": 98,
   "metadata": {},
   "outputs": [],
   "source": [
    "gbm = xgb.XGBClassifier(\n",
    "                        n_estimators=100,\n",
    "                        max_depth = 3,\n",
    "                        learning_rate=.1, #lowering learning_rate,\n",
    "                        early_stopping_rounds=20\n",
    "                        )"
   ]
  },
  {
   "cell_type": "code",
   "execution_count": 100,
   "metadata": {},
   "outputs": [
    {
     "name": "stdout",
     "output_type": "stream",
     "text": [
      "[10:11:46] WARNING: ../src/learner.cc:573: \n",
      "Parameters: { \"early_stopping_rounds\" } might not be used.\n",
      "\n",
      "  This may not be accurate due to some parameters are only used in language bindings but\n",
      "  passed down to XGBoost core.  Or some parameters are not used but slip through this\n",
      "  verification. Please open an issue if you find above cases.\n",
      "\n",
      "\n",
      "[10:11:46] WARNING: ../src/learner.cc:1095: Starting in XGBoost 1.3.0, the default evaluation metric used with the objective 'binary:logistic' was changed from 'error' to 'logloss'. Explicitly set eval_metric if you'd like to restore the old behavior.\n",
      "[10:11:51] WARNING: ../src/learner.cc:573: \n",
      "Parameters: { \"early_stopping_rounds\" } might not be used.\n",
      "\n",
      "  This may not be accurate due to some parameters are only used in language bindings but\n",
      "  passed down to XGBoost core.  Or some parameters are not used but slip through this\n",
      "  verification. Please open an issue if you find above cases.\n",
      "\n",
      "\n",
      "[10:11:51] WARNING: ../src/learner.cc:1095: Starting in XGBoost 1.3.0, the default evaluation metric used with the objective 'binary:logistic' was changed from 'error' to 'logloss'. Explicitly set eval_metric if you'd like to restore the old behavior.\n",
      "[10:11:55] WARNING: ../src/learner.cc:573: \n",
      "Parameters: { \"early_stopping_rounds\" } might not be used.\n",
      "\n",
      "  This may not be accurate due to some parameters are only used in language bindings but\n",
      "  passed down to XGBoost core.  Or some parameters are not used but slip through this\n",
      "  verification. Please open an issue if you find above cases.\n",
      "\n",
      "\n",
      "[10:11:55] WARNING: ../src/learner.cc:1095: Starting in XGBoost 1.3.0, the default evaluation metric used with the objective 'binary:logistic' was changed from 'error' to 'logloss'. Explicitly set eval_metric if you'd like to restore the old behavior.\n",
      "[10:12:00] WARNING: ../src/learner.cc:573: \n",
      "Parameters: { \"early_stopping_rounds\" } might not be used.\n",
      "\n",
      "  This may not be accurate due to some parameters are only used in language bindings but\n",
      "  passed down to XGBoost core.  Or some parameters are not used but slip through this\n",
      "  verification. Please open an issue if you find above cases.\n",
      "\n",
      "\n",
      "[10:12:00] WARNING: ../src/learner.cc:1095: Starting in XGBoost 1.3.0, the default evaluation metric used with the objective 'binary:logistic' was changed from 'error' to 'logloss'. Explicitly set eval_metric if you'd like to restore the old behavior.\n",
      "[10:12:04] WARNING: ../src/learner.cc:573: \n",
      "Parameters: { \"early_stopping_rounds\" } might not be used.\n",
      "\n",
      "  This may not be accurate due to some parameters are only used in language bindings but\n",
      "  passed down to XGBoost core.  Or some parameters are not used but slip through this\n",
      "  verification. Please open an issue if you find above cases.\n",
      "\n",
      "\n",
      "[10:12:04] WARNING: ../src/learner.cc:1095: Starting in XGBoost 1.3.0, the default evaluation metric used with the objective 'binary:logistic' was changed from 'error' to 'logloss'. Explicitly set eval_metric if you'd like to restore the old behavior.\n"
     ]
    },
    {
     "data": {
      "text/plain": [
       "array([0.96798765, 0.96959565, 0.96941738, 0.96816811, 0.97535614])"
      ]
     },
     "execution_count": 100,
     "metadata": {},
     "output_type": "execute_result"
    }
   ],
   "source": [
    "cross_val_score(gbm, X_train2, y_train2, cv=kfold, scoring = 'precision')"
   ]
  },
  {
   "cell_type": "code",
   "execution_count": 86,
   "metadata": {},
   "outputs": [
    {
     "name": "stdout",
     "output_type": "stream",
     "text": [
      "[0]\tvalidation_0-rmse:0.46345\tvalidation_1-rmse:0.46322\n",
      "[1]\tvalidation_0-rmse:0.43289\tvalidation_1-rmse:0.43272\n",
      "[2]\tvalidation_0-rmse:0.40431\tvalidation_1-rmse:0.40394\n",
      "[3]\tvalidation_0-rmse:0.37932\tvalidation_1-rmse:0.37897\n",
      "[4]\tvalidation_0-rmse:0.35516\tvalidation_1-rmse:0.35448\n",
      "[5]\tvalidation_0-rmse:0.33402\tvalidation_1-rmse:0.33331\n",
      "[6]\tvalidation_0-rmse:0.31778\tvalidation_1-rmse:0.31695\n",
      "[7]\tvalidation_0-rmse:0.30400\tvalidation_1-rmse:0.30305\n",
      "[8]\tvalidation_0-rmse:0.29183\tvalidation_1-rmse:0.29083\n",
      "[9]\tvalidation_0-rmse:0.27950\tvalidation_1-rmse:0.27829\n",
      "[10]\tvalidation_0-rmse:0.26900\tvalidation_1-rmse:0.26768\n",
      "[11]\tvalidation_0-rmse:0.26163\tvalidation_1-rmse:0.26016\n",
      "[12]\tvalidation_0-rmse:0.25395\tvalidation_1-rmse:0.25240\n",
      "[13]\tvalidation_0-rmse:0.24874\tvalidation_1-rmse:0.24706\n",
      "[14]\tvalidation_0-rmse:0.24397\tvalidation_1-rmse:0.24227\n",
      "[15]\tvalidation_0-rmse:0.24011\tvalidation_1-rmse:0.23828\n",
      "[16]\tvalidation_0-rmse:0.23689\tvalidation_1-rmse:0.23502\n",
      "[17]\tvalidation_0-rmse:0.23418\tvalidation_1-rmse:0.23215\n",
      "[18]\tvalidation_0-rmse:0.23186\tvalidation_1-rmse:0.22983\n",
      "[19]\tvalidation_0-rmse:0.22994\tvalidation_1-rmse:0.22789\n",
      "[20]\tvalidation_0-rmse:0.22736\tvalidation_1-rmse:0.22525\n",
      "[21]\tvalidation_0-rmse:0.22612\tvalidation_1-rmse:0.22394\n",
      "[22]\tvalidation_0-rmse:0.22418\tvalidation_1-rmse:0.22200\n",
      "[23]\tvalidation_0-rmse:0.22270\tvalidation_1-rmse:0.22038\n",
      "[24]\tvalidation_0-rmse:0.22188\tvalidation_1-rmse:0.21963\n",
      "[25]\tvalidation_0-rmse:0.22109\tvalidation_1-rmse:0.21872\n",
      "[26]\tvalidation_0-rmse:0.22038\tvalidation_1-rmse:0.21802\n",
      "[27]\tvalidation_0-rmse:0.21999\tvalidation_1-rmse:0.21751\n",
      "[28]\tvalidation_0-rmse:0.21953\tvalidation_1-rmse:0.21713\n",
      "[29]\tvalidation_0-rmse:0.21908\tvalidation_1-rmse:0.21663\n",
      "[30]\tvalidation_0-rmse:0.21838\tvalidation_1-rmse:0.21587\n",
      "[31]\tvalidation_0-rmse:0.21813\tvalidation_1-rmse:0.21562\n",
      "[32]\tvalidation_0-rmse:0.21788\tvalidation_1-rmse:0.21529\n",
      "[33]\tvalidation_0-rmse:0.21735\tvalidation_1-rmse:0.21476\n",
      "[34]\tvalidation_0-rmse:0.21710\tvalidation_1-rmse:0.21458\n",
      "[35]\tvalidation_0-rmse:0.21667\tvalidation_1-rmse:0.21412\n",
      "[36]\tvalidation_0-rmse:0.21661\tvalidation_1-rmse:0.21399\n",
      "[37]\tvalidation_0-rmse:0.21644\tvalidation_1-rmse:0.21389\n",
      "[38]\tvalidation_0-rmse:0.21636\tvalidation_1-rmse:0.21379\n",
      "[39]\tvalidation_0-rmse:0.21612\tvalidation_1-rmse:0.21347\n",
      "[40]\tvalidation_0-rmse:0.21583\tvalidation_1-rmse:0.21322\n",
      "[41]\tvalidation_0-rmse:0.21571\tvalidation_1-rmse:0.21297\n",
      "[42]\tvalidation_0-rmse:0.21544\tvalidation_1-rmse:0.21277\n",
      "[43]\tvalidation_0-rmse:0.21537\tvalidation_1-rmse:0.21273\n",
      "[44]\tvalidation_0-rmse:0.21537\tvalidation_1-rmse:0.21266\n",
      "[45]\tvalidation_0-rmse:0.21538\tvalidation_1-rmse:0.21263\n",
      "[46]\tvalidation_0-rmse:0.21527\tvalidation_1-rmse:0.21254\n",
      "[47]\tvalidation_0-rmse:0.21511\tvalidation_1-rmse:0.21241\n",
      "[48]\tvalidation_0-rmse:0.21509\tvalidation_1-rmse:0.21234\n",
      "[49]\tvalidation_0-rmse:0.21501\tvalidation_1-rmse:0.21232\n",
      "[50]\tvalidation_0-rmse:0.21497\tvalidation_1-rmse:0.21224\n",
      "[51]\tvalidation_0-rmse:0.21496\tvalidation_1-rmse:0.21219\n",
      "[52]\tvalidation_0-rmse:0.21495\tvalidation_1-rmse:0.21217\n",
      "[53]\tvalidation_0-rmse:0.21496\tvalidation_1-rmse:0.21215\n",
      "[54]\tvalidation_0-rmse:0.21482\tvalidation_1-rmse:0.21207\n",
      "[55]\tvalidation_0-rmse:0.21477\tvalidation_1-rmse:0.21197\n",
      "[56]\tvalidation_0-rmse:0.21467\tvalidation_1-rmse:0.21195\n",
      "[57]\tvalidation_0-rmse:0.21467\tvalidation_1-rmse:0.21193\n",
      "[58]\tvalidation_0-rmse:0.21466\tvalidation_1-rmse:0.21191\n",
      "[59]\tvalidation_0-rmse:0.21462\tvalidation_1-rmse:0.21182\n",
      "[60]\tvalidation_0-rmse:0.21453\tvalidation_1-rmse:0.21183\n",
      "[61]\tvalidation_0-rmse:0.21450\tvalidation_1-rmse:0.21176\n",
      "[62]\tvalidation_0-rmse:0.21445\tvalidation_1-rmse:0.21170\n",
      "[63]\tvalidation_0-rmse:0.21444\tvalidation_1-rmse:0.21167\n",
      "[64]\tvalidation_0-rmse:0.21442\tvalidation_1-rmse:0.21165\n",
      "[65]\tvalidation_0-rmse:0.21443\tvalidation_1-rmse:0.21165\n",
      "[66]\tvalidation_0-rmse:0.21442\tvalidation_1-rmse:0.21164\n",
      "[67]\tvalidation_0-rmse:0.21442\tvalidation_1-rmse:0.21164\n",
      "[68]\tvalidation_0-rmse:0.21442\tvalidation_1-rmse:0.21164\n",
      "[69]\tvalidation_0-rmse:0.21440\tvalidation_1-rmse:0.21160\n",
      "[70]\tvalidation_0-rmse:0.21440\tvalidation_1-rmse:0.21160\n",
      "[71]\tvalidation_0-rmse:0.21438\tvalidation_1-rmse:0.21157\n",
      "[72]\tvalidation_0-rmse:0.21439\tvalidation_1-rmse:0.21159\n",
      "[73]\tvalidation_0-rmse:0.21436\tvalidation_1-rmse:0.21156\n",
      "[74]\tvalidation_0-rmse:0.21435\tvalidation_1-rmse:0.21155\n",
      "[75]\tvalidation_0-rmse:0.21435\tvalidation_1-rmse:0.21155\n",
      "[76]\tvalidation_0-rmse:0.21434\tvalidation_1-rmse:0.21154\n",
      "[77]\tvalidation_0-rmse:0.21431\tvalidation_1-rmse:0.21151\n",
      "[78]\tvalidation_0-rmse:0.21429\tvalidation_1-rmse:0.21146\n",
      "[79]\tvalidation_0-rmse:0.21426\tvalidation_1-rmse:0.21143\n",
      "[80]\tvalidation_0-rmse:0.21424\tvalidation_1-rmse:0.21139\n",
      "[81]\tvalidation_0-rmse:0.21423\tvalidation_1-rmse:0.21139\n",
      "[82]\tvalidation_0-rmse:0.21421\tvalidation_1-rmse:0.21137\n",
      "[83]\tvalidation_0-rmse:0.21409\tvalidation_1-rmse:0.21134\n",
      "[84]\tvalidation_0-rmse:0.21408\tvalidation_1-rmse:0.21132\n",
      "[85]\tvalidation_0-rmse:0.21406\tvalidation_1-rmse:0.21131\n",
      "[86]\tvalidation_0-rmse:0.21405\tvalidation_1-rmse:0.21130\n",
      "[87]\tvalidation_0-rmse:0.21404\tvalidation_1-rmse:0.21128\n",
      "[88]\tvalidation_0-rmse:0.21403\tvalidation_1-rmse:0.21127\n",
      "[89]\tvalidation_0-rmse:0.21400\tvalidation_1-rmse:0.21122\n",
      "[90]\tvalidation_0-rmse:0.21398\tvalidation_1-rmse:0.21120\n",
      "[91]\tvalidation_0-rmse:0.21398\tvalidation_1-rmse:0.21120\n",
      "[92]\tvalidation_0-rmse:0.21397\tvalidation_1-rmse:0.21119\n",
      "[93]\tvalidation_0-rmse:0.21397\tvalidation_1-rmse:0.21119\n",
      "[94]\tvalidation_0-rmse:0.21394\tvalidation_1-rmse:0.21116\n",
      "[95]\tvalidation_0-rmse:0.21393\tvalidation_1-rmse:0.21116\n",
      "[96]\tvalidation_0-rmse:0.21393\tvalidation_1-rmse:0.21116\n",
      "[97]\tvalidation_0-rmse:0.21392\tvalidation_1-rmse:0.21114\n",
      "[98]\tvalidation_0-rmse:0.21392\tvalidation_1-rmse:0.21114\n",
      "[99]\tvalidation_0-rmse:0.21391\tvalidation_1-rmse:0.21114\n",
      "[100]\tvalidation_0-rmse:0.21390\tvalidation_1-rmse:0.21113\n",
      "[101]\tvalidation_0-rmse:0.21389\tvalidation_1-rmse:0.21111\n",
      "[102]\tvalidation_0-rmse:0.21388\tvalidation_1-rmse:0.21111\n",
      "[103]\tvalidation_0-rmse:0.21388\tvalidation_1-rmse:0.21111\n",
      "[104]\tvalidation_0-rmse:0.21387\tvalidation_1-rmse:0.21110\n",
      "[105]\tvalidation_0-rmse:0.21386\tvalidation_1-rmse:0.21109\n",
      "[106]\tvalidation_0-rmse:0.21386\tvalidation_1-rmse:0.21109\n",
      "[107]\tvalidation_0-rmse:0.21384\tvalidation_1-rmse:0.21107\n",
      "[108]\tvalidation_0-rmse:0.21382\tvalidation_1-rmse:0.21105\n",
      "[109]\tvalidation_0-rmse:0.21382\tvalidation_1-rmse:0.21105\n",
      "[110]\tvalidation_0-rmse:0.21378\tvalidation_1-rmse:0.21102\n",
      "[111]\tvalidation_0-rmse:0.21377\tvalidation_1-rmse:0.21101\n",
      "[112]\tvalidation_0-rmse:0.21376\tvalidation_1-rmse:0.21099\n",
      "[113]\tvalidation_0-rmse:0.21376\tvalidation_1-rmse:0.21099\n",
      "[114]\tvalidation_0-rmse:0.21374\tvalidation_1-rmse:0.21098\n",
      "[115]\tvalidation_0-rmse:0.21373\tvalidation_1-rmse:0.21097\n",
      "[116]\tvalidation_0-rmse:0.21370\tvalidation_1-rmse:0.21095\n",
      "[117]\tvalidation_0-rmse:0.21370\tvalidation_1-rmse:0.21094\n",
      "[118]\tvalidation_0-rmse:0.21369\tvalidation_1-rmse:0.21093\n",
      "[119]\tvalidation_0-rmse:0.21368\tvalidation_1-rmse:0.21093\n",
      "[120]\tvalidation_0-rmse:0.21367\tvalidation_1-rmse:0.21092\n",
      "[121]\tvalidation_0-rmse:0.21367\tvalidation_1-rmse:0.21092\n",
      "[122]\tvalidation_0-rmse:0.21367\tvalidation_1-rmse:0.21092\n",
      "[123]\tvalidation_0-rmse:0.21366\tvalidation_1-rmse:0.21089\n",
      "[124]\tvalidation_0-rmse:0.21366\tvalidation_1-rmse:0.21090\n",
      "[125]\tvalidation_0-rmse:0.21366\tvalidation_1-rmse:0.21091\n",
      "[126]\tvalidation_0-rmse:0.21365\tvalidation_1-rmse:0.21090\n",
      "[127]\tvalidation_0-rmse:0.21365\tvalidation_1-rmse:0.21090\n",
      "[128]\tvalidation_0-rmse:0.21365\tvalidation_1-rmse:0.21088\n",
      "[129]\tvalidation_0-rmse:0.21365\tvalidation_1-rmse:0.21089\n",
      "[130]\tvalidation_0-rmse:0.21364\tvalidation_1-rmse:0.21087\n",
      "[131]\tvalidation_0-rmse:0.21361\tvalidation_1-rmse:0.21085\n",
      "[132]\tvalidation_0-rmse:0.21361\tvalidation_1-rmse:0.21087\n",
      "[133]\tvalidation_0-rmse:0.21360\tvalidation_1-rmse:0.21084\n",
      "[134]\tvalidation_0-rmse:0.21359\tvalidation_1-rmse:0.21083\n",
      "[135]\tvalidation_0-rmse:0.21359\tvalidation_1-rmse:0.21084\n",
      "[136]\tvalidation_0-rmse:0.21358\tvalidation_1-rmse:0.21082\n",
      "[137]\tvalidation_0-rmse:0.21358\tvalidation_1-rmse:0.21082\n",
      "[138]\tvalidation_0-rmse:0.21358\tvalidation_1-rmse:0.21084\n",
      "[139]\tvalidation_0-rmse:0.21357\tvalidation_1-rmse:0.21081\n",
      "[140]\tvalidation_0-rmse:0.21357\tvalidation_1-rmse:0.21083\n",
      "[141]\tvalidation_0-rmse:0.21357\tvalidation_1-rmse:0.21083\n",
      "[142]\tvalidation_0-rmse:0.21357\tvalidation_1-rmse:0.21081\n",
      "[143]\tvalidation_0-rmse:0.21356\tvalidation_1-rmse:0.21082\n",
      "[144]\tvalidation_0-rmse:0.21353\tvalidation_1-rmse:0.21077\n",
      "[145]\tvalidation_0-rmse:0.21352\tvalidation_1-rmse:0.21078\n",
      "[146]\tvalidation_0-rmse:0.21350\tvalidation_1-rmse:0.21074\n",
      "[147]\tvalidation_0-rmse:0.21349\tvalidation_1-rmse:0.21075\n",
      "[148]\tvalidation_0-rmse:0.21348\tvalidation_1-rmse:0.21074\n",
      "[149]\tvalidation_0-rmse:0.21347\tvalidation_1-rmse:0.21073\n",
      "[150]\tvalidation_0-rmse:0.21347\tvalidation_1-rmse:0.21073\n",
      "[151]\tvalidation_0-rmse:0.21347\tvalidation_1-rmse:0.21071\n",
      "[152]\tvalidation_0-rmse:0.21347\tvalidation_1-rmse:0.21071\n",
      "[153]\tvalidation_0-rmse:0.21347\tvalidation_1-rmse:0.21072\n",
      "[154]\tvalidation_0-rmse:0.21346\tvalidation_1-rmse:0.21071\n",
      "[155]\tvalidation_0-rmse:0.21346\tvalidation_1-rmse:0.21070\n",
      "[156]\tvalidation_0-rmse:0.21345\tvalidation_1-rmse:0.21070\n",
      "[157]\tvalidation_0-rmse:0.21344\tvalidation_1-rmse:0.21068\n",
      "[158]\tvalidation_0-rmse:0.21344\tvalidation_1-rmse:0.21068\n",
      "[159]\tvalidation_0-rmse:0.21343\tvalidation_1-rmse:0.21067\n",
      "[160]\tvalidation_0-rmse:0.21343\tvalidation_1-rmse:0.21067\n",
      "[161]\tvalidation_0-rmse:0.21343\tvalidation_1-rmse:0.21066\n",
      "[162]\tvalidation_0-rmse:0.21342\tvalidation_1-rmse:0.21066\n",
      "[163]\tvalidation_0-rmse:0.21342\tvalidation_1-rmse:0.21065\n",
      "[164]\tvalidation_0-rmse:0.21341\tvalidation_1-rmse:0.21064\n",
      "[165]\tvalidation_0-rmse:0.21341\tvalidation_1-rmse:0.21064\n",
      "[166]\tvalidation_0-rmse:0.21340\tvalidation_1-rmse:0.21064\n",
      "[167]\tvalidation_0-rmse:0.21339\tvalidation_1-rmse:0.21063\n",
      "[168]\tvalidation_0-rmse:0.21338\tvalidation_1-rmse:0.21063\n",
      "[169]\tvalidation_0-rmse:0.21338\tvalidation_1-rmse:0.21062\n",
      "[170]\tvalidation_0-rmse:0.21338\tvalidation_1-rmse:0.21062\n",
      "[171]\tvalidation_0-rmse:0.21336\tvalidation_1-rmse:0.21061\n",
      "[172]\tvalidation_0-rmse:0.21336\tvalidation_1-rmse:0.21061\n",
      "[173]\tvalidation_0-rmse:0.21335\tvalidation_1-rmse:0.21060\n",
      "[174]\tvalidation_0-rmse:0.21336\tvalidation_1-rmse:0.21060\n",
      "[175]\tvalidation_0-rmse:0.21335\tvalidation_1-rmse:0.21060\n",
      "[176]\tvalidation_0-rmse:0.21334\tvalidation_1-rmse:0.21059\n",
      "[177]\tvalidation_0-rmse:0.21334\tvalidation_1-rmse:0.21059\n",
      "[178]\tvalidation_0-rmse:0.21334\tvalidation_1-rmse:0.21059\n",
      "[179]\tvalidation_0-rmse:0.21334\tvalidation_1-rmse:0.21059\n",
      "[180]\tvalidation_0-rmse:0.21333\tvalidation_1-rmse:0.21058\n",
      "[181]\tvalidation_0-rmse:0.21332\tvalidation_1-rmse:0.21058\n",
      "[182]\tvalidation_0-rmse:0.21333\tvalidation_1-rmse:0.21060\n",
      "[183]\tvalidation_0-rmse:0.21332\tvalidation_1-rmse:0.21057\n",
      "[184]\tvalidation_0-rmse:0.21332\tvalidation_1-rmse:0.21057\n",
      "[185]\tvalidation_0-rmse:0.21332\tvalidation_1-rmse:0.21059\n",
      "[186]\tvalidation_0-rmse:0.21332\tvalidation_1-rmse:0.21058\n",
      "[187]\tvalidation_0-rmse:0.21331\tvalidation_1-rmse:0.21057\n",
      "[188]\tvalidation_0-rmse:0.21329\tvalidation_1-rmse:0.21056\n",
      "[189]\tvalidation_0-rmse:0.21327\tvalidation_1-rmse:0.21055\n",
      "[190]\tvalidation_0-rmse:0.21326\tvalidation_1-rmse:0.21052\n",
      "[191]\tvalidation_0-rmse:0.21326\tvalidation_1-rmse:0.21052\n",
      "[192]\tvalidation_0-rmse:0.21327\tvalidation_1-rmse:0.21052\n",
      "[193]\tvalidation_0-rmse:0.21327\tvalidation_1-rmse:0.21053\n",
      "[194]\tvalidation_0-rmse:0.21326\tvalidation_1-rmse:0.21052\n",
      "[195]\tvalidation_0-rmse:0.21327\tvalidation_1-rmse:0.21052\n",
      "[196]\tvalidation_0-rmse:0.21326\tvalidation_1-rmse:0.21052\n",
      "[197]\tvalidation_0-rmse:0.21326\tvalidation_1-rmse:0.21052\n",
      "[198]\tvalidation_0-rmse:0.21326\tvalidation_1-rmse:0.21052\n",
      "[199]\tvalidation_0-rmse:0.21326\tvalidation_1-rmse:0.21052\n",
      "[200]\tvalidation_0-rmse:0.21326\tvalidation_1-rmse:0.21051\n",
      "[201]\tvalidation_0-rmse:0.21326\tvalidation_1-rmse:0.21051\n",
      "[202]\tvalidation_0-rmse:0.21325\tvalidation_1-rmse:0.21051\n",
      "[203]\tvalidation_0-rmse:0.21325\tvalidation_1-rmse:0.21051\n",
      "[204]\tvalidation_0-rmse:0.21324\tvalidation_1-rmse:0.21050\n",
      "[205]\tvalidation_0-rmse:0.21323\tvalidation_1-rmse:0.21049\n",
      "[206]\tvalidation_0-rmse:0.21322\tvalidation_1-rmse:0.21048\n",
      "[207]\tvalidation_0-rmse:0.21322\tvalidation_1-rmse:0.21048\n",
      "[208]\tvalidation_0-rmse:0.21322\tvalidation_1-rmse:0.21048\n",
      "[209]\tvalidation_0-rmse:0.21322\tvalidation_1-rmse:0.21048\n",
      "[210]\tvalidation_0-rmse:0.21322\tvalidation_1-rmse:0.21048\n",
      "[211]\tvalidation_0-rmse:0.21321\tvalidation_1-rmse:0.21047\n",
      "[212]\tvalidation_0-rmse:0.21321\tvalidation_1-rmse:0.21047\n",
      "[213]\tvalidation_0-rmse:0.21320\tvalidation_1-rmse:0.21046\n",
      "[214]\tvalidation_0-rmse:0.21319\tvalidation_1-rmse:0.21045\n",
      "[215]\tvalidation_0-rmse:0.21318\tvalidation_1-rmse:0.21044\n",
      "[216]\tvalidation_0-rmse:0.21318\tvalidation_1-rmse:0.21044\n",
      "[217]\tvalidation_0-rmse:0.21318\tvalidation_1-rmse:0.21044\n",
      "[218]\tvalidation_0-rmse:0.21316\tvalidation_1-rmse:0.21043\n",
      "[219]\tvalidation_0-rmse:0.21316\tvalidation_1-rmse:0.21043\n",
      "[220]\tvalidation_0-rmse:0.21316\tvalidation_1-rmse:0.21043\n",
      "[221]\tvalidation_0-rmse:0.21315\tvalidation_1-rmse:0.21042\n",
      "[222]\tvalidation_0-rmse:0.21315\tvalidation_1-rmse:0.21042\n",
      "[223]\tvalidation_0-rmse:0.21314\tvalidation_1-rmse:0.21042\n",
      "[224]\tvalidation_0-rmse:0.21313\tvalidation_1-rmse:0.21041\n",
      "[225]\tvalidation_0-rmse:0.21314\tvalidation_1-rmse:0.21041\n",
      "[226]\tvalidation_0-rmse:0.21313\tvalidation_1-rmse:0.21041\n",
      "[227]\tvalidation_0-rmse:0.21312\tvalidation_1-rmse:0.21039\n",
      "[228]\tvalidation_0-rmse:0.21312\tvalidation_1-rmse:0.21039\n",
      "[229]\tvalidation_0-rmse:0.21312\tvalidation_1-rmse:0.21039\n",
      "[230]\tvalidation_0-rmse:0.21312\tvalidation_1-rmse:0.21038\n",
      "[231]\tvalidation_0-rmse:0.21311\tvalidation_1-rmse:0.21038\n",
      "[232]\tvalidation_0-rmse:0.21310\tvalidation_1-rmse:0.21037\n",
      "[233]\tvalidation_0-rmse:0.21310\tvalidation_1-rmse:0.21037\n",
      "[234]\tvalidation_0-rmse:0.21310\tvalidation_1-rmse:0.21037\n",
      "[235]\tvalidation_0-rmse:0.21310\tvalidation_1-rmse:0.21036\n",
      "[236]\tvalidation_0-rmse:0.21309\tvalidation_1-rmse:0.21035\n",
      "[237]\tvalidation_0-rmse:0.21308\tvalidation_1-rmse:0.21035\n",
      "[238]\tvalidation_0-rmse:0.21308\tvalidation_1-rmse:0.21035\n",
      "[239]\tvalidation_0-rmse:0.21307\tvalidation_1-rmse:0.21033\n",
      "[240]\tvalidation_0-rmse:0.21306\tvalidation_1-rmse:0.21033\n",
      "[241]\tvalidation_0-rmse:0.21306\tvalidation_1-rmse:0.21032\n",
      "[242]\tvalidation_0-rmse:0.21305\tvalidation_1-rmse:0.21031\n",
      "[243]\tvalidation_0-rmse:0.21305\tvalidation_1-rmse:0.21031\n",
      "[244]\tvalidation_0-rmse:0.21305\tvalidation_1-rmse:0.21031\n",
      "[245]\tvalidation_0-rmse:0.21304\tvalidation_1-rmse:0.21030\n",
      "[246]\tvalidation_0-rmse:0.21305\tvalidation_1-rmse:0.21030\n",
      "[247]\tvalidation_0-rmse:0.21304\tvalidation_1-rmse:0.21030\n",
      "[248]\tvalidation_0-rmse:0.21304\tvalidation_1-rmse:0.21030\n",
      "[249]\tvalidation_0-rmse:0.21305\tvalidation_1-rmse:0.21030\n",
      "[250]\tvalidation_0-rmse:0.21304\tvalidation_1-rmse:0.21029\n",
      "[251]\tvalidation_0-rmse:0.21303\tvalidation_1-rmse:0.21029\n",
      "[252]\tvalidation_0-rmse:0.21303\tvalidation_1-rmse:0.21028\n",
      "[253]\tvalidation_0-rmse:0.21302\tvalidation_1-rmse:0.21027\n",
      "[254]\tvalidation_0-rmse:0.21302\tvalidation_1-rmse:0.21028\n",
      "[255]\tvalidation_0-rmse:0.21302\tvalidation_1-rmse:0.21027\n",
      "[256]\tvalidation_0-rmse:0.21302\tvalidation_1-rmse:0.21027\n",
      "[257]\tvalidation_0-rmse:0.21302\tvalidation_1-rmse:0.21027\n",
      "[258]\tvalidation_0-rmse:0.21302\tvalidation_1-rmse:0.21026\n",
      "[259]\tvalidation_0-rmse:0.21301\tvalidation_1-rmse:0.21026\n",
      "[260]\tvalidation_0-rmse:0.21301\tvalidation_1-rmse:0.21026\n",
      "[261]\tvalidation_0-rmse:0.21301\tvalidation_1-rmse:0.21025\n",
      "[262]\tvalidation_0-rmse:0.21300\tvalidation_1-rmse:0.21025\n",
      "[263]\tvalidation_0-rmse:0.21300\tvalidation_1-rmse:0.21025\n",
      "[264]\tvalidation_0-rmse:0.21300\tvalidation_1-rmse:0.21025\n",
      "[265]\tvalidation_0-rmse:0.21300\tvalidation_1-rmse:0.21025\n",
      "[266]\tvalidation_0-rmse:0.21300\tvalidation_1-rmse:0.21025\n",
      "[267]\tvalidation_0-rmse:0.21300\tvalidation_1-rmse:0.21024\n",
      "[268]\tvalidation_0-rmse:0.21300\tvalidation_1-rmse:0.21024\n",
      "[269]\tvalidation_0-rmse:0.21299\tvalidation_1-rmse:0.21024\n",
      "[270]\tvalidation_0-rmse:0.21299\tvalidation_1-rmse:0.21023\n",
      "[271]\tvalidation_0-rmse:0.21299\tvalidation_1-rmse:0.21024\n",
      "[272]\tvalidation_0-rmse:0.21299\tvalidation_1-rmse:0.21024\n",
      "[273]\tvalidation_0-rmse:0.21299\tvalidation_1-rmse:0.21023\n",
      "[274]\tvalidation_0-rmse:0.21298\tvalidation_1-rmse:0.21023\n",
      "[275]\tvalidation_0-rmse:0.21298\tvalidation_1-rmse:0.21023\n",
      "[276]\tvalidation_0-rmse:0.21298\tvalidation_1-rmse:0.21022\n",
      "[277]\tvalidation_0-rmse:0.21297\tvalidation_1-rmse:0.21022\n",
      "[278]\tvalidation_0-rmse:0.21296\tvalidation_1-rmse:0.21021\n",
      "[279]\tvalidation_0-rmse:0.21296\tvalidation_1-rmse:0.21020\n",
      "[280]\tvalidation_0-rmse:0.21295\tvalidation_1-rmse:0.21020\n",
      "[281]\tvalidation_0-rmse:0.21295\tvalidation_1-rmse:0.21019\n",
      "[282]\tvalidation_0-rmse:0.21295\tvalidation_1-rmse:0.21019\n",
      "[283]\tvalidation_0-rmse:0.21295\tvalidation_1-rmse:0.21020\n",
      "[284]\tvalidation_0-rmse:0.21295\tvalidation_1-rmse:0.21019\n",
      "[285]\tvalidation_0-rmse:0.21293\tvalidation_1-rmse:0.21018\n",
      "[286]\tvalidation_0-rmse:0.21293\tvalidation_1-rmse:0.21019\n",
      "[287]\tvalidation_0-rmse:0.21293\tvalidation_1-rmse:0.21019\n",
      "[288]\tvalidation_0-rmse:0.21292\tvalidation_1-rmse:0.21018\n",
      "[289]\tvalidation_0-rmse:0.21292\tvalidation_1-rmse:0.21018\n",
      "[290]\tvalidation_0-rmse:0.21292\tvalidation_1-rmse:0.21018\n",
      "[291]\tvalidation_0-rmse:0.21292\tvalidation_1-rmse:0.21018\n",
      "[292]\tvalidation_0-rmse:0.21292\tvalidation_1-rmse:0.21018\n",
      "[293]\tvalidation_0-rmse:0.21292\tvalidation_1-rmse:0.21018\n",
      "[294]\tvalidation_0-rmse:0.21291\tvalidation_1-rmse:0.21018\n",
      "[295]\tvalidation_0-rmse:0.21291\tvalidation_1-rmse:0.21018\n",
      "[296]\tvalidation_0-rmse:0.21291\tvalidation_1-rmse:0.21018\n",
      "[297]\tvalidation_0-rmse:0.21291\tvalidation_1-rmse:0.21018\n",
      "[298]\tvalidation_0-rmse:0.21291\tvalidation_1-rmse:0.21018\n",
      "[299]\tvalidation_0-rmse:0.21291\tvalidation_1-rmse:0.21018\n",
      "[300]\tvalidation_0-rmse:0.21291\tvalidation_1-rmse:0.21018\n",
      "[301]\tvalidation_0-rmse:0.21291\tvalidation_1-rmse:0.21018\n",
      "[302]\tvalidation_0-rmse:0.21291\tvalidation_1-rmse:0.21018\n",
      "[303]\tvalidation_0-rmse:0.21291\tvalidation_1-rmse:0.21018\n",
      "[304]\tvalidation_0-rmse:0.21291\tvalidation_1-rmse:0.21018\n",
      "[305]\tvalidation_0-rmse:0.21291\tvalidation_1-rmse:0.21018\n",
      "[306]\tvalidation_0-rmse:0.21291\tvalidation_1-rmse:0.21018\n",
      "[307]\tvalidation_0-rmse:0.21291\tvalidation_1-rmse:0.21018\n",
      "[308]\tvalidation_0-rmse:0.21291\tvalidation_1-rmse:0.21018\n",
      "[309]\tvalidation_0-rmse:0.21290\tvalidation_1-rmse:0.21018\n",
      "[310]\tvalidation_0-rmse:0.21290\tvalidation_1-rmse:0.21018\n",
      "[311]\tvalidation_0-rmse:0.21290\tvalidation_1-rmse:0.21018\n",
      "[312]\tvalidation_0-rmse:0.21290\tvalidation_1-rmse:0.21018\n",
      "[313]\tvalidation_0-rmse:0.21290\tvalidation_1-rmse:0.21018\n",
      "[314]\tvalidation_0-rmse:0.21290\tvalidation_1-rmse:0.21018\n",
      "[315]\tvalidation_0-rmse:0.21290\tvalidation_1-rmse:0.21018\n",
      "[316]\tvalidation_0-rmse:0.21290\tvalidation_1-rmse:0.21018\n",
      "[317]\tvalidation_0-rmse:0.21290\tvalidation_1-rmse:0.21018\n",
      "[318]\tvalidation_0-rmse:0.21290\tvalidation_1-rmse:0.21018\n",
      "[319]\tvalidation_0-rmse:0.21290\tvalidation_1-rmse:0.21018\n",
      "[320]\tvalidation_0-rmse:0.21290\tvalidation_1-rmse:0.21018\n",
      "[321]\tvalidation_0-rmse:0.21289\tvalidation_1-rmse:0.21018\n",
      "[322]\tvalidation_0-rmse:0.21289\tvalidation_1-rmse:0.21018\n",
      "[323]\tvalidation_0-rmse:0.21288\tvalidation_1-rmse:0.21017\n",
      "[324]\tvalidation_0-rmse:0.21288\tvalidation_1-rmse:0.21016\n",
      "[325]\tvalidation_0-rmse:0.21288\tvalidation_1-rmse:0.21017\n",
      "[326]\tvalidation_0-rmse:0.21288\tvalidation_1-rmse:0.21016\n",
      "[327]\tvalidation_0-rmse:0.21288\tvalidation_1-rmse:0.21016\n",
      "[328]\tvalidation_0-rmse:0.21288\tvalidation_1-rmse:0.21016\n",
      "[329]\tvalidation_0-rmse:0.21288\tvalidation_1-rmse:0.21016\n",
      "[330]\tvalidation_0-rmse:0.21287\tvalidation_1-rmse:0.21016\n",
      "[331]\tvalidation_0-rmse:0.21287\tvalidation_1-rmse:0.21016\n",
      "[332]\tvalidation_0-rmse:0.21287\tvalidation_1-rmse:0.21016\n",
      "[333]\tvalidation_0-rmse:0.21287\tvalidation_1-rmse:0.21016\n",
      "[334]\tvalidation_0-rmse:0.21287\tvalidation_1-rmse:0.21016\n",
      "[335]\tvalidation_0-rmse:0.21287\tvalidation_1-rmse:0.21016\n",
      "[336]\tvalidation_0-rmse:0.21287\tvalidation_1-rmse:0.21016\n",
      "[337]\tvalidation_0-rmse:0.21286\tvalidation_1-rmse:0.21015\n",
      "[338]\tvalidation_0-rmse:0.21285\tvalidation_1-rmse:0.21015\n",
      "[339]\tvalidation_0-rmse:0.21285\tvalidation_1-rmse:0.21015\n",
      "[340]\tvalidation_0-rmse:0.21284\tvalidation_1-rmse:0.21014\n",
      "[341]\tvalidation_0-rmse:0.21284\tvalidation_1-rmse:0.21014\n",
      "[342]\tvalidation_0-rmse:0.21283\tvalidation_1-rmse:0.21013\n",
      "[343]\tvalidation_0-rmse:0.21283\tvalidation_1-rmse:0.21013\n",
      "[344]\tvalidation_0-rmse:0.21282\tvalidation_1-rmse:0.21012\n",
      "[345]\tvalidation_0-rmse:0.21282\tvalidation_1-rmse:0.21012\n",
      "[346]\tvalidation_0-rmse:0.21282\tvalidation_1-rmse:0.21012\n",
      "[347]\tvalidation_0-rmse:0.21281\tvalidation_1-rmse:0.21011\n",
      "[348]\tvalidation_0-rmse:0.21280\tvalidation_1-rmse:0.21010\n",
      "[349]\tvalidation_0-rmse:0.21280\tvalidation_1-rmse:0.21010\n",
      "[350]\tvalidation_0-rmse:0.21280\tvalidation_1-rmse:0.21010\n",
      "[351]\tvalidation_0-rmse:0.21280\tvalidation_1-rmse:0.21010\n",
      "[352]\tvalidation_0-rmse:0.21279\tvalidation_1-rmse:0.21009\n",
      "[353]\tvalidation_0-rmse:0.21279\tvalidation_1-rmse:0.21008\n",
      "[354]\tvalidation_0-rmse:0.21278\tvalidation_1-rmse:0.21008\n",
      "[355]\tvalidation_0-rmse:0.21278\tvalidation_1-rmse:0.21007\n",
      "[356]\tvalidation_0-rmse:0.21278\tvalidation_1-rmse:0.21007\n",
      "[357]\tvalidation_0-rmse:0.21278\tvalidation_1-rmse:0.21007\n",
      "[358]\tvalidation_0-rmse:0.21278\tvalidation_1-rmse:0.21007\n",
      "[359]\tvalidation_0-rmse:0.21278\tvalidation_1-rmse:0.21008\n",
      "[360]\tvalidation_0-rmse:0.21278\tvalidation_1-rmse:0.21008\n",
      "[361]\tvalidation_0-rmse:0.21268\tvalidation_1-rmse:0.21007\n",
      "[362]\tvalidation_0-rmse:0.21268\tvalidation_1-rmse:0.21007\n",
      "[363]\tvalidation_0-rmse:0.21268\tvalidation_1-rmse:0.21007\n",
      "[364]\tvalidation_0-rmse:0.21268\tvalidation_1-rmse:0.21007\n",
      "[365]\tvalidation_0-rmse:0.21268\tvalidation_1-rmse:0.21007\n",
      "[366]\tvalidation_0-rmse:0.21268\tvalidation_1-rmse:0.21006\n",
      "[367]\tvalidation_0-rmse:0.21268\tvalidation_1-rmse:0.21006\n",
      "[368]\tvalidation_0-rmse:0.21267\tvalidation_1-rmse:0.21006\n",
      "[369]\tvalidation_0-rmse:0.21267\tvalidation_1-rmse:0.21006\n",
      "[370]\tvalidation_0-rmse:0.21267\tvalidation_1-rmse:0.21006\n",
      "[371]\tvalidation_0-rmse:0.21267\tvalidation_1-rmse:0.21005\n",
      "[372]\tvalidation_0-rmse:0.21267\tvalidation_1-rmse:0.21005\n",
      "[373]\tvalidation_0-rmse:0.21267\tvalidation_1-rmse:0.21005\n",
      "[374]\tvalidation_0-rmse:0.21267\tvalidation_1-rmse:0.21006\n",
      "[375]\tvalidation_0-rmse:0.21266\tvalidation_1-rmse:0.21005\n",
      "[376]\tvalidation_0-rmse:0.21266\tvalidation_1-rmse:0.21005\n",
      "[377]\tvalidation_0-rmse:0.21266\tvalidation_1-rmse:0.21005\n",
      "[378]\tvalidation_0-rmse:0.21275\tvalidation_1-rmse:0.21005\n",
      "[379]\tvalidation_0-rmse:0.21275\tvalidation_1-rmse:0.21005\n",
      "[380]\tvalidation_0-rmse:0.21275\tvalidation_1-rmse:0.21005\n",
      "[381]\tvalidation_0-rmse:0.21266\tvalidation_1-rmse:0.21005\n",
      "[382]\tvalidation_0-rmse:0.21266\tvalidation_1-rmse:0.21005\n",
      "[383]\tvalidation_0-rmse:0.21266\tvalidation_1-rmse:0.21005\n",
      "[384]\tvalidation_0-rmse:0.21275\tvalidation_1-rmse:0.21005\n",
      "[385]\tvalidation_0-rmse:0.21275\tvalidation_1-rmse:0.21005\n",
      "[386]\tvalidation_0-rmse:0.21275\tvalidation_1-rmse:0.21005\n",
      "[387]\tvalidation_0-rmse:0.21275\tvalidation_1-rmse:0.21005\n",
      "[388]\tvalidation_0-rmse:0.21266\tvalidation_1-rmse:0.21005\n",
      "[389]\tvalidation_0-rmse:0.21265\tvalidation_1-rmse:0.21004\n",
      "[390]\tvalidation_0-rmse:0.21265\tvalidation_1-rmse:0.21004\n",
      "[391]\tvalidation_0-rmse:0.21274\tvalidation_1-rmse:0.21004\n",
      "[392]\tvalidation_0-rmse:0.21274\tvalidation_1-rmse:0.21004\n",
      "[393]\tvalidation_0-rmse:0.21274\tvalidation_1-rmse:0.21004\n",
      "[394]\tvalidation_0-rmse:0.21274\tvalidation_1-rmse:0.21004\n",
      "[395]\tvalidation_0-rmse:0.21274\tvalidation_1-rmse:0.21004\n",
      "[396]\tvalidation_0-rmse:0.21273\tvalidation_1-rmse:0.21004\n",
      "[397]\tvalidation_0-rmse:0.21273\tvalidation_1-rmse:0.21004\n",
      "[398]\tvalidation_0-rmse:0.21273\tvalidation_1-rmse:0.21004\n",
      "[399]\tvalidation_0-rmse:0.21273\tvalidation_1-rmse:0.21004\n",
      "[400]\tvalidation_0-rmse:0.21273\tvalidation_1-rmse:0.21004\n",
      "[401]\tvalidation_0-rmse:0.21273\tvalidation_1-rmse:0.21004\n",
      "[402]\tvalidation_0-rmse:0.21273\tvalidation_1-rmse:0.21004\n",
      "[403]\tvalidation_0-rmse:0.21273\tvalidation_1-rmse:0.21004\n",
      "[404]\tvalidation_0-rmse:0.21273\tvalidation_1-rmse:0.21004\n",
      "[405]\tvalidation_0-rmse:0.21273\tvalidation_1-rmse:0.21004\n",
      "[406]\tvalidation_0-rmse:0.21273\tvalidation_1-rmse:0.21004\n",
      "[407]\tvalidation_0-rmse:0.21273\tvalidation_1-rmse:0.21004\n",
      "[408]\tvalidation_0-rmse:0.21273\tvalidation_1-rmse:0.21004\n",
      "[409]\tvalidation_0-rmse:0.21273\tvalidation_1-rmse:0.21004\n",
      "[410]\tvalidation_0-rmse:0.21273\tvalidation_1-rmse:0.21004\n",
      "[411]\tvalidation_0-rmse:0.21273\tvalidation_1-rmse:0.21004\n",
      "[412]\tvalidation_0-rmse:0.21273\tvalidation_1-rmse:0.21004\n",
      "[413]\tvalidation_0-rmse:0.21273\tvalidation_1-rmse:0.21004\n",
      "[414]\tvalidation_0-rmse:0.21272\tvalidation_1-rmse:0.21004\n",
      "[415]\tvalidation_0-rmse:0.21272\tvalidation_1-rmse:0.21004\n"
     ]
    }
   ],
   "source": [
    "gbm = xgb.XGBRegressor( \n",
    "                       n_estimators=30000, #arbitrary large number\n",
    "                       max_depth=3,\n",
    "                       objective=\"reg:squarederror\",  # Other options: https://xgboost.readthedocs.io/en/latest/parameter.html#learning-task-parameters\n",
    "                       learning_rate=.1, \n",
    "                       subsample=1,\n",
    "                       min_child_weight=1,\n",
    "                       colsample_bytree=.8\n",
    "                      )\n",
    "\n",
    "eval_set=[(X_train2,y_train2),(X_val,y_val)] #tracking train/validation error as we go\n",
    "fit_model = gbm.fit( \n",
    "                    X_train2, y_train2, \n",
    "                    eval_set=eval_set,\n",
    "                    eval_metric='rmse',\n",
    "                    early_stopping_rounds=20,\n",
    "                    #verbose=True #gives output log as below\n",
    "                   )"
   ]
  },
  {
   "cell_type": "code",
   "execution_count": 91,
   "metadata": {},
   "outputs": [
    {
     "name": "stderr",
     "output_type": "stream",
     "text": [
      "/home/desbrium/anaconda3/lib/python3.8/site-packages/xgboost/core.py:101: UserWarning: ntree_limit is deprecated, use `iteration_range` or model slicing instead.\n",
      "  warnings.warn(\n"
     ]
    },
    {
     "data": {
      "text/plain": [
       "0.2132275172850684"
      ]
     },
     "execution_count": 91,
     "metadata": {},
     "output_type": "execute_result"
    }
   ],
   "source": [
    "sqrt(mean_squared_error(gbm.predict(X_test, ntree_limit=gbm.best_ntree_limit),y_test))"
   ]
  },
  {
   "cell_type": "code",
   "execution_count": 92,
   "metadata": {},
   "outputs": [
    {
     "data": {
      "text/plain": [
       "<AxesSubplot:title={'center':'Feature importance'}, xlabel='F score', ylabel='Features'>"
      ]
     },
     "execution_count": 92,
     "metadata": {},
     "output_type": "execute_result"
    },
    {
     "data": {
      "image/png": "[encoded data removed]",
      "text/plain": [
       "<Figure size 432x288 with 1 Axes>"
      ]
     },
     "metadata": {},
     "output_type": "display_data"
    },
    {
     "data": {
      "image/png": "[encoded data removed]",
      "text/plain": [
       "<Figure size 432x288 with 1 Axes>"
      ]
     },
     "metadata": {},
     "output_type": "display_data"
    }
   ],
   "source": [
    "xgb.plot_importance(gbm)\n",
    "xgb.plot_importance(gbm, importance_type='gain')"
   ]
  },
  {
   "cell_type": "code",
   "execution_count": null,
   "metadata": {},
   "outputs": [],
   "source": []
  }
 ],
 "metadata": {
  "kernelspec": {
   "display_name": "Python 3",
   "language": "python",
   "name": "python3"
  },
  "language_info": {
   "codemirror_mode": {
    "name": "ipython",
    "version": 3
   },
   "file_extension": ".py",
   "mimetype": "text/x-python",
   "name": "python",
   "nbconvert_exporter": "python",
   "pygments_lexer": "ipython3",
   "version": "3.8.5"
  }
 },
 "nbformat": 4,
 "nbformat_minor": 4
}
