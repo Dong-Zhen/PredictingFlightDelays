{
 "cells": [
  {
   "cell_type": "code",
   "execution_count": 72,
   "metadata": {},
   "outputs": [],
   "source": [
    "import pandas as pd\n",
    "import numpy as np\n",
    "import os"
   ]
  },
  {
   "cell_type": "code",
   "execution_count": 73,
   "metadata": {},
   "outputs": [],
   "source": [
    "import matplotlib.pyplot as plt\n",
    "import matplotlib.cm as cm\n",
    "%matplotlib inline\n",
    "import seaborn as sns\n",
    "sns.set()"
   ]
  },
  {
   "cell_type": "code",
   "execution_count": 74,
   "metadata": {},
   "outputs": [],
   "source": [
    "from math import sqrt"
   ]
  },
  {
   "cell_type": "code",
   "execution_count": 86,
   "metadata": {},
   "outputs": [],
   "source": [
    "from sklearn.metrics import (r2_score, mean_squared_error, mean_absolute_error)\n",
    "from sklearn.model_selection import (cross_val_score, cross_val_predict, train_test_split, \n",
    "                                     KFold, StratifiedKFold, GridSearchCV)\n",
    "from sklearn.metrics import precision_score, recall_score, accuracy_score, f1_score, roc_auc_score, roc_curve\n",
    "from sklearn.metrics import confusion_matrix"
   ]
  },
  {
   "cell_type": "code",
   "execution_count": 76,
   "metadata": {},
   "outputs": [],
   "source": [
    "from sklearn.ensemble import RandomForestClassifier"
   ]
  },
  {
   "cell_type": "code",
   "execution_count": 77,
   "metadata": {},
   "outputs": [],
   "source": [
    "from sklearn.naive_bayes import BernoulliNB, MultinomialNB, GaussianNB"
   ]
  },
  {
   "cell_type": "code",
   "execution_count": 78,
   "metadata": {},
   "outputs": [],
   "source": [
    "selection = 25\n",
    "year = '2019'\n",
    "airline = 'DL'\n",
    "download_path = r'/home/desbrium/Metis/PredictingFlightDelays/Data/BTS Departure Data'\n",
    "file_path = os.path.join(download_path, f'{selection}airports{airline}{year}.csv')"
   ]
  },
  {
   "cell_type": "code",
   "execution_count": 79,
   "metadata": {},
   "outputs": [],
   "source": [
    "delta_df = pd.read_csv(file_path)"
   ]
  },
  {
   "cell_type": "code",
   "execution_count": 8,
   "metadata": {},
   "outputs": [],
   "source": [
    "X = delta_df[['Origin Airport', 'Origin Region', 'Actual Departure Time Name',\n",
    "       'Distance Range Name', 'Minutes Delayed By Carrier',\n",
    "       'Minutes Delayed By Weather', 'Minutes Delayed By NAS',\n",
    "       'Minutes Delayed By Security', 'Minutes Delayed By Late Arrival',\n",
    "        ]]"
   ]
  },
  {
   "cell_type": "code",
   "execution_count": 9,
   "metadata": {},
   "outputs": [],
   "source": [
    "y = delta_df['Delayed Departure']"
   ]
  },
  {
   "cell_type": "code",
   "execution_count": 10,
   "metadata": {},
   "outputs": [
    {
     "name": "stdout",
     "output_type": "stream",
     "text": [
      "Number of delayed Delta flights in 2019: 105882, 15% were delayed\n",
      "Number of not delayed Delta flights in 2019: -105881, 85% were not delayed\n"
     ]
    }
   ],
   "source": [
    "delayed = y.sum()\n",
    "perc_delayed = round(y.sum()/y.count(),2)\n",
    "print(f'Number of delayed Delta flights in 2019: {delayed}, {int(perc_delayed*100)}% were delayed')\n",
    "\n",
    "not_delayed = delta_df_target.count() - delayed \n",
    "perc_not_delayed = 1 - perc_delayed\n",
    "print(f'Number of not delayed Delta flights in 2019: {not_delayed}, {int(perc_not_delayed*100)}% were not delayed')"
   ]
  },
  {
   "cell_type": "code",
   "execution_count": 18,
   "metadata": {},
   "outputs": [],
   "source": [
    "X = pd.get_dummies(X,columns=['Origin Airport', 'Origin Region', 'Actual Departure Time Name',\n",
    "       'Distance Range Name'],drop_first=True)"
   ]
  },
  {
   "cell_type": "code",
   "execution_count": 20,
   "metadata": {},
   "outputs": [],
   "source": [
    "X_train, X_test, y_train, y_test = train_test_split(X, y, test_size = 0.2, random_state=42, stratify = y)\n",
    "\n",
    "X_train2, X_val, y_train2, y_val = train_test_split(X_train, y_train, test_size=0.2, random_state=42, stratify = y_train)"
   ]
  },
  {
   "cell_type": "markdown",
   "metadata": {},
   "source": [
    "# Random Forest"
   ]
  },
  {
   "cell_type": "code",
   "execution_count": 21,
   "metadata": {},
   "outputs": [],
   "source": [
    "rf = RandomForestClassifier(n_estimators=100, max_depth=7)"
   ]
  },
  {
   "cell_type": "code",
   "execution_count": 22,
   "metadata": {},
   "outputs": [
    {
     "data": {
      "text/plain": [
       "0.9479018807665011"
      ]
     },
     "execution_count": 22,
     "metadata": {},
     "output_type": "execute_result"
    }
   ],
   "source": [
    "rf.fit(X_train2, y_train2)\n",
    "\n",
    "rf.score(X_train2, y_train2)"
   ]
  },
  {
   "cell_type": "code",
   "execution_count": 23,
   "metadata": {},
   "outputs": [],
   "source": [
    "y_val_pred = rf.predict(X_val)"
   ]
  },
  {
   "cell_type": "code",
   "execution_count": 24,
   "metadata": {},
   "outputs": [
    {
     "name": "stdout",
     "output_type": "stream",
     "text": [
      "recall_score:0.6804202821557169\n",
      "precision_score:0.9751290076981642\n",
      "accuracy_score:0.949361249112846\n",
      "f1_score:0.8015437034976706\n",
      "roc_auc_score:0.8386753578790361\n"
     ]
    }
   ],
   "source": [
    "print(f'recall_score:{recall_score(y_val, y_val_pred)}')\n",
    "print(f'precision_score:{precision_score(y_val, y_val_pred)}')\n",
    "print(f'accuracy_score:{accuracy_score(y_val, y_val_pred)}')\n",
    "print(f'f1_score:{f1_score(y_val, y_val_pred)}')\n",
    "print(f'roc_auc_score:{roc_auc_score(y_val, y_val_pred)}')"
   ]
  },
  {
   "cell_type": "code",
   "execution_count": 25,
   "metadata": {},
   "outputs": [
    {
     "data": {
      "text/plain": [
       "array([0.94732523, 0.94749157, 0.94758029, 0.94608322, 0.94853398])"
      ]
     },
     "execution_count": 25,
     "metadata": {},
     "output_type": "execute_result"
    }
   ],
   "source": [
    "kfold = KFold(n_splits=5, shuffle=True, random_state=42)\n",
    "\n",
    "cross_val_score(rf, X_train2, y_train2, cv=kfold)"
   ]
  },
  {
   "cell_type": "code",
   "execution_count": 26,
   "metadata": {},
   "outputs": [],
   "source": [
    "rf_features_dict = {'Features': X.columns, 'Importance': rf.feature_importances_}\n",
    "rf_features = pd.DataFrame(rf_features_dict)\n",
    "rf_features = rf_features.sort_values('Importance', ascending = False)\n",
    "rf_features"
   ]
  },
  {
   "cell_type": "code",
   "execution_count": 27,
   "metadata": {},
   "outputs": [],
   "source": [
    "rf_features = pd.DataFrame(rf_features_dict)"
   ]
  },
  {
   "cell_type": "code",
   "execution_count": 31,
   "metadata": {},
   "outputs": [],
   "source": [
    "rf_features = rf_features.sort_values('Importance', ascending = False)"
   ]
  },
  {
   "cell_type": "code",
   "execution_count": 33,
   "metadata": {},
   "outputs": [
    {
     "data": {
      "text/html": [
       "<div>\n",
       "<style scoped>\n",
       "    .dataframe tbody tr th:only-of-type {\n",
       "        vertical-align: middle;\n",
       "    }\n",
       "\n",
       "    .dataframe tbody tr th {\n",
       "        vertical-align: top;\n",
       "    }\n",
       "\n",
       "    .dataframe thead th {\n",
       "        text-align: right;\n",
       "    }\n",
       "</style>\n",
       "<table border=\"1\" class=\"dataframe\">\n",
       "  <thead>\n",
       "    <tr style=\"text-align: right;\">\n",
       "      <th></th>\n",
       "      <th>Features</th>\n",
       "      <th>Importance</th>\n",
       "    </tr>\n",
       "  </thead>\n",
       "  <tbody>\n",
       "    <tr>\n",
       "      <th>0</th>\n",
       "      <td>Minutes Delayed By Carrier</td>\n",
       "      <td>0.461026</td>\n",
       "    </tr>\n",
       "    <tr>\n",
       "      <th>4</th>\n",
       "      <td>Minutes Delayed By Late Arrival</td>\n",
       "      <td>0.298448</td>\n",
       "    </tr>\n",
       "    <tr>\n",
       "      <th>2</th>\n",
       "      <td>Minutes Delayed By NAS</td>\n",
       "      <td>0.140121</td>\n",
       "    </tr>\n",
       "    <tr>\n",
       "      <th>1</th>\n",
       "      <td>Minutes Delayed By Weather</td>\n",
       "      <td>0.052594</td>\n",
       "    </tr>\n",
       "    <tr>\n",
       "      <th>34</th>\n",
       "      <td>Actual Departure Time Name_Night</td>\n",
       "      <td>0.012884</td>\n",
       "    </tr>\n",
       "    <tr>\n",
       "      <th>30</th>\n",
       "      <td>Actual Departure Time Name_Early Morning</td>\n",
       "      <td>0.008998</td>\n",
       "    </tr>\n",
       "    <tr>\n",
       "      <th>32</th>\n",
       "      <td>Actual Departure Time Name_Late Night</td>\n",
       "      <td>0.007277</td>\n",
       "    </tr>\n",
       "    <tr>\n",
       "      <th>33</th>\n",
       "      <td>Actual Departure Time Name_Morning</td>\n",
       "      <td>0.005187</td>\n",
       "    </tr>\n",
       "    <tr>\n",
       "      <th>31</th>\n",
       "      <td>Actual Departure Time Name_Evening</td>\n",
       "      <td>0.003329</td>\n",
       "    </tr>\n",
       "    <tr>\n",
       "      <th>27</th>\n",
       "      <td>Origin Region_Northeast</td>\n",
       "      <td>0.001846</td>\n",
       "    </tr>\n",
       "    <tr>\n",
       "      <th>16</th>\n",
       "      <td>Origin Airport_LGA</td>\n",
       "      <td>0.001077</td>\n",
       "    </tr>\n",
       "    <tr>\n",
       "      <th>43</th>\n",
       "      <td>Distance Range Name_90-583</td>\n",
       "      <td>0.001054</td>\n",
       "    </tr>\n",
       "    <tr>\n",
       "      <th>13</th>\n",
       "      <td>Origin Airport_JFK</td>\n",
       "      <td>0.000835</td>\n",
       "    </tr>\n",
       "    <tr>\n",
       "      <th>3</th>\n",
       "      <td>Minutes Delayed By Security</td>\n",
       "      <td>0.000649</td>\n",
       "    </tr>\n",
       "    <tr>\n",
       "      <th>29</th>\n",
       "      <td>Origin Region_West</td>\n",
       "      <td>0.000549</td>\n",
       "    </tr>\n",
       "    <tr>\n",
       "      <th>21</th>\n",
       "      <td>Origin Airport_ORD</td>\n",
       "      <td>0.000471</td>\n",
       "    </tr>\n",
       "    <tr>\n",
       "      <th>15</th>\n",
       "      <td>Origin Airport_LAX</td>\n",
       "      <td>0.000409</td>\n",
       "    </tr>\n",
       "    <tr>\n",
       "      <th>42</th>\n",
       "      <td>Distance Range Name_583-1072</td>\n",
       "      <td>0.000398</td>\n",
       "    </tr>\n",
       "    <tr>\n",
       "      <th>28</th>\n",
       "      <td>Origin Region_South</td>\n",
       "      <td>0.000325</td>\n",
       "    </tr>\n",
       "    <tr>\n",
       "      <th>12</th>\n",
       "      <td>Origin Airport_IAH</td>\n",
       "      <td>0.000286</td>\n",
       "    </tr>\n",
       "    <tr>\n",
       "      <th>36</th>\n",
       "      <td>Distance Range Name_2050-2539</td>\n",
       "      <td>0.000262</td>\n",
       "    </tr>\n",
       "    <tr>\n",
       "      <th>26</th>\n",
       "      <td>Origin Airport_SLC</td>\n",
       "      <td>0.000248</td>\n",
       "    </tr>\n",
       "    <tr>\n",
       "      <th>5</th>\n",
       "      <td>Origin Airport_BOS</td>\n",
       "      <td>0.000223</td>\n",
       "    </tr>\n",
       "    <tr>\n",
       "      <th>11</th>\n",
       "      <td>Origin Airport_FLL</td>\n",
       "      <td>0.000198</td>\n",
       "    </tr>\n",
       "    <tr>\n",
       "      <th>25</th>\n",
       "      <td>Origin Airport_SFO</td>\n",
       "      <td>0.000194</td>\n",
       "    </tr>\n",
       "    <tr>\n",
       "      <th>35</th>\n",
       "      <td>Distance Range Name_1561-2050</td>\n",
       "      <td>0.000188</td>\n",
       "    </tr>\n",
       "    <tr>\n",
       "      <th>19</th>\n",
       "      <td>Origin Airport_MIA</td>\n",
       "      <td>0.000148</td>\n",
       "    </tr>\n",
       "    <tr>\n",
       "      <th>10</th>\n",
       "      <td>Origin Airport_DTW</td>\n",
       "      <td>0.000125</td>\n",
       "    </tr>\n",
       "    <tr>\n",
       "      <th>20</th>\n",
       "      <td>Origin Airport_MSP</td>\n",
       "      <td>0.000110</td>\n",
       "    </tr>\n",
       "    <tr>\n",
       "      <th>17</th>\n",
       "      <td>Origin Airport_MCO</td>\n",
       "      <td>0.000097</td>\n",
       "    </tr>\n",
       "    <tr>\n",
       "      <th>24</th>\n",
       "      <td>Origin Airport_SEA</td>\n",
       "      <td>0.000091</td>\n",
       "    </tr>\n",
       "    <tr>\n",
       "      <th>22</th>\n",
       "      <td>Origin Airport_PHL</td>\n",
       "      <td>0.000069</td>\n",
       "    </tr>\n",
       "    <tr>\n",
       "      <th>14</th>\n",
       "      <td>Origin Airport_LAS</td>\n",
       "      <td>0.000066</td>\n",
       "    </tr>\n",
       "    <tr>\n",
       "      <th>8</th>\n",
       "      <td>Origin Airport_DCA</td>\n",
       "      <td>0.000055</td>\n",
       "    </tr>\n",
       "    <tr>\n",
       "      <th>37</th>\n",
       "      <td>Distance Range Name_2539-3027</td>\n",
       "      <td>0.000046</td>\n",
       "    </tr>\n",
       "    <tr>\n",
       "      <th>9</th>\n",
       "      <td>Origin Airport_DEN</td>\n",
       "      <td>0.000034</td>\n",
       "    </tr>\n",
       "    <tr>\n",
       "      <th>6</th>\n",
       "      <td>Origin Airport_BWI</td>\n",
       "      <td>0.000033</td>\n",
       "    </tr>\n",
       "    <tr>\n",
       "      <th>7</th>\n",
       "      <td>Origin Airport_CLT</td>\n",
       "      <td>0.000018</td>\n",
       "    </tr>\n",
       "    <tr>\n",
       "      <th>23</th>\n",
       "      <td>Origin Airport_PHX</td>\n",
       "      <td>0.000010</td>\n",
       "    </tr>\n",
       "    <tr>\n",
       "      <th>38</th>\n",
       "      <td>Distance Range Name_3027-3516</td>\n",
       "      <td>0.000006</td>\n",
       "    </tr>\n",
       "    <tr>\n",
       "      <th>41</th>\n",
       "      <td>Distance Range Name_4494-4983</td>\n",
       "      <td>0.000004</td>\n",
       "    </tr>\n",
       "    <tr>\n",
       "      <th>18</th>\n",
       "      <td>Origin Airport_MDW</td>\n",
       "      <td>0.000004</td>\n",
       "    </tr>\n",
       "    <tr>\n",
       "      <th>39</th>\n",
       "      <td>Distance Range Name_3516-4005</td>\n",
       "      <td>0.000003</td>\n",
       "    </tr>\n",
       "    <tr>\n",
       "      <th>40</th>\n",
       "      <td>Distance Range Name_4005-4494</td>\n",
       "      <td>0.000000</td>\n",
       "    </tr>\n",
       "  </tbody>\n",
       "</table>\n",
       "</div>"
      ],
      "text/plain": [
       "                                    Features  Importance\n",
       "0                 Minutes Delayed By Carrier    0.461026\n",
       "4            Minutes Delayed By Late Arrival    0.298448\n",
       "2                     Minutes Delayed By NAS    0.140121\n",
       "1                 Minutes Delayed By Weather    0.052594\n",
       "34          Actual Departure Time Name_Night    0.012884\n",
       "30  Actual Departure Time Name_Early Morning    0.008998\n",
       "32     Actual Departure Time Name_Late Night    0.007277\n",
       "33        Actual Departure Time Name_Morning    0.005187\n",
       "31        Actual Departure Time Name_Evening    0.003329\n",
       "27                   Origin Region_Northeast    0.001846\n",
       "16                        Origin Airport_LGA    0.001077\n",
       "43                Distance Range Name_90-583    0.001054\n",
       "13                        Origin Airport_JFK    0.000835\n",
       "3                Minutes Delayed By Security    0.000649\n",
       "29                        Origin Region_West    0.000549\n",
       "21                        Origin Airport_ORD    0.000471\n",
       "15                        Origin Airport_LAX    0.000409\n",
       "42              Distance Range Name_583-1072    0.000398\n",
       "28                       Origin Region_South    0.000325\n",
       "12                        Origin Airport_IAH    0.000286\n",
       "36             Distance Range Name_2050-2539    0.000262\n",
       "26                        Origin Airport_SLC    0.000248\n",
       "5                         Origin Airport_BOS    0.000223\n",
       "11                        Origin Airport_FLL    0.000198\n",
       "25                        Origin Airport_SFO    0.000194\n",
       "35             Distance Range Name_1561-2050    0.000188\n",
       "19                        Origin Airport_MIA    0.000148\n",
       "10                        Origin Airport_DTW    0.000125\n",
       "20                        Origin Airport_MSP    0.000110\n",
       "17                        Origin Airport_MCO    0.000097\n",
       "24                        Origin Airport_SEA    0.000091\n",
       "22                        Origin Airport_PHL    0.000069\n",
       "14                        Origin Airport_LAS    0.000066\n",
       "8                         Origin Airport_DCA    0.000055\n",
       "37             Distance Range Name_2539-3027    0.000046\n",
       "9                         Origin Airport_DEN    0.000034\n",
       "6                         Origin Airport_BWI    0.000033\n",
       "7                         Origin Airport_CLT    0.000018\n",
       "23                        Origin Airport_PHX    0.000010\n",
       "38             Distance Range Name_3027-3516    0.000006\n",
       "41             Distance Range Name_4494-4983    0.000004\n",
       "18                        Origin Airport_MDW    0.000004\n",
       "39             Distance Range Name_3516-4005    0.000003\n",
       "40             Distance Range Name_4005-4494    0.000000"
      ]
     },
     "execution_count": 33,
     "metadata": {},
     "output_type": "execute_result"
    }
   ],
   "source": [
    "rf_features"
   ]
  },
  {
   "cell_type": "code",
   "execution_count": 40,
   "metadata": {},
   "outputs": [],
   "source": [
    "rf = RandomForestClassifier(n_estimators=100, max_depth=10)"
   ]
  },
  {
   "cell_type": "code",
   "execution_count": 41,
   "metadata": {},
   "outputs": [
    {
     "data": {
      "text/plain": [
       "0.9522001419446416"
      ]
     },
     "execution_count": 41,
     "metadata": {},
     "output_type": "execute_result"
    }
   ],
   "source": [
    "rf.fit(X_train2, y_train2)\n",
    "\n",
    "rf.score(X_train2, y_train2)"
   ]
  },
  {
   "cell_type": "code",
   "execution_count": 42,
   "metadata": {},
   "outputs": [],
   "source": [
    "y_val_pred = rf.predict(X_val)"
   ]
  },
  {
   "cell_type": "code",
   "execution_count": 43,
   "metadata": {},
   "outputs": [
    {
     "name": "stdout",
     "output_type": "stream",
     "text": [
      "recall_score:0.7058024909981702\n",
      "precision_score:0.9800819672131148\n",
      "accuracy_score:0.9536284599006387\n",
      "f1_score:0.8206307264678632\n",
      "roc_auc_score:0.8516327002020992\n"
     ]
    }
   ],
   "source": [
    "print(f'recall_score:{recall_score(y_val, y_val_pred)}')\n",
    "print(f'precision_score:{precision_score(y_val, y_val_pred)}')\n",
    "print(f'accuracy_score:{accuracy_score(y_val, y_val_pred)}')\n",
    "print(f'f1_score:{f1_score(y_val, y_val_pred)}')\n",
    "print(f'roc_auc_score:{roc_auc_score(y_val, y_val_pred)}')"
   ]
  },
  {
   "cell_type": "markdown",
   "metadata": {},
   "source": [
    "# Using Less Features"
   ]
  },
  {
   "cell_type": "code",
   "execution_count": 44,
   "metadata": {},
   "outputs": [],
   "source": [
    "X = delta_df[['Origin Region', 'Actual Departure Time Name',\n",
    "       'Minutes Delayed By Carrier','Minutes Delayed By Weather', 'Minutes Delayed By NAS',\n",
    "       'Minutes Delayed By Security', 'Minutes Delayed By Late Arrival',\n",
    "        ]]"
   ]
  },
  {
   "cell_type": "code",
   "execution_count": 46,
   "metadata": {},
   "outputs": [],
   "source": [
    "X = pd.get_dummies(X,columns=['Origin Region', 'Actual Departure Time Name'],drop_first=True)"
   ]
  },
  {
   "cell_type": "code",
   "execution_count": 47,
   "metadata": {},
   "outputs": [],
   "source": [
    "X_train, X_test, y_train, y_test = train_test_split(X, y, test_size = 0.2, random_state=42, stratify = y)\n",
    "\n",
    "X_train2, X_val, y_train2, y_val = train_test_split(X_train, y_train, test_size=0.2, random_state=42, stratify = y_train)"
   ]
  },
  {
   "cell_type": "code",
   "execution_count": 60,
   "metadata": {},
   "outputs": [],
   "source": [
    "rf = RandomForestClassifier(n_estimators=100, max_depth=12)"
   ]
  },
  {
   "cell_type": "code",
   "execution_count": 61,
   "metadata": {},
   "outputs": [
    {
     "data": {
      "text/plain": [
       "0.9562699609652235"
      ]
     },
     "execution_count": 61,
     "metadata": {},
     "output_type": "execute_result"
    }
   ],
   "source": [
    "rf.fit(X_train2, y_train2)\n",
    "\n",
    "rf.score(X_train2, y_train2)"
   ]
  },
  {
   "cell_type": "code",
   "execution_count": 62,
   "metadata": {},
   "outputs": [],
   "source": [
    "y_val_pred = rf.predict(X_val)"
   ]
  },
  {
   "cell_type": "code",
   "execution_count": 63,
   "metadata": {},
   "outputs": [
    {
     "name": "stdout",
     "output_type": "stream",
     "text": [
      "recall_score:0.7262853432501033\n",
      "precision_score:0.9836117995043568\n",
      "accuracy_score:0.9570440028388928\n",
      "f1_score:0.8355857385398981\n",
      "roc_auc_score:0.8620724996666892\n"
     ]
    }
   ],
   "source": [
    "print(f'recall_score:{recall_score(y_val, y_val_pred)}')\n",
    "print(f'precision_score:{precision_score(y_val, y_val_pred)}')\n",
    "print(f'accuracy_score:{accuracy_score(y_val, y_val_pred)}')\n",
    "print(f'f1_score:{f1_score(y_val, y_val_pred)}')\n",
    "print(f'roc_auc_score:{roc_auc_score(y_val, y_val_pred)}')"
   ]
  },
  {
   "cell_type": "code",
   "execution_count": 64,
   "metadata": {},
   "outputs": [
    {
     "data": {
      "text/plain": [
       "array([0.95567557, 0.95580864, 0.95535397, 0.95442246, 0.95677342])"
      ]
     },
     "execution_count": 64,
     "metadata": {},
     "output_type": "execute_result"
    }
   ],
   "source": [
    "kfold = KFold(n_splits=5, shuffle=True, random_state=42)\n",
    "\n",
    "cross_val_score(rf, X_train2, y_train2, cv=kfold)"
   ]
  },
  {
   "cell_type": "code",
   "execution_count": null,
   "metadata": {},
   "outputs": [],
   "source": [
    "#Baseline on couple features with random forest, then boosting. Feature engineering and hyper parametersa(complexity)"
   ]
  },
  {
   "cell_type": "markdown",
   "metadata": {},
   "source": [
    "# Trying Different Feature Combinations"
   ]
  },
  {
   "cell_type": "code",
   "execution_count": 82,
   "metadata": {},
   "outputs": [
    {
     "data": {
      "text/plain": [
       "Index(['Unique_Id', 'Carrier Code', 'Flight Date', 'Flight Number', 'Month',\n",
       "       'Tail Number', 'Origin Airport', 'Origin City', 'Origin State',\n",
       "       'Origin Divison', 'Origin Region', 'Dest Airport', 'Dest City',\n",
       "       'Dest State', 'Dest Divison', 'Dest Region', 'Scheduled Departure Time',\n",
       "       'Actual Departure Time', 'Actual Departure Time Name',\n",
       "       'Minutes Delayed Departing', 'Delayed Departure',\n",
       "       'Scheduled Elapsed Time', 'Actual Elapsed Time', 'Wheels-off Time',\n",
       "       'Taxi-out Time', 'Minutes Delayed By Carrier',\n",
       "       'Minutes Delayed By Weather', 'Minutes Delayed By NAS',\n",
       "       'Minutes Delayed By Security', 'Minutes Delayed By Late Arrival',\n",
       "       'Cancelled', 'Diverted', 'Flights', 'Distance', 'Distance Name',\n",
       "       'Distance Range Name', 'Scheduled Arrival Time', 'Actual Arrival Time',\n",
       "       'Minutes Delayed Arriving', 'AirTime'],\n",
       "      dtype='object')"
      ]
     },
     "execution_count": 82,
     "metadata": {},
     "output_type": "execute_result"
    }
   ],
   "source": [
    "delta_df.columns"
   ]
  },
  {
   "cell_type": "code",
   "execution_count": 90,
   "metadata": {},
   "outputs": [],
   "source": [
    "X = delta_df[['Origin Airport', 'Delayed Departure']]\n",
    "\n",
    "delay_by_airport_ratio = delta_df[['Origin Airport', 'Delayed Departure']].groupby(['Origin Airport']).sum()/ delta_df[['Origin Airport', 'Delayed Departure']].groupby(['Origin Airport']).count()\n",
    "\n",
    "delay_by_airport_ratio = delay_by_airport_ratio.reset_index()\n",
    "\n",
    "X = X.merge(delay_by_airport_ratio, how = 'left', on = 'Origin Airport')"
   ]
  },
  {
   "cell_type": "code",
   "execution_count": 91,
   "metadata": {},
   "outputs": [
    {
     "data": {
      "text/plain": [
       "Index(['Origin Airport', 'Delayed Departure_x', 'Delayed Departure_y'], dtype='object')"
      ]
     },
     "execution_count": 91,
     "metadata": {},
     "output_type": "execute_result"
    }
   ],
   "source": [
    "X.columns"
   ]
  },
  {
   "cell_type": "code",
   "execution_count": 92,
   "metadata": {},
   "outputs": [],
   "source": [
    "y = X['Delayed Departure_x']\n",
    "X = X[['Origin Airport', 'Delayed Departure_y']]"
   ]
  },
  {
   "cell_type": "code",
   "execution_count": 99,
   "metadata": {},
   "outputs": [],
   "source": [
    "X = pd.get_dummies(X,columns=['Origin Airport'],drop_first=True)"
   ]
  },
  {
   "cell_type": "code",
   "execution_count": 100,
   "metadata": {},
   "outputs": [],
   "source": [
    "rf = RandomForestClassifier(n_estimators=100, max_depth=12)"
   ]
  },
  {
   "cell_type": "code",
   "execution_count": 101,
   "metadata": {},
   "outputs": [],
   "source": [
    "X_train, X_test, y_train, y_test = train_test_split(X, y, test_size = 0.2, random_state=42, stratify = y)\n",
    "\n",
    "X_train2, X_val, y_train2, y_val = train_test_split(X_train, y_train, test_size=0.2, random_state=42, stratify = y_train)"
   ]
  },
  {
   "cell_type": "code",
   "execution_count": 103,
   "metadata": {},
   "outputs": [
    {
     "data": {
      "text/plain": [
       "array([0.84971611, 0.84970502, 0.84970502, 0.84970502, 0.84970502])"
      ]
     },
     "execution_count": 103,
     "metadata": {},
     "output_type": "execute_result"
    }
   ],
   "source": [
    "skfold = StratifiedKFold(n_splits=5, shuffle=True, random_state=42)\n",
    "\n",
    "cross_val_score(rf, X_train2, y_train2, cv=skfold)"
   ]
  },
  {
   "cell_type": "code",
   "execution_count": null,
   "metadata": {},
   "outputs": [],
   "source": []
  },
  {
   "cell_type": "markdown",
   "metadata": {},
   "source": [
    "# Naive Bayes"
   ]
  },
  {
   "cell_type": "code",
   "execution_count": 69,
   "metadata": {},
   "outputs": [
    {
     "data": {
      "text/plain": [
       "0.943443931866572"
      ]
     },
     "execution_count": 69,
     "metadata": {},
     "output_type": "execute_result"
    }
   ],
   "source": [
    "nb = GaussianNB()\n",
    "nb.fit(X_train2, y_train2)\n",
    "nb.score(X_val, y_val)"
   ]
  },
  {
   "cell_type": "code",
   "execution_count": 70,
   "metadata": {},
   "outputs": [],
   "source": [
    "y_val_pred = nb.predict(X_val)"
   ]
  },
  {
   "cell_type": "code",
   "execution_count": 71,
   "metadata": {},
   "outputs": [
    {
     "name": "stdout",
     "output_type": "stream",
     "text": [
      "recall_score:0.7406882710583791\n",
      "precision_score:0.8635925671025465\n",
      "accuracy_score:0.943443931866572\n",
      "f1_score:0.7974325569571986\n",
      "roc_auc_score:0.8599973998146802\n"
     ]
    }
   ],
   "source": [
    "print(f'recall_score:{recall_score(y_val, y_val_pred)}')\n",
    "print(f'precision_score:{precision_score(y_val, y_val_pred)}')\n",
    "print(f'accuracy_score:{accuracy_score(y_val, y_val_pred)}')\n",
    "print(f'f1_score:{f1_score(y_val, y_val_pred)}')\n",
    "print(f'roc_auc_score:{roc_auc_score(y_val, y_val_pred)}')"
   ]
  },
  {
   "cell_type": "code",
   "execution_count": 68,
   "metadata": {},
   "outputs": [
    {
     "data": {
      "text/plain": [
       "0.9400195173882185"
      ]
     },
     "execution_count": 68,
     "metadata": {},
     "output_type": "execute_result"
    }
   ],
   "source": [
    "nb = BernoulliNB()\n",
    "nb.fit(X_train2,y_train2)\n",
    "nb.score(X_val,y_val)"
   ]
  },
  {
   "cell_type": "code",
   "execution_count": null,
   "metadata": {},
   "outputs": [],
   "source": []
  }
 ],
 "metadata": {
  "kernelspec": {
   "display_name": "Python 3",
   "language": "python",
   "name": "python3"
  },
  "language_info": {
   "codemirror_mode": {
    "name": "ipython",
    "version": 3
   },
   "file_extension": ".py",
   "mimetype": "text/x-python",
   "name": "python",
   "nbconvert_exporter": "python",
   "pygments_lexer": "ipython3",
   "version": "3.8.5"
  }
 },
 "nbformat": 4,
 "nbformat_minor": 4
}
