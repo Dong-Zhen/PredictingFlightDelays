{
  "nbformat": 4,
  "nbformat_minor": 0,
  "metadata": {
    "colab": {
      "name": "Exploratory Data Analysis.ipynb",
      "provenance": [],
      "collapsed_sections": []
    },
    "kernelspec": {
      "name": "python3",
      "display_name": "Python 3"
    },
    "language_info": {
      "name": "python"
    }
  },
  "cells": [
    {
      "cell_type": "code",
      "metadata": {
        "id": "tqJqgB-1qmdl"
      },
      "source": [
        "import pandas as pd\n",
        "import numpy as np"
      ],
      "execution_count": null,
      "outputs": []
    },
    {
      "cell_type": "code",
      "metadata": {
        "id": "bJmuv4EJq2su"
      },
      "source": [
        "import matplotlib.pyplot as plt\n",
        "import matplotlib.cm as cm\n",
        "%matplotlib inline\n",
        "import seaborn as sns\n",
        "sns.set()"
      ],
      "execution_count": null,
      "outputs": []
    },
    {
      "cell_type": "code",
      "metadata": {
        "colab": {
          "base_uri": "https://localhost:8080/"
        },
        "id": "oaC4tCi7OPMj",
        "outputId": "c2c9ca54-97d6-4176-dcf7-e35d1ceb9974"
      },
      "source": [
        "from google.colab import drive\n",
        "drive.mount('/content/drive')"
      ],
      "execution_count": null,
      "outputs": [
        {
          "output_type": "stream",
          "text": [
            "Drive already mounted at /content/drive; to attempt to forcibly remount, call drive.mount(\"/content/drive\", force_remount=True).\n"
          ],
          "name": "stdout"
        }
      ]
    },
    {
      "cell_type": "markdown",
      "metadata": {
        "id": "tIlf0FFKsiNX"
      },
      "source": [
        "# Advanced Graphing for the Adventerous"
      ]
    },
    {
      "cell_type": "code",
      "metadata": {
        "id": "pw79IAJ0r3R6"
      },
      "source": [
        "#from bokeh.plotting import figure, show\n",
        "#from bokeh.embed import components\n",
        "#from bokeh.models import CategoricalColorMapper, HoverTool\n",
        "#import plotly.graph_objs as go"
      ],
      "execution_count": null,
      "outputs": []
    },
    {
      "cell_type": "code",
      "metadata": {
        "id": "yIkPicXSseXS"
      },
      "source": [
        "#from bokeh.io import output_notebook\n",
        "#output_notebook()"
      ],
      "execution_count": null,
      "outputs": []
    },
    {
      "cell_type": "code",
      "metadata": {
        "id": "uge80JhUsrdb"
      },
      "source": [
        "df = pd.read_csv('/content/drive/MyDrive/Metis Projects/Classification/25airportsDL2019.csv')"
      ],
      "execution_count": null,
      "outputs": []
    },
    {
      "cell_type": "code",
      "metadata": {
        "id": "y3UqNf9htEZt",
        "colab": {
          "base_uri": "https://localhost:8080/",
          "height": 487
        },
        "outputId": "8a79ef5c-b2cc-492a-9e63-127377f548bc"
      },
      "source": [
        "df.head()"
      ],
      "execution_count": null,
      "outputs": [
        {
          "output_type": "execute_result",
          "data": {
            "text/html": [
              "<div>\n",
              "<style scoped>\n",
              "    .dataframe tbody tr th:only-of-type {\n",
              "        vertical-align: middle;\n",
              "    }\n",
              "\n",
              "    .dataframe tbody tr th {\n",
              "        vertical-align: top;\n",
              "    }\n",
              "\n",
              "    .dataframe thead th {\n",
              "        text-align: right;\n",
              "    }\n",
              "</style>\n",
              "<table border=\"1\" class=\"dataframe\">\n",
              "  <thead>\n",
              "    <tr style=\"text-align: right;\">\n",
              "      <th></th>\n",
              "      <th>Unique_Id</th>\n",
              "      <th>Carrier Code</th>\n",
              "      <th>Flight Date</th>\n",
              "      <th>Flight Number</th>\n",
              "      <th>Month</th>\n",
              "      <th>Tail Number</th>\n",
              "      <th>Origin Airport</th>\n",
              "      <th>Origin City</th>\n",
              "      <th>Origin State</th>\n",
              "      <th>Origin Divison</th>\n",
              "      <th>Origin Region</th>\n",
              "      <th>Dest Airport</th>\n",
              "      <th>Dest City</th>\n",
              "      <th>Dest State</th>\n",
              "      <th>Dest Divison</th>\n",
              "      <th>Dest Region</th>\n",
              "      <th>Scheduled Departure Time</th>\n",
              "      <th>Schedule Departure Time Name</th>\n",
              "      <th>Actual Departure Time</th>\n",
              "      <th>Actual Departure Time Name</th>\n",
              "      <th>Minutes Delayed Departing</th>\n",
              "      <th>Delayed Departure</th>\n",
              "      <th>Scheduled Elapsed Time</th>\n",
              "      <th>Actual Elapsed Time</th>\n",
              "      <th>Wheels-off Time</th>\n",
              "      <th>Taxi-out Time</th>\n",
              "      <th>Minutes Delayed By Carrier</th>\n",
              "      <th>Minutes Delayed By Weather</th>\n",
              "      <th>Minutes Delayed By NAS</th>\n",
              "      <th>Minutes Delayed By Security</th>\n",
              "      <th>Minutes Delayed By Late Arrival</th>\n",
              "      <th>Avg Min Delayed Due To Delta Yesterday</th>\n",
              "      <th>Avg Min Delayed Due To NAS Yesterday</th>\n",
              "      <th>Avg Min Delayed Due To Security Yesterday</th>\n",
              "      <th>Avg Min Delayed Due To Late Arrival Yesterday</th>\n",
              "      <th>Avg Min Delayed Due To Weather Yesterday</th>\n",
              "      <th>Total Number of Scheduled Flights</th>\n",
              "      <th>Cancelled</th>\n",
              "      <th>Diverted</th>\n",
              "      <th>Flights</th>\n",
              "      <th>Distance</th>\n",
              "      <th>Distance Name</th>\n",
              "      <th>Distance Range Name</th>\n",
              "      <th>Scheduled Arrival Time</th>\n",
              "      <th>Actual Arrival Time</th>\n",
              "      <th>Minutes Delayed Arriving</th>\n",
              "      <th>AirTime</th>\n",
              "    </tr>\n",
              "  </thead>\n",
              "  <tbody>\n",
              "    <tr>\n",
              "      <th>0</th>\n",
              "      <td>01/01/2019-N67171-15-ATL</td>\n",
              "      <td>DL</td>\n",
              "      <td>2019-01-01</td>\n",
              "      <td>15</td>\n",
              "      <td>January</td>\n",
              "      <td>N67171</td>\n",
              "      <td>ATL</td>\n",
              "      <td>Atlanta</td>\n",
              "      <td>Georgia</td>\n",
              "      <td>South Atlantic</td>\n",
              "      <td>South</td>\n",
              "      <td>TPA</td>\n",
              "      <td>Tampa</td>\n",
              "      <td>Florida</td>\n",
              "      <td>South Atlantic</td>\n",
              "      <td>South</td>\n",
              "      <td>19:51</td>\n",
              "      <td>Evening</td>\n",
              "      <td>19:48</td>\n",
              "      <td>Evening</td>\n",
              "      <td>-3</td>\n",
              "      <td>0</td>\n",
              "      <td>88</td>\n",
              "      <td>80</td>\n",
              "      <td>20:01</td>\n",
              "      <td>13</td>\n",
              "      <td>0</td>\n",
              "      <td>0</td>\n",
              "      <td>0</td>\n",
              "      <td>0</td>\n",
              "      <td>0</td>\n",
              "      <td>0.0</td>\n",
              "      <td>0.0</td>\n",
              "      <td>0.0</td>\n",
              "      <td>0.0</td>\n",
              "      <td>0.0</td>\n",
              "      <td>2.0</td>\n",
              "      <td>0.0</td>\n",
              "      <td>0.0</td>\n",
              "      <td>1.0</td>\n",
              "      <td>406.0</td>\n",
              "      <td>Short Haul</td>\n",
              "      <td>90-583</td>\n",
              "      <td>21:19</td>\n",
              "      <td>2108.0</td>\n",
              "      <td>-11.0</td>\n",
              "      <td>64.0</td>\n",
              "    </tr>\n",
              "    <tr>\n",
              "      <th>1</th>\n",
              "      <td>01/01/2019-N354NW-31-ATL</td>\n",
              "      <td>DL</td>\n",
              "      <td>2019-01-01</td>\n",
              "      <td>31</td>\n",
              "      <td>January</td>\n",
              "      <td>N354NW</td>\n",
              "      <td>ATL</td>\n",
              "      <td>Atlanta</td>\n",
              "      <td>Georgia</td>\n",
              "      <td>South Atlantic</td>\n",
              "      <td>South</td>\n",
              "      <td>DFW</td>\n",
              "      <td>Dallas/Fort Worth</td>\n",
              "      <td>Texas</td>\n",
              "      <td>West South Central</td>\n",
              "      <td>South</td>\n",
              "      <td>19:14</td>\n",
              "      <td>Evening</td>\n",
              "      <td>19:17</td>\n",
              "      <td>Evening</td>\n",
              "      <td>3</td>\n",
              "      <td>0</td>\n",
              "      <td>148</td>\n",
              "      <td>139</td>\n",
              "      <td>19:31</td>\n",
              "      <td>14</td>\n",
              "      <td>0</td>\n",
              "      <td>0</td>\n",
              "      <td>0</td>\n",
              "      <td>0</td>\n",
              "      <td>0</td>\n",
              "      <td>0.0</td>\n",
              "      <td>0.0</td>\n",
              "      <td>0.0</td>\n",
              "      <td>0.0</td>\n",
              "      <td>0.0</td>\n",
              "      <td>3.0</td>\n",
              "      <td>0.0</td>\n",
              "      <td>0.0</td>\n",
              "      <td>1.0</td>\n",
              "      <td>731.0</td>\n",
              "      <td>Short Haul</td>\n",
              "      <td>583-1072</td>\n",
              "      <td>20:42</td>\n",
              "      <td>2036.0</td>\n",
              "      <td>-6.0</td>\n",
              "      <td>112.0</td>\n",
              "    </tr>\n",
              "    <tr>\n",
              "      <th>2</th>\n",
              "      <td>01/01/2019-N960DL-91-ATL</td>\n",
              "      <td>DL</td>\n",
              "      <td>2019-01-01</td>\n",
              "      <td>91</td>\n",
              "      <td>January</td>\n",
              "      <td>N960DL</td>\n",
              "      <td>ATL</td>\n",
              "      <td>Atlanta</td>\n",
              "      <td>Georgia</td>\n",
              "      <td>South Atlantic</td>\n",
              "      <td>South</td>\n",
              "      <td>RSW</td>\n",
              "      <td>Fort Myers</td>\n",
              "      <td>Florida</td>\n",
              "      <td>South Atlantic</td>\n",
              "      <td>South</td>\n",
              "      <td>17:24</td>\n",
              "      <td>Evening</td>\n",
              "      <td>17:20</td>\n",
              "      <td>Evening</td>\n",
              "      <td>-4</td>\n",
              "      <td>0</td>\n",
              "      <td>101</td>\n",
              "      <td>99</td>\n",
              "      <td>17:30</td>\n",
              "      <td>10</td>\n",
              "      <td>0</td>\n",
              "      <td>0</td>\n",
              "      <td>0</td>\n",
              "      <td>0</td>\n",
              "      <td>0</td>\n",
              "      <td>0.0</td>\n",
              "      <td>0.0</td>\n",
              "      <td>0.0</td>\n",
              "      <td>0.0</td>\n",
              "      <td>0.0</td>\n",
              "      <td>5.0</td>\n",
              "      <td>0.0</td>\n",
              "      <td>0.0</td>\n",
              "      <td>1.0</td>\n",
              "      <td>515.0</td>\n",
              "      <td>Short Haul</td>\n",
              "      <td>90-583</td>\n",
              "      <td>19:05</td>\n",
              "      <td>1859.0</td>\n",
              "      <td>-46.0</td>\n",
              "      <td>86.0</td>\n",
              "    </tr>\n",
              "    <tr>\n",
              "      <th>3</th>\n",
              "      <td>01/01/2019-N944AT-131-ATL</td>\n",
              "      <td>DL</td>\n",
              "      <td>2019-01-01</td>\n",
              "      <td>131</td>\n",
              "      <td>January</td>\n",
              "      <td>N944AT</td>\n",
              "      <td>ATL</td>\n",
              "      <td>Atlanta</td>\n",
              "      <td>Georgia</td>\n",
              "      <td>South Atlantic</td>\n",
              "      <td>South</td>\n",
              "      <td>GSP</td>\n",
              "      <td>Greer</td>\n",
              "      <td>South Carolina</td>\n",
              "      <td>South Atlantic</td>\n",
              "      <td>South</td>\n",
              "      <td>17:46</td>\n",
              "      <td>Evening</td>\n",
              "      <td>17:48</td>\n",
              "      <td>Evening</td>\n",
              "      <td>2</td>\n",
              "      <td>0</td>\n",
              "      <td>54</td>\n",
              "      <td>44</td>\n",
              "      <td>17:58</td>\n",
              "      <td>10</td>\n",
              "      <td>0</td>\n",
              "      <td>0</td>\n",
              "      <td>0</td>\n",
              "      <td>0</td>\n",
              "      <td>0</td>\n",
              "      <td>0.0</td>\n",
              "      <td>0.0</td>\n",
              "      <td>0.0</td>\n",
              "      <td>0.0</td>\n",
              "      <td>0.0</td>\n",
              "      <td>3.0</td>\n",
              "      <td>0.0</td>\n",
              "      <td>0.0</td>\n",
              "      <td>1.0</td>\n",
              "      <td>153.0</td>\n",
              "      <td>Short Haul</td>\n",
              "      <td>90-583</td>\n",
              "      <td>18:40</td>\n",
              "      <td>1832.0</td>\n",
              "      <td>-8.0</td>\n",
              "      <td>31.0</td>\n",
              "    </tr>\n",
              "    <tr>\n",
              "      <th>4</th>\n",
              "      <td>01/01/2019-N173DZ-186-ATL</td>\n",
              "      <td>DL</td>\n",
              "      <td>2019-01-01</td>\n",
              "      <td>186</td>\n",
              "      <td>January</td>\n",
              "      <td>N173DZ</td>\n",
              "      <td>ATL</td>\n",
              "      <td>Atlanta</td>\n",
              "      <td>Georgia</td>\n",
              "      <td>South Atlantic</td>\n",
              "      <td>South</td>\n",
              "      <td>MCO</td>\n",
              "      <td>Orlando</td>\n",
              "      <td>Florida</td>\n",
              "      <td>South Atlantic</td>\n",
              "      <td>South</td>\n",
              "      <td>15:55</td>\n",
              "      <td>Afternoon</td>\n",
              "      <td>15:54</td>\n",
              "      <td>Afternoon</td>\n",
              "      <td>-1</td>\n",
              "      <td>0</td>\n",
              "      <td>90</td>\n",
              "      <td>83</td>\n",
              "      <td>16:10</td>\n",
              "      <td>16</td>\n",
              "      <td>0</td>\n",
              "      <td>0</td>\n",
              "      <td>0</td>\n",
              "      <td>0</td>\n",
              "      <td>0</td>\n",
              "      <td>0.0</td>\n",
              "      <td>0.0</td>\n",
              "      <td>0.0</td>\n",
              "      <td>0.0</td>\n",
              "      <td>0.0</td>\n",
              "      <td>1.0</td>\n",
              "      <td>0.0</td>\n",
              "      <td>0.0</td>\n",
              "      <td>1.0</td>\n",
              "      <td>404.0</td>\n",
              "      <td>Short Haul</td>\n",
              "      <td>90-583</td>\n",
              "      <td>17:25</td>\n",
              "      <td>1717.0</td>\n",
              "      <td>-8.0</td>\n",
              "      <td>60.0</td>\n",
              "    </tr>\n",
              "  </tbody>\n",
              "</table>\n",
              "</div>"
            ],
            "text/plain": [
              "                   Unique_Id Carrier Code  ... Minutes Delayed Arriving  AirTime\n",
              "0   01/01/2019-N67171-15-ATL           DL  ...                    -11.0     64.0\n",
              "1   01/01/2019-N354NW-31-ATL           DL  ...                     -6.0    112.0\n",
              "2   01/01/2019-N960DL-91-ATL           DL  ...                    -46.0     86.0\n",
              "3  01/01/2019-N944AT-131-ATL           DL  ...                     -8.0     31.0\n",
              "4  01/01/2019-N173DZ-186-ATL           DL  ...                     -8.0     60.0\n",
              "\n",
              "[5 rows x 47 columns]"
            ]
          },
          "metadata": {
            "tags": []
          },
          "execution_count": 110
        }
      ]
    },
    {
      "cell_type": "code",
      "metadata": {
        "colab": {
          "base_uri": "https://localhost:8080/"
        },
        "id": "T2BSOtNTyLET",
        "outputId": "428019b5-f139-4ee5-e74f-444b4127827a"
      },
      "source": [
        "df.columns"
      ],
      "execution_count": null,
      "outputs": [
        {
          "output_type": "execute_result",
          "data": {
            "text/plain": [
              "Index(['Unique_Id', 'Carrier Code', 'Flight Date', 'Flight Number', 'Month',\n",
              "       'Tail Number', 'Origin Airport', 'Origin City', 'Origin State',\n",
              "       'Origin Divison', 'Origin Region', 'Dest Airport', 'Dest City',\n",
              "       'Dest State', 'Dest Divison', 'Dest Region', 'Scheduled Departure Time',\n",
              "       'Schedule Departure Time Name', 'Actual Departure Time',\n",
              "       'Actual Departure Time Name', 'Minutes Delayed Departing',\n",
              "       'Delayed Departure', 'Scheduled Elapsed Time', 'Actual Elapsed Time',\n",
              "       'Wheels-off Time', 'Taxi-out Time', 'Minutes Delayed By Carrier',\n",
              "       'Minutes Delayed By Weather', 'Minutes Delayed By NAS',\n",
              "       'Minutes Delayed By Security', 'Minutes Delayed By Late Arrival',\n",
              "       'Avg Min Delayed Due To Delta Yesterday',\n",
              "       'Avg Min Delayed Due To NAS Yesterday',\n",
              "       'Avg Min Delayed Due To Security Yesterday',\n",
              "       'Avg Min Delayed Due To Late Arrival Yesterday',\n",
              "       'Avg Min Delayed Due To Weather Yesterday',\n",
              "       'Total Number of Scheduled Flights', 'Cancelled', 'Diverted', 'Flights',\n",
              "       'Distance', 'Distance Name', 'Distance Range Name',\n",
              "       'Scheduled Arrival Time', 'Actual Arrival Time',\n",
              "       'Minutes Delayed Arriving', 'AirTime'],\n",
              "      dtype='object')"
            ]
          },
          "metadata": {
            "tags": []
          },
          "execution_count": 111
        }
      ]
    },
    {
      "cell_type": "code",
      "metadata": {
        "colab": {
          "base_uri": "https://localhost:8080/"
        },
        "id": "zWPe6B4_0ykE",
        "outputId": "4b247058-0f45-4453-a0b3-b694c4746dda"
      },
      "source": [
        "df.shape"
      ],
      "execution_count": null,
      "outputs": [
        {
          "output_type": "execute_result",
          "data": {
            "text/plain": [
              "(704501, 47)"
            ]
          },
          "metadata": {
            "tags": []
          },
          "execution_count": 113
        }
      ]
    },
    {
      "cell_type": "code",
      "metadata": {
        "colab": {
          "base_uri": "https://localhost:8080/",
          "height": 390
        },
        "id": "4IrS-jVRyNq4",
        "outputId": "3c0e3e9d-e81d-498c-e241-30ab3cc06e63"
      },
      "source": [
        "df.describe()"
      ],
      "execution_count": null,
      "outputs": [
        {
          "output_type": "execute_result",
          "data": {
            "text/html": [
              "<div>\n",
              "<style scoped>\n",
              "    .dataframe tbody tr th:only-of-type {\n",
              "        vertical-align: middle;\n",
              "    }\n",
              "\n",
              "    .dataframe tbody tr th {\n",
              "        vertical-align: top;\n",
              "    }\n",
              "\n",
              "    .dataframe thead th {\n",
              "        text-align: right;\n",
              "    }\n",
              "</style>\n",
              "<table border=\"1\" class=\"dataframe\">\n",
              "  <thead>\n",
              "    <tr style=\"text-align: right;\">\n",
              "      <th></th>\n",
              "      <th>Flight Number</th>\n",
              "      <th>Minutes Delayed Departing</th>\n",
              "      <th>Delayed Departure</th>\n",
              "      <th>Scheduled Elapsed Time</th>\n",
              "      <th>Actual Elapsed Time</th>\n",
              "      <th>Taxi-out Time</th>\n",
              "      <th>Minutes Delayed By Carrier</th>\n",
              "      <th>Minutes Delayed By Weather</th>\n",
              "      <th>Minutes Delayed By NAS</th>\n",
              "      <th>Minutes Delayed By Security</th>\n",
              "      <th>Minutes Delayed By Late Arrival</th>\n",
              "      <th>Avg Min Delayed Due To Delta Yesterday</th>\n",
              "      <th>Avg Min Delayed Due To NAS Yesterday</th>\n",
              "      <th>Avg Min Delayed Due To Security Yesterday</th>\n",
              "      <th>Avg Min Delayed Due To Late Arrival Yesterday</th>\n",
              "      <th>Avg Min Delayed Due To Weather Yesterday</th>\n",
              "      <th>Total Number of Scheduled Flights</th>\n",
              "      <th>Cancelled</th>\n",
              "      <th>Diverted</th>\n",
              "      <th>Flights</th>\n",
              "      <th>Distance</th>\n",
              "      <th>Actual Arrival Time</th>\n",
              "      <th>Minutes Delayed Arriving</th>\n",
              "      <th>AirTime</th>\n",
              "    </tr>\n",
              "  </thead>\n",
              "  <tbody>\n",
              "    <tr>\n",
              "      <th>count</th>\n",
              "      <td>704501.000000</td>\n",
              "      <td>704501.000000</td>\n",
              "      <td>704501.000000</td>\n",
              "      <td>704501.000000</td>\n",
              "      <td>704501.000000</td>\n",
              "      <td>704501.000000</td>\n",
              "      <td>704501.000000</td>\n",
              "      <td>704501.000000</td>\n",
              "      <td>704501.000000</td>\n",
              "      <td>704501.000000</td>\n",
              "      <td>704501.000000</td>\n",
              "      <td>704501.000000</td>\n",
              "      <td>704501.000000</td>\n",
              "      <td>704501.000000</td>\n",
              "      <td>704501.000000</td>\n",
              "      <td>704501.000000</td>\n",
              "      <td>704500.000000</td>\n",
              "      <td>704501.000000</td>\n",
              "      <td>704501.000000</td>\n",
              "      <td>704501.0</td>\n",
              "      <td>704501.000000</td>\n",
              "      <td>703079.000000</td>\n",
              "      <td>703079.000000</td>\n",
              "      <td>701616.000000</td>\n",
              "    </tr>\n",
              "    <tr>\n",
              "      <th>mean</th>\n",
              "      <td>1740.048800</td>\n",
              "      <td>9.091659</td>\n",
              "      <td>0.150294</td>\n",
              "      <td>160.064904</td>\n",
              "      <td>152.297978</td>\n",
              "      <td>18.025820</td>\n",
              "      <td>3.632091</td>\n",
              "      <td>0.728494</td>\n",
              "      <td>3.060468</td>\n",
              "      <td>0.010633</td>\n",
              "      <td>2.948092</td>\n",
              "      <td>3.611373</td>\n",
              "      <td>3.030165</td>\n",
              "      <td>0.010767</td>\n",
              "      <td>2.900928</td>\n",
              "      <td>0.730278</td>\n",
              "      <td>3.328843</td>\n",
              "      <td>0.001947</td>\n",
              "      <td>0.002148</td>\n",
              "      <td>1.0</td>\n",
              "      <td>945.782611</td>\n",
              "      <td>1529.556708</td>\n",
              "      <td>-35.509512</td>\n",
              "      <td>127.513425</td>\n",
              "    </tr>\n",
              "    <tr>\n",
              "      <th>std</th>\n",
              "      <td>750.576971</td>\n",
              "      <td>44.090020</td>\n",
              "      <td>0.357359</td>\n",
              "      <td>78.128084</td>\n",
              "      <td>78.175813</td>\n",
              "      <td>9.794056</td>\n",
              "      <td>27.429235</td>\n",
              "      <td>15.664364</td>\n",
              "      <td>19.666613</td>\n",
              "      <td>1.034018</td>\n",
              "      <td>18.858401</td>\n",
              "      <td>5.604008</td>\n",
              "      <td>5.079664</td>\n",
              "      <td>0.194901</td>\n",
              "      <td>6.736050</td>\n",
              "      <td>3.051117</td>\n",
              "      <td>1.162438</td>\n",
              "      <td>0.044087</td>\n",
              "      <td>0.046293</td>\n",
              "      <td>0.0</td>\n",
              "      <td>623.326649</td>\n",
              "      <td>543.876994</td>\n",
              "      <td>339.092555</td>\n",
              "      <td>74.914275</td>\n",
              "    </tr>\n",
              "    <tr>\n",
              "      <th>min</th>\n",
              "      <td>6.000000</td>\n",
              "      <td>-43.000000</td>\n",
              "      <td>0.000000</td>\n",
              "      <td>42.000000</td>\n",
              "      <td>0.000000</td>\n",
              "      <td>0.000000</td>\n",
              "      <td>0.000000</td>\n",
              "      <td>0.000000</td>\n",
              "      <td>0.000000</td>\n",
              "      <td>0.000000</td>\n",
              "      <td>0.000000</td>\n",
              "      <td>0.000000</td>\n",
              "      <td>0.000000</td>\n",
              "      <td>0.000000</td>\n",
              "      <td>0.000000</td>\n",
              "      <td>0.000000</td>\n",
              "      <td>1.000000</td>\n",
              "      <td>0.000000</td>\n",
              "      <td>0.000000</td>\n",
              "      <td>1.0</td>\n",
              "      <td>95.000000</td>\n",
              "      <td>1.000000</td>\n",
              "      <td>-2358.000000</td>\n",
              "      <td>19.000000</td>\n",
              "    </tr>\n",
              "    <tr>\n",
              "      <th>25%</th>\n",
              "      <td>1149.000000</td>\n",
              "      <td>-4.000000</td>\n",
              "      <td>0.000000</td>\n",
              "      <td>102.000000</td>\n",
              "      <td>95.000000</td>\n",
              "      <td>12.000000</td>\n",
              "      <td>0.000000</td>\n",
              "      <td>0.000000</td>\n",
              "      <td>0.000000</td>\n",
              "      <td>0.000000</td>\n",
              "      <td>0.000000</td>\n",
              "      <td>1.030000</td>\n",
              "      <td>0.620000</td>\n",
              "      <td>0.000000</td>\n",
              "      <td>0.280000</td>\n",
              "      <td>0.000000</td>\n",
              "      <td>3.000000</td>\n",
              "      <td>0.000000</td>\n",
              "      <td>0.000000</td>\n",
              "      <td>1.0</td>\n",
              "      <td>502.000000</td>\n",
              "      <td>1133.000000</td>\n",
              "      <td>-20.000000</td>\n",
              "      <td>73.000000</td>\n",
              "    </tr>\n",
              "    <tr>\n",
              "      <th>50%</th>\n",
              "      <td>1760.000000</td>\n",
              "      <td>-2.000000</td>\n",
              "      <td>0.000000</td>\n",
              "      <td>138.000000</td>\n",
              "      <td>132.000000</td>\n",
              "      <td>15.000000</td>\n",
              "      <td>0.000000</td>\n",
              "      <td>0.000000</td>\n",
              "      <td>0.000000</td>\n",
              "      <td>0.000000</td>\n",
              "      <td>0.000000</td>\n",
              "      <td>2.100000</td>\n",
              "      <td>1.540000</td>\n",
              "      <td>0.000000</td>\n",
              "      <td>0.960000</td>\n",
              "      <td>0.000000</td>\n",
              "      <td>3.000000</td>\n",
              "      <td>0.000000</td>\n",
              "      <td>0.000000</td>\n",
              "      <td>1.0</td>\n",
              "      <td>746.000000</td>\n",
              "      <td>1552.000000</td>\n",
              "      <td>-9.000000</td>\n",
              "      <td>106.000000</td>\n",
              "    </tr>\n",
              "    <tr>\n",
              "      <th>75%</th>\n",
              "      <td>2374.000000</td>\n",
              "      <td>5.000000</td>\n",
              "      <td>0.000000</td>\n",
              "      <td>199.000000</td>\n",
              "      <td>192.000000</td>\n",
              "      <td>20.000000</td>\n",
              "      <td>0.000000</td>\n",
              "      <td>0.000000</td>\n",
              "      <td>0.000000</td>\n",
              "      <td>0.000000</td>\n",
              "      <td>0.000000</td>\n",
              "      <td>4.050000</td>\n",
              "      <td>3.480000</td>\n",
              "      <td>0.000000</td>\n",
              "      <td>2.720000</td>\n",
              "      <td>0.280000</td>\n",
              "      <td>4.000000</td>\n",
              "      <td>0.000000</td>\n",
              "      <td>0.000000</td>\n",
              "      <td>1.0</td>\n",
              "      <td>1247.000000</td>\n",
              "      <td>2002.000000</td>\n",
              "      <td>3.000000</td>\n",
              "      <td>164.000000</td>\n",
              "    </tr>\n",
              "    <tr>\n",
              "      <th>max</th>\n",
              "      <td>3179.000000</td>\n",
              "      <td>1266.000000</td>\n",
              "      <td>1.000000</td>\n",
              "      <td>703.000000</td>\n",
              "      <td>678.000000</td>\n",
              "      <td>182.000000</td>\n",
              "      <td>1265.000000</td>\n",
              "      <td>1167.000000</td>\n",
              "      <td>1215.000000</td>\n",
              "      <td>434.000000</td>\n",
              "      <td>1046.000000</td>\n",
              "      <td>225.940000</td>\n",
              "      <td>182.550000</td>\n",
              "      <td>20.620000</td>\n",
              "      <td>188.040000</td>\n",
              "      <td>171.620000</td>\n",
              "      <td>10.000000</td>\n",
              "      <td>1.000000</td>\n",
              "      <td>1.000000</td>\n",
              "      <td>1.0</td>\n",
              "      <td>4983.000000</td>\n",
              "      <td>2400.000000</td>\n",
              "      <td>2399.000000</td>\n",
              "      <td>651.000000</td>\n",
              "    </tr>\n",
              "  </tbody>\n",
              "</table>\n",
              "</div>"
            ],
            "text/plain": [
              "       Flight Number  ...        AirTime\n",
              "count  704501.000000  ...  701616.000000\n",
              "mean     1740.048800  ...     127.513425\n",
              "std       750.576971  ...      74.914275\n",
              "min         6.000000  ...      19.000000\n",
              "25%      1149.000000  ...      73.000000\n",
              "50%      1760.000000  ...     106.000000\n",
              "75%      2374.000000  ...     164.000000\n",
              "max      3179.000000  ...     651.000000\n",
              "\n",
              "[8 rows x 24 columns]"
            ]
          },
          "metadata": {
            "tags": []
          },
          "execution_count": 112
        }
      ]
    },
    {
      "cell_type": "code",
      "metadata": {
        "colab": {
          "base_uri": "https://localhost:8080/"
        },
        "id": "Iugb_QGyyQOc",
        "outputId": "d51adc4f-d907-42a8-89dc-46a5645ce452"
      },
      "source": [
        "df.info()"
      ],
      "execution_count": null,
      "outputs": [
        {
          "output_type": "stream",
          "text": [
            "<class 'pandas.core.frame.DataFrame'>\n",
            "RangeIndex: 704501 entries, 0 to 704500\n",
            "Data columns (total 40 columns):\n",
            " #   Column                           Non-Null Count   Dtype         \n",
            "---  ------                           --------------   -----         \n",
            " 0   Unique_Id                        704501 non-null  object        \n",
            " 1   Carrier Code                     704501 non-null  object        \n",
            " 2   Flight Date                      704501 non-null  datetime64[ns]\n",
            " 3   Flight Number                    704501 non-null  int64         \n",
            " 4   Tail Number                      704500 non-null  object        \n",
            " 5   Origin Airport                   704501 non-null  object        \n",
            " 6   Origin City                      704501 non-null  object        \n",
            " 7   Origin State                     704501 non-null  object        \n",
            " 8   Origin Divison                   704501 non-null  object        \n",
            " 9   Origin Region                    704501 non-null  object        \n",
            " 10  Dest Airport                     704501 non-null  object        \n",
            " 11  Dest City                        704501 non-null  object        \n",
            " 12  Dest State                       704501 non-null  object        \n",
            " 13  Dest Divison                     704501 non-null  object        \n",
            " 14  Dest Region                      704501 non-null  object        \n",
            " 15  Scheduled Departure Time         704501 non-null  object        \n",
            " 16  Actual Departure Time            704501 non-null  object        \n",
            " 17  Actual Departure Time Name       704501 non-null  object        \n",
            " 18  Minutes Delayed Departing        704501 non-null  int64         \n",
            " 19  Delayed Departure                704501 non-null  int64         \n",
            " 20  Scheduled Elapsed Time           704501 non-null  int64         \n",
            " 21  Actual Elapsed Time              704501 non-null  int64         \n",
            " 22  Wheels-off Time                  704501 non-null  object        \n",
            " 23  Taxi-out Time                    704501 non-null  int64         \n",
            " 24  Minutes Delayed By Carrier       704501 non-null  int64         \n",
            " 25  Minutes Delayed By Weather       704501 non-null  int64         \n",
            " 26  Minutes Delayed By NAS           704501 non-null  int64         \n",
            " 27  Minutes Delayed By Security      704501 non-null  int64         \n",
            " 28  Minutes Delayed By Late Arrival  704501 non-null  int64         \n",
            " 29  Cancelled                        704501 non-null  float64       \n",
            " 30  Diverted                         704501 non-null  float64       \n",
            " 31  Flights                          704501 non-null  float64       \n",
            " 32  Distance                         704501 non-null  float64       \n",
            " 33  Distance Name                    704501 non-null  object        \n",
            " 34  Scheduled Arrival Time           704501 non-null  int64         \n",
            " 35  Actual Arrival Time              703079 non-null  float64       \n",
            " 36  Minutes Delayed Arriving         703079 non-null  float64       \n",
            " 37  AirTime                          701616 non-null  float64       \n",
            " 38  Month                            704501 non-null  int64         \n",
            " 39  Day_Of_Week                      704501 non-null  int64         \n",
            "dtypes: datetime64[ns](1), float64(7), int64(14), object(18)\n",
            "memory usage: 215.0+ MB\n"
          ],
          "name": "stdout"
        }
      ]
    },
    {
      "cell_type": "code",
      "metadata": {
        "colab": {
          "base_uri": "https://localhost:8080/"
        },
        "id": "PqJz3U1UyW3n",
        "outputId": "5d1111ac-4ada-4715-bd10-51b428ab6081"
      },
      "source": [
        "df.isna().sum()"
      ],
      "execution_count": null,
      "outputs": [
        {
          "output_type": "execute_result",
          "data": {
            "text/plain": [
              "Unique_Id                                           0\n",
              "Carrier Code                                        0\n",
              "Flight Date                                         0\n",
              "Flight Number                                       0\n",
              "Month                                               0\n",
              "Tail Number                                         1\n",
              "Origin Airport                                      0\n",
              "Origin City                                         0\n",
              "Origin State                                        0\n",
              "Origin Divison                                      0\n",
              "Origin Region                                       0\n",
              "Dest Airport                                        0\n",
              "Dest City                                           0\n",
              "Dest State                                          0\n",
              "Dest Divison                                        0\n",
              "Dest Region                                         0\n",
              "Scheduled Departure Time                            0\n",
              "Schedule Departure Time Name                        0\n",
              "Actual Departure Time                               0\n",
              "Actual Departure Time Name                          0\n",
              "Minutes Delayed Departing                           0\n",
              "Delayed Departure                                   0\n",
              "Scheduled Elapsed Time                              0\n",
              "Actual Elapsed Time                                 0\n",
              "Wheels-off Time                                     0\n",
              "Taxi-out Time                                       0\n",
              "Minutes Delayed By Carrier                          0\n",
              "Minutes Delayed By Weather                          0\n",
              "Minutes Delayed By NAS                              0\n",
              "Minutes Delayed By Security                         0\n",
              "Minutes Delayed By Late Arrival                     0\n",
              "Avg Min Delayed Due To Delta Yesterday              0\n",
              "Avg Min Delayed Due To NAS Yesterday                0\n",
              "Avg Min Delayed Due To Security Yesterday           0\n",
              "Avg Min Delayed Due To Late Arrival Yesterday       0\n",
              "Avg Min Delayed Due To Weather Yesterday            0\n",
              "Total Number of Scheduled Flights                   1\n",
              "Cancelled                                           0\n",
              "Diverted                                            0\n",
              "Flights                                             0\n",
              "Distance                                            0\n",
              "Distance Name                                       0\n",
              "Distance Range Name                                 0\n",
              "Scheduled Arrival Time                              0\n",
              "Actual Arrival Time                              1422\n",
              "Minutes Delayed Arriving                         1422\n",
              "AirTime                                          2885\n",
              "dtype: int64"
            ]
          },
          "metadata": {
            "tags": []
          },
          "execution_count": 114
        }
      ]
    },
    {
      "cell_type": "code",
      "metadata": {
        "colab": {
          "base_uri": "https://localhost:8080/"
        },
        "id": "iMxF7BRVyZ-7",
        "outputId": "2dcd54b2-a53d-4f3c-fff1-0f18263756cb"
      },
      "source": [
        "df['Origin Airport'].unique()"
      ],
      "execution_count": null,
      "outputs": [
        {
          "output_type": "execute_result",
          "data": {
            "text/plain": [
              "array(['ATL', 'LAX', 'ORD', 'JFK', 'DEN', 'SFO', 'MCO', 'LAS', 'SEA',\n",
              "       'CLT', 'MIA', 'PHX', 'IAH', 'MSP', 'FLL', 'BOS', 'DTW', 'PHL',\n",
              "       'LGA', 'BWI', 'SLC', 'DCA', 'MDW'], dtype=object)"
            ]
          },
          "metadata": {
            "tags": []
          },
          "execution_count": 21
        }
      ]
    },
    {
      "cell_type": "markdown",
      "metadata": {
        "id": "1j07rZuAEzgg"
      },
      "source": [
        "## How many delta flights are delayed departures vs non delayed departures in 2019?"
      ]
    },
    {
      "cell_type": "code",
      "metadata": {
        "colab": {
          "base_uri": "https://localhost:8080/"
        },
        "id": "vDlAoipMz7kO",
        "outputId": "a8164636-9aca-4a53-dfab-ad047c77208a"
      },
      "source": [
        "delayed = df['Delayed Departure'].sum()\n",
        "perc_delayed = round(df['Delayed Departure'].sum()/(df['Delayed Departure']).count(),2)\n",
        "print(f'Number of delayed Delta flights in 2019: {delayed}, {int(perc_delayed*100)}% were delayed')\n",
        "\n",
        "not_delayed = 1 - delayed \n",
        "perc_not_delayed = 1 - perc_delayed\n",
        "print(f'Number of not delayed Delta flights in 2019: {not_delayed}, {int(perc_not_delayed*100)}% were not delayed')"
      ],
      "execution_count": null,
      "outputs": [
        {
          "output_type": "stream",
          "text": [
            "Number of delayed Delta flights in 2019: 105882, 15% were delayed\n",
            "Number of not delayed Delta flights in 2019: -105881, 85% were not delayed\n"
          ],
          "name": "stdout"
        }
      ]
    },
    {
      "cell_type": "code",
      "metadata": {
        "colab": {
          "base_uri": "https://localhost:8080/",
          "height": 319
        },
        "id": "_xzw0aeGFOwn",
        "outputId": "bc224416-778a-4f9d-a100-b80e3441555d"
      },
      "source": [
        "plt.figure(figsize=[15,5])\n",
        "\n",
        "plt.subplot(1,1,1)\n",
        "labels='Delayed', 'Not Delayed'\n",
        "mycolors = [\"#C01933\", \"#003366\"]\n",
        "plt.pie([perc_delayed,perc_not_delayed], labels=labels,colors = mycolors, autopct='%1.1f%%')\n",
        "plt.title('Delayed Departures vs Not Delayed Departures');"
      ],
      "execution_count": null,
      "outputs": [
        {
          "output_type": "display_data",
          "data": {
            "image/png": "[encoded data removed]",
            "text/plain": [
              "<Figure size 1080x360 with 1 Axes>"
            ]
          },
          "metadata": {
            "tags": []
          }
        }
      ]
    },
    {
      "cell_type": "markdown",
      "metadata": {
        "id": "jV38oeCZ6R3b"
      },
      "source": [
        "## Is a delayed arriving flight also a delayed departing flight?"
      ]
    },
    {
      "cell_type": "code",
      "metadata": {
        "colab": {
          "base_uri": "https://localhost:8080/",
          "height": 355
        },
        "id": "CkDeSElgHNyO",
        "outputId": "5cb10322-5c72-46d7-9efd-ea834a27ea80"
      },
      "source": [
        "plt.figure(figsize=[15,5])\n",
        "\n",
        "plt.scatter(df['Minutes Delayed Arriving'], df['Minutes Delayed Departing'])\n",
        "plt.title('Minutes Delayed Arriving vs Minutes Delayed Departing')\n",
        "plt.xlabel(\"Minutes Delayed Arriving\")\n",
        "plt.ylabel(\"Minutes Delayed Departing\");"
      ],
      "execution_count": null,
      "outputs": [
        {
          "output_type": "display_data",
          "data": {
            "image/png": "[encoded data removed]",
            "text/plain": [
              "<Figure size 1080x360 with 1 Axes>"
            ]
          },
          "metadata": {
            "tags": []
          }
        }
      ]
    },
    {
      "cell_type": "markdown",
      "metadata": {
        "id": "Jdvcgy3DCBfo"
      },
      "source": [
        "## What are the delays by airport?"
      ]
    },
    {
      "cell_type": "code",
      "metadata": {
        "colab": {
          "base_uri": "https://localhost:8080/",
          "height": 771
        },
        "id": "jdBpu_CWymFH",
        "outputId": "f633153e-6c32-4d10-cf9d-55e9cf411591"
      },
      "source": [
        "delays_by_airport = df[['Origin Airport', 'Delayed Departure']].groupby(['Origin Airport']).sum().reset_index().sort_values('Delayed Departure', ascending = False)\n",
        "\n",
        "delays_by_airport"
      ],
      "execution_count": null,
      "outputs": [
        {
          "output_type": "execute_result",
          "data": {
            "text/html": [
              "<div>\n",
              "<style scoped>\n",
              "    .dataframe tbody tr th:only-of-type {\n",
              "        vertical-align: middle;\n",
              "    }\n",
              "\n",
              "    .dataframe tbody tr th {\n",
              "        vertical-align: top;\n",
              "    }\n",
              "\n",
              "    .dataframe thead th {\n",
              "        text-align: right;\n",
              "    }\n",
              "</style>\n",
              "<table border=\"1\" class=\"dataframe\">\n",
              "  <thead>\n",
              "    <tr style=\"text-align: right;\">\n",
              "      <th></th>\n",
              "      <th>Origin Airport</th>\n",
              "      <th>Delayed Departure</th>\n",
              "    </tr>\n",
              "  </thead>\n",
              "  <tbody>\n",
              "    <tr>\n",
              "      <th>0</th>\n",
              "      <td>ATL</td>\n",
              "      <td>35864</td>\n",
              "    </tr>\n",
              "    <tr>\n",
              "      <th>16</th>\n",
              "      <td>MSP</td>\n",
              "      <td>9307</td>\n",
              "    </tr>\n",
              "    <tr>\n",
              "      <th>6</th>\n",
              "      <td>DTW</td>\n",
              "      <td>8125</td>\n",
              "    </tr>\n",
              "    <tr>\n",
              "      <th>11</th>\n",
              "      <td>LAX</td>\n",
              "      <td>6564</td>\n",
              "    </tr>\n",
              "    <tr>\n",
              "      <th>22</th>\n",
              "      <td>SLC</td>\n",
              "      <td>5921</td>\n",
              "    </tr>\n",
              "    <tr>\n",
              "      <th>9</th>\n",
              "      <td>JFK</td>\n",
              "      <td>5839</td>\n",
              "    </tr>\n",
              "    <tr>\n",
              "      <th>12</th>\n",
              "      <td>LGA</td>\n",
              "      <td>5834</td>\n",
              "    </tr>\n",
              "    <tr>\n",
              "      <th>20</th>\n",
              "      <td>SEA</td>\n",
              "      <td>4304</td>\n",
              "    </tr>\n",
              "    <tr>\n",
              "      <th>1</th>\n",
              "      <td>BOS</td>\n",
              "      <td>3345</td>\n",
              "    </tr>\n",
              "    <tr>\n",
              "      <th>17</th>\n",
              "      <td>ORD</td>\n",
              "      <td>2876</td>\n",
              "    </tr>\n",
              "    <tr>\n",
              "      <th>21</th>\n",
              "      <td>SFO</td>\n",
              "      <td>2863</td>\n",
              "    </tr>\n",
              "    <tr>\n",
              "      <th>13</th>\n",
              "      <td>MCO</td>\n",
              "      <td>2590</td>\n",
              "    </tr>\n",
              "    <tr>\n",
              "      <th>7</th>\n",
              "      <td>FLL</td>\n",
              "      <td>1845</td>\n",
              "    </tr>\n",
              "    <tr>\n",
              "      <th>5</th>\n",
              "      <td>DEN</td>\n",
              "      <td>1682</td>\n",
              "    </tr>\n",
              "    <tr>\n",
              "      <th>15</th>\n",
              "      <td>MIA</td>\n",
              "      <td>1538</td>\n",
              "    </tr>\n",
              "    <tr>\n",
              "      <th>10</th>\n",
              "      <td>LAS</td>\n",
              "      <td>1470</td>\n",
              "    </tr>\n",
              "    <tr>\n",
              "      <th>8</th>\n",
              "      <td>IAH</td>\n",
              "      <td>1130</td>\n",
              "    </tr>\n",
              "    <tr>\n",
              "      <th>19</th>\n",
              "      <td>PHX</td>\n",
              "      <td>1093</td>\n",
              "    </tr>\n",
              "    <tr>\n",
              "      <th>4</th>\n",
              "      <td>DCA</td>\n",
              "      <td>1081</td>\n",
              "    </tr>\n",
              "    <tr>\n",
              "      <th>3</th>\n",
              "      <td>CLT</td>\n",
              "      <td>840</td>\n",
              "    </tr>\n",
              "    <tr>\n",
              "      <th>18</th>\n",
              "      <td>PHL</td>\n",
              "      <td>825</td>\n",
              "    </tr>\n",
              "    <tr>\n",
              "      <th>2</th>\n",
              "      <td>BWI</td>\n",
              "      <td>745</td>\n",
              "    </tr>\n",
              "    <tr>\n",
              "      <th>14</th>\n",
              "      <td>MDW</td>\n",
              "      <td>201</td>\n",
              "    </tr>\n",
              "  </tbody>\n",
              "</table>\n",
              "</div>"
            ],
            "text/plain": [
              "   Origin Airport  Delayed Departure\n",
              "0             ATL              35864\n",
              "16            MSP               9307\n",
              "6             DTW               8125\n",
              "11            LAX               6564\n",
              "22            SLC               5921\n",
              "9             JFK               5839\n",
              "12            LGA               5834\n",
              "20            SEA               4304\n",
              "1             BOS               3345\n",
              "17            ORD               2876\n",
              "21            SFO               2863\n",
              "13            MCO               2590\n",
              "7             FLL               1845\n",
              "5             DEN               1682\n",
              "15            MIA               1538\n",
              "10            LAS               1470\n",
              "8             IAH               1130\n",
              "19            PHX               1093\n",
              "4             DCA               1081\n",
              "3             CLT                840\n",
              "18            PHL                825\n",
              "2             BWI                745\n",
              "14            MDW                201"
            ]
          },
          "metadata": {
            "tags": []
          },
          "execution_count": 75
        }
      ]
    },
    {
      "cell_type": "code",
      "metadata": {
        "colab": {
          "base_uri": "https://localhost:8080/",
          "height": 355
        },
        "id": "wpbS30rP-F81",
        "outputId": "78d1fdc4-2875-4574-c633-f65693fc68f9"
      },
      "source": [
        "plt.figure(figsize=[15,5])\n",
        "\n",
        "plt.subplot(1,1,1)\n",
        "plt.bar(delays_by_airport['Origin Airport'],delays_by_airport['Delayed Departure'])\n",
        "plt.title('Delayed Departures By Airport')\n",
        "plt.xlabel(\"Airports\")\n",
        "plt.ylabel(\"Number of Departure Delays\");"
      ],
      "execution_count": null,
      "outputs": [
        {
          "output_type": "display_data",
          "data": {
            "image/png": "[encoded data removed]",
            "text/plain": [
              "<Figure size 1080x360 with 1 Axes>"
            ]
          },
          "metadata": {
            "tags": []
          }
        }
      ]
    },
    {
      "cell_type": "code",
      "metadata": {
        "colab": {
          "base_uri": "https://localhost:8080/",
          "height": 771
        },
        "id": "YDyMDRQzgNl8",
        "outputId": "ea94bbeb-69e9-4788-f900-07d2a7f76584"
      },
      "source": [
        "delay_by_airport_ratio = df[['Origin Airport', 'Delayed Departure']].groupby(['Origin Airport']).sum()/ df[['Origin Airport', 'Delayed Departure']].groupby(['Origin Airport']).count()\n",
        "\n",
        "delay_by_airport_ratio =  delay_by_airport_ratio.reset_index()\n",
        "\n",
        "delay_by_airport_ratio = delays_by_airport.merge(delay_by_airport_ratio, how = 'left', on = 'Origin Airport')\n",
        "\n",
        "delay_by_airport_ratio"
      ],
      "execution_count": null,
      "outputs": [
        {
          "output_type": "execute_result",
          "data": {
            "text/html": [
              "<div>\n",
              "<style scoped>\n",
              "    .dataframe tbody tr th:only-of-type {\n",
              "        vertical-align: middle;\n",
              "    }\n",
              "\n",
              "    .dataframe tbody tr th {\n",
              "        vertical-align: top;\n",
              "    }\n",
              "\n",
              "    .dataframe thead th {\n",
              "        text-align: right;\n",
              "    }\n",
              "</style>\n",
              "<table border=\"1\" class=\"dataframe\">\n",
              "  <thead>\n",
              "    <tr style=\"text-align: right;\">\n",
              "      <th></th>\n",
              "      <th>Origin Airport</th>\n",
              "      <th>Delayed Departure_x</th>\n",
              "      <th>Delayed Departure_y</th>\n",
              "    </tr>\n",
              "  </thead>\n",
              "  <tbody>\n",
              "    <tr>\n",
              "      <th>0</th>\n",
              "      <td>ATL</td>\n",
              "      <td>35864</td>\n",
              "      <td>0.146937</td>\n",
              "    </tr>\n",
              "    <tr>\n",
              "      <th>1</th>\n",
              "      <td>MSP</td>\n",
              "      <td>9307</td>\n",
              "      <td>0.135718</td>\n",
              "    </tr>\n",
              "    <tr>\n",
              "      <th>2</th>\n",
              "      <td>DTW</td>\n",
              "      <td>8125</td>\n",
              "      <td>0.135824</td>\n",
              "    </tr>\n",
              "    <tr>\n",
              "      <th>3</th>\n",
              "      <td>LAX</td>\n",
              "      <td>6564</td>\n",
              "      <td>0.179845</td>\n",
              "    </tr>\n",
              "    <tr>\n",
              "      <th>4</th>\n",
              "      <td>SLC</td>\n",
              "      <td>5921</td>\n",
              "      <td>0.125973</td>\n",
              "    </tr>\n",
              "    <tr>\n",
              "      <th>5</th>\n",
              "      <td>JFK</td>\n",
              "      <td>5839</td>\n",
              "      <td>0.179839</td>\n",
              "    </tr>\n",
              "    <tr>\n",
              "      <th>6</th>\n",
              "      <td>LGA</td>\n",
              "      <td>5834</td>\n",
              "      <td>0.206250</td>\n",
              "    </tr>\n",
              "    <tr>\n",
              "      <th>7</th>\n",
              "      <td>SEA</td>\n",
              "      <td>4304</td>\n",
              "      <td>0.140686</td>\n",
              "    </tr>\n",
              "    <tr>\n",
              "      <th>8</th>\n",
              "      <td>BOS</td>\n",
              "      <td>3345</td>\n",
              "      <td>0.180850</td>\n",
              "    </tr>\n",
              "    <tr>\n",
              "      <th>9</th>\n",
              "      <td>ORD</td>\n",
              "      <td>2876</td>\n",
              "      <td>0.214803</td>\n",
              "    </tr>\n",
              "    <tr>\n",
              "      <th>10</th>\n",
              "      <td>SFO</td>\n",
              "      <td>2863</td>\n",
              "      <td>0.188132</td>\n",
              "    </tr>\n",
              "    <tr>\n",
              "      <th>11</th>\n",
              "      <td>MCO</td>\n",
              "      <td>2590</td>\n",
              "      <td>0.138170</td>\n",
              "    </tr>\n",
              "    <tr>\n",
              "      <th>12</th>\n",
              "      <td>FLL</td>\n",
              "      <td>1845</td>\n",
              "      <td>0.163753</td>\n",
              "    </tr>\n",
              "    <tr>\n",
              "      <th>13</th>\n",
              "      <td>DEN</td>\n",
              "      <td>1682</td>\n",
              "      <td>0.140424</td>\n",
              "    </tr>\n",
              "    <tr>\n",
              "      <th>14</th>\n",
              "      <td>MIA</td>\n",
              "      <td>1538</td>\n",
              "      <td>0.180009</td>\n",
              "    </tr>\n",
              "    <tr>\n",
              "      <th>15</th>\n",
              "      <td>LAS</td>\n",
              "      <td>1470</td>\n",
              "      <td>0.106360</td>\n",
              "    </tr>\n",
              "    <tr>\n",
              "      <th>16</th>\n",
              "      <td>IAH</td>\n",
              "      <td>1130</td>\n",
              "      <td>0.242750</td>\n",
              "    </tr>\n",
              "    <tr>\n",
              "      <th>17</th>\n",
              "      <td>PHX</td>\n",
              "      <td>1093</td>\n",
              "      <td>0.125820</td>\n",
              "    </tr>\n",
              "    <tr>\n",
              "      <th>18</th>\n",
              "      <td>DCA</td>\n",
              "      <td>1081</td>\n",
              "      <td>0.113670</td>\n",
              "    </tr>\n",
              "    <tr>\n",
              "      <th>19</th>\n",
              "      <td>CLT</td>\n",
              "      <td>840</td>\n",
              "      <td>0.116263</td>\n",
              "    </tr>\n",
              "    <tr>\n",
              "      <th>20</th>\n",
              "      <td>PHL</td>\n",
              "      <td>825</td>\n",
              "      <td>0.126340</td>\n",
              "    </tr>\n",
              "    <tr>\n",
              "      <th>21</th>\n",
              "      <td>BWI</td>\n",
              "      <td>745</td>\n",
              "      <td>0.107457</td>\n",
              "    </tr>\n",
              "    <tr>\n",
              "      <th>22</th>\n",
              "      <td>MDW</td>\n",
              "      <td>201</td>\n",
              "      <td>0.092117</td>\n",
              "    </tr>\n",
              "  </tbody>\n",
              "</table>\n",
              "</div>"
            ],
            "text/plain": [
              "   Origin Airport  Delayed Departure_x  Delayed Departure_y\n",
              "0             ATL                35864             0.146937\n",
              "1             MSP                 9307             0.135718\n",
              "2             DTW                 8125             0.135824\n",
              "3             LAX                 6564             0.179845\n",
              "4             SLC                 5921             0.125973\n",
              "5             JFK                 5839             0.179839\n",
              "6             LGA                 5834             0.206250\n",
              "7             SEA                 4304             0.140686\n",
              "8             BOS                 3345             0.180850\n",
              "9             ORD                 2876             0.214803\n",
              "10            SFO                 2863             0.188132\n",
              "11            MCO                 2590             0.138170\n",
              "12            FLL                 1845             0.163753\n",
              "13            DEN                 1682             0.140424\n",
              "14            MIA                 1538             0.180009\n",
              "15            LAS                 1470             0.106360\n",
              "16            IAH                 1130             0.242750\n",
              "17            PHX                 1093             0.125820\n",
              "18            DCA                 1081             0.113670\n",
              "19            CLT                  840             0.116263\n",
              "20            PHL                  825             0.126340\n",
              "21            BWI                  745             0.107457\n",
              "22            MDW                  201             0.092117"
            ]
          },
          "metadata": {
            "tags": []
          },
          "execution_count": 89
        }
      ]
    },
    {
      "cell_type": "code",
      "metadata": {
        "colab": {
          "base_uri": "https://localhost:8080/",
          "height": 424
        },
        "id": "w5u8yTBfsfgp",
        "outputId": "42273b58-1761-4af9-85f4-5f37fe7cc532"
      },
      "source": [
        "delay_by_airport_by_month = df[['Month', 'Origin Airport', 'Delayed Departure']].groupby(['Month','Origin Airport']).sum().reset_index().sort_values('Delayed Departure', ascending = False)\n",
        "\n",
        "delay_by_airport_by_month"
      ],
      "execution_count": null,
      "outputs": [
        {
          "output_type": "execute_result",
          "data": {
            "text/html": [
              "<div>\n",
              "<style scoped>\n",
              "    .dataframe tbody tr th:only-of-type {\n",
              "        vertical-align: middle;\n",
              "    }\n",
              "\n",
              "    .dataframe tbody tr th {\n",
              "        vertical-align: top;\n",
              "    }\n",
              "\n",
              "    .dataframe thead th {\n",
              "        text-align: right;\n",
              "    }\n",
              "</style>\n",
              "<table border=\"1\" class=\"dataframe\">\n",
              "  <thead>\n",
              "    <tr style=\"text-align: right;\">\n",
              "      <th></th>\n",
              "      <th>Month</th>\n",
              "      <th>Origin Airport</th>\n",
              "      <th>Delayed Departure</th>\n",
              "    </tr>\n",
              "  </thead>\n",
              "  <tbody>\n",
              "    <tr>\n",
              "      <th>115</th>\n",
              "      <td>6</td>\n",
              "      <td>ATL</td>\n",
              "      <td>4906</td>\n",
              "    </tr>\n",
              "    <tr>\n",
              "      <th>138</th>\n",
              "      <td>7</td>\n",
              "      <td>ATL</td>\n",
              "      <td>4657</td>\n",
              "    </tr>\n",
              "    <tr>\n",
              "      <th>161</th>\n",
              "      <td>8</td>\n",
              "      <td>ATL</td>\n",
              "      <td>3592</td>\n",
              "    </tr>\n",
              "    <tr>\n",
              "      <th>69</th>\n",
              "      <td>4</td>\n",
              "      <td>ATL</td>\n",
              "      <td>3201</td>\n",
              "    </tr>\n",
              "    <tr>\n",
              "      <th>92</th>\n",
              "      <td>5</td>\n",
              "      <td>ATL</td>\n",
              "      <td>3166</td>\n",
              "    </tr>\n",
              "    <tr>\n",
              "      <th>...</th>\n",
              "      <td>...</td>\n",
              "      <td>...</td>\n",
              "      <td>...</td>\n",
              "    </tr>\n",
              "    <tr>\n",
              "      <th>198</th>\n",
              "      <td>9</td>\n",
              "      <td>MDW</td>\n",
              "      <td>15</td>\n",
              "    </tr>\n",
              "    <tr>\n",
              "      <th>37</th>\n",
              "      <td>2</td>\n",
              "      <td>MDW</td>\n",
              "      <td>13</td>\n",
              "    </tr>\n",
              "    <tr>\n",
              "      <th>244</th>\n",
              "      <td>11</td>\n",
              "      <td>MDW</td>\n",
              "      <td>12</td>\n",
              "    </tr>\n",
              "    <tr>\n",
              "      <th>267</th>\n",
              "      <td>12</td>\n",
              "      <td>MDW</td>\n",
              "      <td>11</td>\n",
              "    </tr>\n",
              "    <tr>\n",
              "      <th>60</th>\n",
              "      <td>3</td>\n",
              "      <td>MDW</td>\n",
              "      <td>9</td>\n",
              "    </tr>\n",
              "  </tbody>\n",
              "</table>\n",
              "<p>276 rows × 3 columns</p>\n",
              "</div>"
            ],
            "text/plain": [
              "     Month Origin Airport  Delayed Departure\n",
              "115      6            ATL               4906\n",
              "138      7            ATL               4657\n",
              "161      8            ATL               3592\n",
              "69       4            ATL               3201\n",
              "92       5            ATL               3166\n",
              "..     ...            ...                ...\n",
              "198      9            MDW                 15\n",
              "37       2            MDW                 13\n",
              "244     11            MDW                 12\n",
              "267     12            MDW                 11\n",
              "60       3            MDW                  9\n",
              "\n",
              "[276 rows x 3 columns]"
            ]
          },
          "metadata": {
            "tags": []
          },
          "execution_count": 91
        }
      ]
    },
    {
      "cell_type": "code",
      "metadata": {
        "colab": {
          "base_uri": "https://localhost:8080/",
          "height": 424
        },
        "id": "yZ9Av3NqtDHV",
        "outputId": "4680a4bf-5319-454e-fc04-8dca4b39b62e"
      },
      "source": [
        "delay_by_airport_by_month_time = df[['Month', 'Actual Departure Time Name', 'Origin Airport', 'Delayed Departure']].groupby(['Month','Actual Departure Time Name','Origin Airport']).sum().reset_index().sort_values('Delayed Departure', ascending = False)\n",
        "\n",
        "delay_by_airport_by_month_time"
      ],
      "execution_count": null,
      "outputs": [
        {
          "output_type": "execute_result",
          "data": {
            "text/html": [
              "<div>\n",
              "<style scoped>\n",
              "    .dataframe tbody tr th:only-of-type {\n",
              "        vertical-align: middle;\n",
              "    }\n",
              "\n",
              "    .dataframe tbody tr th {\n",
              "        vertical-align: top;\n",
              "    }\n",
              "\n",
              "    .dataframe thead th {\n",
              "        text-align: right;\n",
              "    }\n",
              "</style>\n",
              "<table border=\"1\" class=\"dataframe\">\n",
              "  <thead>\n",
              "    <tr style=\"text-align: right;\">\n",
              "      <th></th>\n",
              "      <th>Month</th>\n",
              "      <th>Actual Departure Time Name</th>\n",
              "      <th>Origin Airport</th>\n",
              "      <th>Delayed Departure</th>\n",
              "    </tr>\n",
              "  </thead>\n",
              "  <tbody>\n",
              "    <tr>\n",
              "      <th>789</th>\n",
              "      <td>6</td>\n",
              "      <td>Night</td>\n",
              "      <td>ATL</td>\n",
              "      <td>1910</td>\n",
              "    </tr>\n",
              "    <tr>\n",
              "      <th>926</th>\n",
              "      <td>7</td>\n",
              "      <td>Night</td>\n",
              "      <td>ATL</td>\n",
              "      <td>1802</td>\n",
              "    </tr>\n",
              "    <tr>\n",
              "      <th>720</th>\n",
              "      <td>6</td>\n",
              "      <td>Evening</td>\n",
              "      <td>ATL</td>\n",
              "      <td>1384</td>\n",
              "    </tr>\n",
              "    <tr>\n",
              "      <th>1063</th>\n",
              "      <td>8</td>\n",
              "      <td>Night</td>\n",
              "      <td>ATL</td>\n",
              "      <td>1312</td>\n",
              "    </tr>\n",
              "    <tr>\n",
              "      <th>651</th>\n",
              "      <td>5</td>\n",
              "      <td>Night</td>\n",
              "      <td>ATL</td>\n",
              "      <td>1279</td>\n",
              "    </tr>\n",
              "    <tr>\n",
              "      <th>...</th>\n",
              "      <td>...</td>\n",
              "      <td>...</td>\n",
              "      <td>...</td>\n",
              "      <td>...</td>\n",
              "    </tr>\n",
              "    <tr>\n",
              "      <th>81</th>\n",
              "      <td>1</td>\n",
              "      <td>Late Night</td>\n",
              "      <td>LGA</td>\n",
              "      <td>0</td>\n",
              "    </tr>\n",
              "    <tr>\n",
              "      <th>82</th>\n",
              "      <td>1</td>\n",
              "      <td>Late Night</td>\n",
              "      <td>MCO</td>\n",
              "      <td>0</td>\n",
              "    </tr>\n",
              "    <tr>\n",
              "      <th>86</th>\n",
              "      <td>1</td>\n",
              "      <td>Late Night</td>\n",
              "      <td>PHL</td>\n",
              "      <td>0</td>\n",
              "    </tr>\n",
              "    <tr>\n",
              "      <th>369</th>\n",
              "      <td>3</td>\n",
              "      <td>Morning</td>\n",
              "      <td>MDW</td>\n",
              "      <td>0</td>\n",
              "    </tr>\n",
              "    <tr>\n",
              "      <th>746</th>\n",
              "      <td>6</td>\n",
              "      <td>Late Night</td>\n",
              "      <td>CLT</td>\n",
              "      <td>0</td>\n",
              "    </tr>\n",
              "  </tbody>\n",
              "</table>\n",
              "<p>1613 rows × 4 columns</p>\n",
              "</div>"
            ],
            "text/plain": [
              "      Month Actual Departure Time Name Origin Airport  Delayed Departure\n",
              "789       6                      Night            ATL               1910\n",
              "926       7                      Night            ATL               1802\n",
              "720       6                    Evening            ATL               1384\n",
              "1063      8                      Night            ATL               1312\n",
              "651       5                      Night            ATL               1279\n",
              "...     ...                        ...            ...                ...\n",
              "81        1                 Late Night            LGA                  0\n",
              "82        1                 Late Night            MCO                  0\n",
              "86        1                 Late Night            PHL                  0\n",
              "369       3                    Morning            MDW                  0\n",
              "746       6                 Late Night            CLT                  0\n",
              "\n",
              "[1613 rows x 4 columns]"
            ]
          },
          "metadata": {
            "tags": []
          },
          "execution_count": 96
        }
      ]
    },
    {
      "cell_type": "code",
      "metadata": {
        "colab": {
          "base_uri": "https://localhost:8080/",
          "height": 424
        },
        "id": "6WzlaMHufLuO",
        "outputId": "a484c0b4-8044-4e1d-e553-1ae552f2a1bd"
      },
      "source": [
        "delays_by_dest_airport = df[['Dest Airport', 'Delayed Departure']].groupby(['Dest Airport']).sum().reset_index().sort_values('Delayed Departure', ascending = False)\n",
        "\n",
        "delays_by_dest_airport"
      ],
      "execution_count": null,
      "outputs": [
        {
          "output_type": "execute_result",
          "data": {
            "text/html": [
              "<div>\n",
              "<style scoped>\n",
              "    .dataframe tbody tr th:only-of-type {\n",
              "        vertical-align: middle;\n",
              "    }\n",
              "\n",
              "    .dataframe tbody tr th {\n",
              "        vertical-align: top;\n",
              "    }\n",
              "\n",
              "    .dataframe thead th {\n",
              "        text-align: right;\n",
              "    }\n",
              "</style>\n",
              "<table border=\"1\" class=\"dataframe\">\n",
              "  <thead>\n",
              "    <tr style=\"text-align: right;\">\n",
              "      <th></th>\n",
              "      <th>Dest Airport</th>\n",
              "      <th>Delayed Departure</th>\n",
              "    </tr>\n",
              "  </thead>\n",
              "  <tbody>\n",
              "    <tr>\n",
              "      <th>5</th>\n",
              "      <td>ATL</td>\n",
              "      <td>10942</td>\n",
              "    </tr>\n",
              "    <tr>\n",
              "      <th>99</th>\n",
              "      <td>MSP</td>\n",
              "      <td>5368</td>\n",
              "    </tr>\n",
              "    <tr>\n",
              "      <th>83</th>\n",
              "      <td>LGA</td>\n",
              "      <td>5348</td>\n",
              "    </tr>\n",
              "    <tr>\n",
              "      <th>42</th>\n",
              "      <td>DTW</td>\n",
              "      <td>5003</td>\n",
              "    </tr>\n",
              "    <tr>\n",
              "      <th>76</th>\n",
              "      <td>JFK</td>\n",
              "      <td>4168</td>\n",
              "    </tr>\n",
              "    <tr>\n",
              "      <th>...</th>\n",
              "      <td>...</td>\n",
              "      <td>...</td>\n",
              "    </tr>\n",
              "    <tr>\n",
              "      <th>44</th>\n",
              "      <td>EGE</td>\n",
              "      <td>10</td>\n",
              "    </tr>\n",
              "    <tr>\n",
              "      <th>17</th>\n",
              "      <td>BTR</td>\n",
              "      <td>9</td>\n",
              "    </tr>\n",
              "    <tr>\n",
              "      <th>101</th>\n",
              "      <td>MTJ</td>\n",
              "      <td>4</td>\n",
              "    </tr>\n",
              "    <tr>\n",
              "      <th>84</th>\n",
              "      <td>LGB</td>\n",
              "      <td>3</td>\n",
              "    </tr>\n",
              "    <tr>\n",
              "      <th>131</th>\n",
              "      <td>SBN</td>\n",
              "      <td>1</td>\n",
              "    </tr>\n",
              "  </tbody>\n",
              "</table>\n",
              "<p>154 rows × 2 columns</p>\n",
              "</div>"
            ],
            "text/plain": [
              "    Dest Airport  Delayed Departure\n",
              "5            ATL              10942\n",
              "99           MSP               5368\n",
              "83           LGA               5348\n",
              "42           DTW               5003\n",
              "76           JFK               4168\n",
              "..           ...                ...\n",
              "44           EGE                 10\n",
              "17           BTR                  9\n",
              "101          MTJ                  4\n",
              "84           LGB                  3\n",
              "131          SBN                  1\n",
              "\n",
              "[154 rows x 2 columns]"
            ]
          },
          "metadata": {
            "tags": []
          },
          "execution_count": 82
        }
      ]
    },
    {
      "cell_type": "markdown",
      "metadata": {
        "id": "qZ0VRJmrCNSz"
      },
      "source": [
        "## What are the delays by Region?"
      ]
    },
    {
      "cell_type": "code",
      "metadata": {
        "colab": {
          "base_uri": "https://localhost:8080/",
          "height": 175
        },
        "id": "ydUwzd4K_JqA",
        "outputId": "cc969df3-a7f9-4db8-9fd7-8762f8231d75"
      },
      "source": [
        "delays_by_region = df[['Origin Region', 'Delayed Departure']].groupby(['Origin Region']).sum().reset_index().sort_values('Delayed Departure', ascending = False)\n",
        "\n",
        "delays_by_region"
      ],
      "execution_count": null,
      "outputs": [
        {
          "output_type": "execute_result",
          "data": {
            "text/html": [
              "<div>\n",
              "<style scoped>\n",
              "    .dataframe tbody tr th:only-of-type {\n",
              "        vertical-align: middle;\n",
              "    }\n",
              "\n",
              "    .dataframe tbody tr th {\n",
              "        vertical-align: top;\n",
              "    }\n",
              "\n",
              "    .dataframe thead th {\n",
              "        text-align: right;\n",
              "    }\n",
              "</style>\n",
              "<table border=\"1\" class=\"dataframe\">\n",
              "  <thead>\n",
              "    <tr style=\"text-align: right;\">\n",
              "      <th></th>\n",
              "      <th>Origin Region</th>\n",
              "      <th>Delayed Departure</th>\n",
              "    </tr>\n",
              "  </thead>\n",
              "  <tbody>\n",
              "    <tr>\n",
              "      <th>2</th>\n",
              "      <td>South</td>\n",
              "      <td>45633</td>\n",
              "    </tr>\n",
              "    <tr>\n",
              "      <th>3</th>\n",
              "      <td>West</td>\n",
              "      <td>23897</td>\n",
              "    </tr>\n",
              "    <tr>\n",
              "      <th>0</th>\n",
              "      <td>Midwest</td>\n",
              "      <td>20509</td>\n",
              "    </tr>\n",
              "    <tr>\n",
              "      <th>1</th>\n",
              "      <td>Northeast</td>\n",
              "      <td>15843</td>\n",
              "    </tr>\n",
              "  </tbody>\n",
              "</table>\n",
              "</div>"
            ],
            "text/plain": [
              "  Origin Region  Delayed Departure\n",
              "2         South              45633\n",
              "3          West              23897\n",
              "0       Midwest              20509\n",
              "1     Northeast              15843"
            ]
          },
          "metadata": {
            "tags": []
          },
          "execution_count": 27
        }
      ]
    },
    {
      "cell_type": "code",
      "metadata": {
        "colab": {
          "base_uri": "https://localhost:8080/",
          "height": 175
        },
        "id": "Oq37DD1kAJp0",
        "outputId": "cff7954e-fe9c-40ee-9217-57f38d400e4f"
      },
      "source": [
        "airports_in_region = df[['Origin Region', 'Origin Airport']].groupby('Origin Region').nunique().reset_index().sort_values('Origin Airport', ascending = False)\n",
        "\n",
        "airports_in_region"
      ],
      "execution_count": null,
      "outputs": [
        {
          "output_type": "execute_result",
          "data": {
            "text/html": [
              "<div>\n",
              "<style scoped>\n",
              "    .dataframe tbody tr th:only-of-type {\n",
              "        vertical-align: middle;\n",
              "    }\n",
              "\n",
              "    .dataframe tbody tr th {\n",
              "        vertical-align: top;\n",
              "    }\n",
              "\n",
              "    .dataframe thead th {\n",
              "        text-align: right;\n",
              "    }\n",
              "</style>\n",
              "<table border=\"1\" class=\"dataframe\">\n",
              "  <thead>\n",
              "    <tr style=\"text-align: right;\">\n",
              "      <th></th>\n",
              "      <th>Origin Region</th>\n",
              "      <th>Origin Airport</th>\n",
              "    </tr>\n",
              "  </thead>\n",
              "  <tbody>\n",
              "    <tr>\n",
              "      <th>2</th>\n",
              "      <td>South</td>\n",
              "      <td>8</td>\n",
              "    </tr>\n",
              "    <tr>\n",
              "      <th>3</th>\n",
              "      <td>West</td>\n",
              "      <td>7</td>\n",
              "    </tr>\n",
              "    <tr>\n",
              "      <th>0</th>\n",
              "      <td>Midwest</td>\n",
              "      <td>4</td>\n",
              "    </tr>\n",
              "    <tr>\n",
              "      <th>1</th>\n",
              "      <td>Northeast</td>\n",
              "      <td>4</td>\n",
              "    </tr>\n",
              "  </tbody>\n",
              "</table>\n",
              "</div>"
            ],
            "text/plain": [
              "  Origin Region  Origin Airport\n",
              "2         South               8\n",
              "3          West               7\n",
              "0       Midwest               4\n",
              "1     Northeast               4"
            ]
          },
          "metadata": {
            "tags": []
          },
          "execution_count": 28
        }
      ]
    },
    {
      "cell_type": "code",
      "metadata": {
        "colab": {
          "base_uri": "https://localhost:8080/"
        },
        "id": "1aHsFlLmDbNa",
        "outputId": "4f0e7d8b-686a-428a-dc56-25b05050093a"
      },
      "source": [
        "round(delays_by_region['Delayed Departure']/airports_in_region['Origin Airport'],0).astype(int)"
      ],
      "execution_count": null,
      "outputs": [
        {
          "output_type": "execute_result",
          "data": {
            "text/plain": [
              "2    5704\n",
              "3    3414\n",
              "0    5127\n",
              "1    3961\n",
              "dtype: int64"
            ]
          },
          "metadata": {
            "tags": []
          },
          "execution_count": 29
        }
      ]
    },
    {
      "cell_type": "code",
      "metadata": {
        "colab": {
          "base_uri": "https://localhost:8080/",
          "height": 175
        },
        "id": "U5Dh_YwECZRI",
        "outputId": "66e1cbf2-c6a4-4a26-8154-66c811353e1c"
      },
      "source": [
        "scaled_delays_by_region = delays_by_region.merge(airports_in_region, how = 'left', on = 'Origin Region')\n",
        "\n",
        "scaled_delays_by_region['Scaled Delayed Departure'] = round(scaled_delays_by_region['Delayed Departure']/scaled_delays_by_region['Origin Airport'],0).astype(int)\n",
        "\n",
        "scaled_delays_by_region.sort_values('Scaled Delayed Departure', ascending = False, inplace = True)\n",
        "\n",
        "scaled_delays_by_region"
      ],
      "execution_count": null,
      "outputs": [
        {
          "output_type": "execute_result",
          "data": {
            "text/html": [
              "<div>\n",
              "<style scoped>\n",
              "    .dataframe tbody tr th:only-of-type {\n",
              "        vertical-align: middle;\n",
              "    }\n",
              "\n",
              "    .dataframe tbody tr th {\n",
              "        vertical-align: top;\n",
              "    }\n",
              "\n",
              "    .dataframe thead th {\n",
              "        text-align: right;\n",
              "    }\n",
              "</style>\n",
              "<table border=\"1\" class=\"dataframe\">\n",
              "  <thead>\n",
              "    <tr style=\"text-align: right;\">\n",
              "      <th></th>\n",
              "      <th>Origin Region</th>\n",
              "      <th>Delayed Departure</th>\n",
              "      <th>Origin Airport</th>\n",
              "      <th>Scaled Delayed Departure</th>\n",
              "    </tr>\n",
              "  </thead>\n",
              "  <tbody>\n",
              "    <tr>\n",
              "      <th>0</th>\n",
              "      <td>South</td>\n",
              "      <td>45633</td>\n",
              "      <td>8</td>\n",
              "      <td>5704</td>\n",
              "    </tr>\n",
              "    <tr>\n",
              "      <th>2</th>\n",
              "      <td>Midwest</td>\n",
              "      <td>20509</td>\n",
              "      <td>4</td>\n",
              "      <td>5127</td>\n",
              "    </tr>\n",
              "    <tr>\n",
              "      <th>3</th>\n",
              "      <td>Northeast</td>\n",
              "      <td>15843</td>\n",
              "      <td>4</td>\n",
              "      <td>3961</td>\n",
              "    </tr>\n",
              "    <tr>\n",
              "      <th>1</th>\n",
              "      <td>West</td>\n",
              "      <td>23897</td>\n",
              "      <td>7</td>\n",
              "      <td>3414</td>\n",
              "    </tr>\n",
              "  </tbody>\n",
              "</table>\n",
              "</div>"
            ],
            "text/plain": [
              "  Origin Region  Delayed Departure  Origin Airport  Scaled Delayed Departure\n",
              "0         South              45633               8                      5704\n",
              "2       Midwest              20509               4                      5127\n",
              "3     Northeast              15843               4                      3961\n",
              "1          West              23897               7                      3414"
            ]
          },
          "metadata": {
            "tags": []
          },
          "execution_count": 30
        }
      ]
    },
    {
      "cell_type": "code",
      "metadata": {
        "colab": {
          "base_uri": "https://localhost:8080/",
          "height": 659
        },
        "id": "p4oWlyV4_ezk",
        "outputId": "e210f2bb-5af4-49ff-d928-4e357da313d7"
      },
      "source": [
        "plt.figure(figsize=[18,10])\n",
        "\n",
        "plt.subplot(2,2,1)\n",
        "plt.bar(airports_in_region['Origin Region'],airports_in_region['Origin Airport'])\n",
        "plt.title('Number of Origin Airports in Region')\n",
        "plt.xlabel(\"Regions\")\n",
        "plt.ylabel(\"Number of Origin Airports\");\n",
        "\n",
        "plt.subplot(2,2,2)\n",
        "plt.bar(delays_by_region['Origin Region'],delays_by_region['Delayed Departure'])\n",
        "plt.title('Delayed Departures By Regions')\n",
        "plt.xlabel(\"Regions\")\n",
        "plt.ylabel(\"Number of Departure Delays\");\n",
        "\n",
        "plt.subplot(2,2,3)\n",
        "plt.bar(scaled_delays_by_region['Origin Region'],scaled_delays_by_region['Scaled Delayed Departure'])\n",
        "plt.title('Scaled Delayed Departures By Regions')\n",
        "plt.xlabel(\"Regions\")\n",
        "plt.ylabel(\"Number of Scaled Departure Delays\");\n",
        "\n",
        "plt.subplots_adjust(left=0.1,\n",
        "                    bottom=0.1, \n",
        "                    right=0.9, \n",
        "                    top=0.9, \n",
        "                    wspace=0.5, \n",
        "                    hspace=0.4)"
      ],
      "execution_count": null,
      "outputs": [
        {
          "output_type": "display_data",
          "data": {
            "image/png": "[encoded data removed]",
            "text/plain": [
              "<Figure size 1296x720 with 3 Axes>"
            ]
          },
          "metadata": {
            "tags": []
          }
        }
      ]
    },
    {
      "cell_type": "markdown",
      "metadata": {
        "id": "JAFP9KwPz4Ql"
      },
      "source": [
        "## How many monthly delays?"
      ]
    },
    {
      "cell_type": "code",
      "metadata": {
        "colab": {
          "base_uri": "https://localhost:8080/",
          "height": 426
        },
        "id": "9HrjH-Wr2XCe",
        "outputId": "390eb1eb-8ab6-45e4-8e3f-49fcc8daf86e"
      },
      "source": [
        "delays_by_month = df[['Delayed Departure', 'Month']].groupby('Month').sum().reset_index()\n",
        "\n",
        "delays_by_month"
      ],
      "execution_count": null,
      "outputs": [
        {
          "output_type": "execute_result",
          "data": {
            "text/html": [
              "<div>\n",
              "<style scoped>\n",
              "    .dataframe tbody tr th:only-of-type {\n",
              "        vertical-align: middle;\n",
              "    }\n",
              "\n",
              "    .dataframe tbody tr th {\n",
              "        vertical-align: top;\n",
              "    }\n",
              "\n",
              "    .dataframe thead th {\n",
              "        text-align: right;\n",
              "    }\n",
              "</style>\n",
              "<table border=\"1\" class=\"dataframe\">\n",
              "  <thead>\n",
              "    <tr style=\"text-align: right;\">\n",
              "      <th></th>\n",
              "      <th>Month</th>\n",
              "      <th>Delayed Departure</th>\n",
              "    </tr>\n",
              "  </thead>\n",
              "  <tbody>\n",
              "    <tr>\n",
              "      <th>0</th>\n",
              "      <td>1</td>\n",
              "      <td>7119</td>\n",
              "    </tr>\n",
              "    <tr>\n",
              "      <th>1</th>\n",
              "      <td>2</td>\n",
              "      <td>8753</td>\n",
              "    </tr>\n",
              "    <tr>\n",
              "      <th>2</th>\n",
              "      <td>3</td>\n",
              "      <td>7637</td>\n",
              "    </tr>\n",
              "    <tr>\n",
              "      <th>3</th>\n",
              "      <td>4</td>\n",
              "      <td>8437</td>\n",
              "    </tr>\n",
              "    <tr>\n",
              "      <th>4</th>\n",
              "      <td>5</td>\n",
              "      <td>8705</td>\n",
              "    </tr>\n",
              "    <tr>\n",
              "      <th>5</th>\n",
              "      <td>6</td>\n",
              "      <td>12677</td>\n",
              "    </tr>\n",
              "    <tr>\n",
              "      <th>6</th>\n",
              "      <td>7</td>\n",
              "      <td>12696</td>\n",
              "    </tr>\n",
              "    <tr>\n",
              "      <th>7</th>\n",
              "      <td>8</td>\n",
              "      <td>11429</td>\n",
              "    </tr>\n",
              "    <tr>\n",
              "      <th>8</th>\n",
              "      <td>9</td>\n",
              "      <td>6087</td>\n",
              "    </tr>\n",
              "    <tr>\n",
              "      <th>9</th>\n",
              "      <td>10</td>\n",
              "      <td>7289</td>\n",
              "    </tr>\n",
              "    <tr>\n",
              "      <th>10</th>\n",
              "      <td>11</td>\n",
              "      <td>5710</td>\n",
              "    </tr>\n",
              "    <tr>\n",
              "      <th>11</th>\n",
              "      <td>12</td>\n",
              "      <td>9343</td>\n",
              "    </tr>\n",
              "  </tbody>\n",
              "</table>\n",
              "</div>"
            ],
            "text/plain": [
              "    Month  Delayed Departure\n",
              "0       1               7119\n",
              "1       2               8753\n",
              "2       3               7637\n",
              "3       4               8437\n",
              "4       5               8705\n",
              "5       6              12677\n",
              "6       7              12696\n",
              "7       8              11429\n",
              "8       9               6087\n",
              "9      10               7289\n",
              "10     11               5710\n",
              "11     12               9343"
            ]
          },
          "metadata": {
            "tags": []
          },
          "execution_count": 32
        }
      ]
    },
    {
      "cell_type": "code",
      "metadata": {
        "colab": {
          "base_uri": "https://localhost:8080/",
          "height": 269
        },
        "id": "n8o9SLp_4h04",
        "outputId": "743cb3b2-4d62-45ba-bb53-e7d3375a8a81"
      },
      "source": [
        "delays_by_weekday = df[['Delayed Departure', 'Day_Of_Week']].groupby('Day_Of_Week').sum().reset_index()\n",
        "\n",
        "delays_by_weekday"
      ],
      "execution_count": null,
      "outputs": [
        {
          "output_type": "execute_result",
          "data": {
            "text/html": [
              "<div>\n",
              "<style scoped>\n",
              "    .dataframe tbody tr th:only-of-type {\n",
              "        vertical-align: middle;\n",
              "    }\n",
              "\n",
              "    .dataframe tbody tr th {\n",
              "        vertical-align: top;\n",
              "    }\n",
              "\n",
              "    .dataframe thead th {\n",
              "        text-align: right;\n",
              "    }\n",
              "</style>\n",
              "<table border=\"1\" class=\"dataframe\">\n",
              "  <thead>\n",
              "    <tr style=\"text-align: right;\">\n",
              "      <th></th>\n",
              "      <th>Day_Of_Week</th>\n",
              "      <th>Delayed Departure</th>\n",
              "    </tr>\n",
              "  </thead>\n",
              "  <tbody>\n",
              "    <tr>\n",
              "      <th>0</th>\n",
              "      <td>0</td>\n",
              "      <td>15953</td>\n",
              "    </tr>\n",
              "    <tr>\n",
              "      <th>1</th>\n",
              "      <td>1</td>\n",
              "      <td>13812</td>\n",
              "    </tr>\n",
              "    <tr>\n",
              "      <th>2</th>\n",
              "      <td>2</td>\n",
              "      <td>15549</td>\n",
              "    </tr>\n",
              "    <tr>\n",
              "      <th>3</th>\n",
              "      <td>3</td>\n",
              "      <td>18054</td>\n",
              "    </tr>\n",
              "    <tr>\n",
              "      <th>4</th>\n",
              "      <td>4</td>\n",
              "      <td>16905</td>\n",
              "    </tr>\n",
              "    <tr>\n",
              "      <th>5</th>\n",
              "      <td>5</td>\n",
              "      <td>10738</td>\n",
              "    </tr>\n",
              "    <tr>\n",
              "      <th>6</th>\n",
              "      <td>6</td>\n",
              "      <td>14871</td>\n",
              "    </tr>\n",
              "  </tbody>\n",
              "</table>\n",
              "</div>"
            ],
            "text/plain": [
              "   Day_Of_Week  Delayed Departure\n",
              "0            0              15953\n",
              "1            1              13812\n",
              "2            2              15549\n",
              "3            3              18054\n",
              "4            4              16905\n",
              "5            5              10738\n",
              "6            6              14871"
            ]
          },
          "metadata": {
            "tags": []
          },
          "execution_count": 33
        }
      ]
    },
    {
      "cell_type": "code",
      "metadata": {
        "colab": {
          "base_uri": "https://localhost:8080/",
          "height": 355
        },
        "id": "c9JE7Wss38eo",
        "outputId": "652a135b-6621-4c95-bce0-420e596bf77a"
      },
      "source": [
        "plt.figure(figsize=[15,5])\n",
        "\n",
        "plt.subplot(1,2,1)\n",
        "plt.plot(delays_by_month['Month'],delays_by_month['Delayed Departure'])\n",
        "plt.title('Total Delayed Departures By Month')\n",
        "plt.xticks(delays_by_month['Month'])\n",
        "plt.xlabel(\"Month\")\n",
        "plt.ylabel(\"Number of Departure Delays\");\n",
        "plt.ylim(ymin=0)\n",
        "\n",
        "plt.subplot(1,2,2)\n",
        "plt.plot(delays_by_weekday['Day_Of_Week'],delays_by_weekday['Delayed Departure'])\n",
        "plt.title('Total Delayed Departures By Weekday')\n",
        "plt.xticks(delays_by_weekday['Day_Of_Week'], labels=['Mon', 'Tues', 'Wed', 'Thurs', 'Fri', 'Sat', 'Sun'])\n",
        "plt.xlabel(\"Weekday\")\n",
        "plt.ylabel(\"Number of Departure Delays\")\n",
        "plt.ylim(ymin=0);"
      ],
      "execution_count": null,
      "outputs": [
        {
          "output_type": "display_data",
          "data": {
            "image/png": "[encoded data removed]",
            "text/plain": [
              "<Figure size 1080x360 with 2 Axes>"
            ]
          },
          "metadata": {
            "tags": []
          }
        }
      ]
    },
    {
      "cell_type": "markdown",
      "metadata": {
        "id": "v_y9aeR46AIB"
      },
      "source": [
        "## What time of day are delays most likely to occur?"
      ]
    },
    {
      "cell_type": "code",
      "metadata": {
        "colab": {
          "base_uri": "https://localhost:8080/",
          "height": 238
        },
        "id": "ocmoAo0W6Dtv",
        "outputId": "101b2b38-8afa-4997-a133-233ddc8cac2e"
      },
      "source": [
        "delays_by_time = df[['Actual Departure Time Name', 'Delayed Departure']].groupby('Actual Departure Time Name').sum().reset_index().sort_values('Delayed Departure', ascending = False)\n",
        "\n",
        "delays_by_time"
      ],
      "execution_count": null,
      "outputs": [
        {
          "output_type": "execute_result",
          "data": {
            "text/html": [
              "<div>\n",
              "<style scoped>\n",
              "    .dataframe tbody tr th:only-of-type {\n",
              "        vertical-align: middle;\n",
              "    }\n",
              "\n",
              "    .dataframe tbody tr th {\n",
              "        vertical-align: top;\n",
              "    }\n",
              "\n",
              "    .dataframe thead th {\n",
              "        text-align: right;\n",
              "    }\n",
              "</style>\n",
              "<table border=\"1\" class=\"dataframe\">\n",
              "  <thead>\n",
              "    <tr style=\"text-align: right;\">\n",
              "      <th></th>\n",
              "      <th>Actual Departure Time Name</th>\n",
              "      <th>Delayed Departure</th>\n",
              "    </tr>\n",
              "  </thead>\n",
              "  <tbody>\n",
              "    <tr>\n",
              "      <th>2</th>\n",
              "      <td>Evening</td>\n",
              "      <td>30245</td>\n",
              "    </tr>\n",
              "    <tr>\n",
              "      <th>5</th>\n",
              "      <td>Night</td>\n",
              "      <td>29845</td>\n",
              "    </tr>\n",
              "    <tr>\n",
              "      <th>0</th>\n",
              "      <td>Afternoon</td>\n",
              "      <td>23006</td>\n",
              "    </tr>\n",
              "    <tr>\n",
              "      <th>4</th>\n",
              "      <td>Morning</td>\n",
              "      <td>16900</td>\n",
              "    </tr>\n",
              "    <tr>\n",
              "      <th>3</th>\n",
              "      <td>Late Night</td>\n",
              "      <td>3357</td>\n",
              "    </tr>\n",
              "    <tr>\n",
              "      <th>1</th>\n",
              "      <td>Early Morning</td>\n",
              "      <td>2529</td>\n",
              "    </tr>\n",
              "  </tbody>\n",
              "</table>\n",
              "</div>"
            ],
            "text/plain": [
              "  Actual Departure Time Name  Delayed Departure\n",
              "2                    Evening              30245\n",
              "5                      Night              29845\n",
              "0                  Afternoon              23006\n",
              "4                    Morning              16900\n",
              "3                 Late Night               3357\n",
              "1              Early Morning               2529"
            ]
          },
          "metadata": {
            "tags": []
          },
          "execution_count": 35
        }
      ]
    },
    {
      "cell_type": "code",
      "metadata": {
        "colab": {
          "base_uri": "https://localhost:8080/",
          "height": 238
        },
        "id": "xPZisTnOJrzL",
        "outputId": "33781e3a-58fe-4f7d-e682-41cce0f84295"
      },
      "source": [
        "number_of_flights_by_time = df[['Actual Departure Time Name', 'Unique_Id']].groupby('Actual Departure Time Name').count().reset_index().sort_values('Unique_Id', ascending = False)\n",
        "\n",
        "number_of_flights_by_time"
      ],
      "execution_count": null,
      "outputs": [
        {
          "output_type": "execute_result",
          "data": {
            "text/html": [
              "<div>\n",
              "<style scoped>\n",
              "    .dataframe tbody tr th:only-of-type {\n",
              "        vertical-align: middle;\n",
              "    }\n",
              "\n",
              "    .dataframe tbody tr th {\n",
              "        vertical-align: top;\n",
              "    }\n",
              "\n",
              "    .dataframe thead th {\n",
              "        text-align: right;\n",
              "    }\n",
              "</style>\n",
              "<table border=\"1\" class=\"dataframe\">\n",
              "  <thead>\n",
              "    <tr style=\"text-align: right;\">\n",
              "      <th></th>\n",
              "      <th>Actual Departure Time Name</th>\n",
              "      <th>Unique_Id</th>\n",
              "    </tr>\n",
              "  </thead>\n",
              "  <tbody>\n",
              "    <tr>\n",
              "      <th>4</th>\n",
              "      <td>Morning</td>\n",
              "      <td>189302</td>\n",
              "    </tr>\n",
              "    <tr>\n",
              "      <th>0</th>\n",
              "      <td>Afternoon</td>\n",
              "      <td>164463</td>\n",
              "    </tr>\n",
              "    <tr>\n",
              "      <th>2</th>\n",
              "      <td>Evening</td>\n",
              "      <td>151537</td>\n",
              "    </tr>\n",
              "    <tr>\n",
              "      <th>5</th>\n",
              "      <td>Night</td>\n",
              "      <td>117515</td>\n",
              "    </tr>\n",
              "    <tr>\n",
              "      <th>1</th>\n",
              "      <td>Early Morning</td>\n",
              "      <td>75361</td>\n",
              "    </tr>\n",
              "    <tr>\n",
              "      <th>3</th>\n",
              "      <td>Late Night</td>\n",
              "      <td>6323</td>\n",
              "    </tr>\n",
              "  </tbody>\n",
              "</table>\n",
              "</div>"
            ],
            "text/plain": [
              "  Actual Departure Time Name  Unique_Id\n",
              "4                    Morning     189302\n",
              "0                  Afternoon     164463\n",
              "2                    Evening     151537\n",
              "5                      Night     117515\n",
              "1              Early Morning      75361\n",
              "3                 Late Night       6323"
            ]
          },
          "metadata": {
            "tags": []
          },
          "execution_count": 36
        }
      ]
    },
    {
      "cell_type": "code",
      "metadata": {
        "colab": {
          "base_uri": "https://localhost:8080/",
          "height": 238
        },
        "id": "LVxTWD9XL18T",
        "outputId": "4efdcfaf-dc34-4721-fafb-d283c52ca2d7"
      },
      "source": [
        "scaled_delays_by_time = delays_by_time.merge(number_of_flights_by_time, how = 'left', on = 'Actual Departure Time Name')\n",
        "\n",
        "scaled_delays_by_time['Scaled Delayed Departure'] = round(scaled_delays_by_time['Delayed Departure']/scaled_delays_by_time['Unique_Id'],2)\n",
        "\n",
        "scaled_delays_by_time.sort_values('Scaled Delayed Departure', ascending = False, inplace = True)\n",
        "\n",
        "scaled_delays_by_time"
      ],
      "execution_count": null,
      "outputs": [
        {
          "output_type": "execute_result",
          "data": {
            "text/html": [
              "<div>\n",
              "<style scoped>\n",
              "    .dataframe tbody tr th:only-of-type {\n",
              "        vertical-align: middle;\n",
              "    }\n",
              "\n",
              "    .dataframe tbody tr th {\n",
              "        vertical-align: top;\n",
              "    }\n",
              "\n",
              "    .dataframe thead th {\n",
              "        text-align: right;\n",
              "    }\n",
              "</style>\n",
              "<table border=\"1\" class=\"dataframe\">\n",
              "  <thead>\n",
              "    <tr style=\"text-align: right;\">\n",
              "      <th></th>\n",
              "      <th>Actual Departure Time Name</th>\n",
              "      <th>Delayed Departure</th>\n",
              "      <th>Unique_Id</th>\n",
              "      <th>Scaled Delayed Departure</th>\n",
              "    </tr>\n",
              "  </thead>\n",
              "  <tbody>\n",
              "    <tr>\n",
              "      <th>4</th>\n",
              "      <td>Late Night</td>\n",
              "      <td>3357</td>\n",
              "      <td>6323</td>\n",
              "      <td>0.53</td>\n",
              "    </tr>\n",
              "    <tr>\n",
              "      <th>1</th>\n",
              "      <td>Night</td>\n",
              "      <td>29845</td>\n",
              "      <td>117515</td>\n",
              "      <td>0.25</td>\n",
              "    </tr>\n",
              "    <tr>\n",
              "      <th>0</th>\n",
              "      <td>Evening</td>\n",
              "      <td>30245</td>\n",
              "      <td>151537</td>\n",
              "      <td>0.20</td>\n",
              "    </tr>\n",
              "    <tr>\n",
              "      <th>2</th>\n",
              "      <td>Afternoon</td>\n",
              "      <td>23006</td>\n",
              "      <td>164463</td>\n",
              "      <td>0.14</td>\n",
              "    </tr>\n",
              "    <tr>\n",
              "      <th>3</th>\n",
              "      <td>Morning</td>\n",
              "      <td>16900</td>\n",
              "      <td>189302</td>\n",
              "      <td>0.09</td>\n",
              "    </tr>\n",
              "    <tr>\n",
              "      <th>5</th>\n",
              "      <td>Early Morning</td>\n",
              "      <td>2529</td>\n",
              "      <td>75361</td>\n",
              "      <td>0.03</td>\n",
              "    </tr>\n",
              "  </tbody>\n",
              "</table>\n",
              "</div>"
            ],
            "text/plain": [
              "  Actual Departure Time Name  ...  Scaled Delayed Departure\n",
              "4                 Late Night  ...                      0.53\n",
              "1                      Night  ...                      0.25\n",
              "0                    Evening  ...                      0.20\n",
              "2                  Afternoon  ...                      0.14\n",
              "3                    Morning  ...                      0.09\n",
              "5              Early Morning  ...                      0.03\n",
              "\n",
              "[6 rows x 4 columns]"
            ]
          },
          "metadata": {
            "tags": []
          },
          "execution_count": 37
        }
      ]
    },
    {
      "cell_type": "markdown",
      "metadata": {
        "id": "x6ejIbCZ6LsU"
      },
      "source": [
        "## Does distance affect delays?"
      ]
    },
    {
      "cell_type": "code",
      "metadata": {
        "colab": {
          "base_uri": "https://localhost:8080/",
          "height": 112
        },
        "id": "stK302Ib6VVS",
        "outputId": "a264ce25-8d22-481a-ac9a-1fed607b037e"
      },
      "source": [
        "delays_by_distance = df[['Distance Name', 'Delayed Departure']].groupby('Distance Name').sum().reset_index().sort_values('Distance Name', ascending = False)\n",
        "\n",
        "delays_by_distance"
      ],
      "execution_count": null,
      "outputs": [
        {
          "output_type": "execute_result",
          "data": {
            "text/html": [
              "<div>\n",
              "<style scoped>\n",
              "    .dataframe tbody tr th:only-of-type {\n",
              "        vertical-align: middle;\n",
              "    }\n",
              "\n",
              "    .dataframe tbody tr th {\n",
              "        vertical-align: top;\n",
              "    }\n",
              "\n",
              "    .dataframe thead th {\n",
              "        text-align: right;\n",
              "    }\n",
              "</style>\n",
              "<table border=\"1\" class=\"dataframe\">\n",
              "  <thead>\n",
              "    <tr style=\"text-align: right;\">\n",
              "      <th></th>\n",
              "      <th>Distance Name</th>\n",
              "      <th>Delayed Departure</th>\n",
              "    </tr>\n",
              "  </thead>\n",
              "  <tbody>\n",
              "    <tr>\n",
              "      <th>1</th>\n",
              "      <td>Short Haul</td>\n",
              "      <td>105786</td>\n",
              "    </tr>\n",
              "    <tr>\n",
              "      <th>0</th>\n",
              "      <td>Long Haul</td>\n",
              "      <td>96</td>\n",
              "    </tr>\n",
              "  </tbody>\n",
              "</table>\n",
              "</div>"
            ],
            "text/plain": [
              "  Distance Name  Delayed Departure\n",
              "1    Short Haul             105786\n",
              "0     Long Haul                 96"
            ]
          },
          "metadata": {
            "tags": []
          },
          "execution_count": 38
        }
      ]
    },
    {
      "cell_type": "code",
      "metadata": {
        "colab": {
          "base_uri": "https://localhost:8080/",
          "height": 112
        },
        "id": "l2SlV-iEHJRt",
        "outputId": "b4e82167-a16d-471c-fdc6-9fd9b137ed88"
      },
      "source": [
        "number_of_flights_by_distance = df[['Distance Name', 'Unique_Id']].groupby('Distance Name').count().reset_index().sort_values('Unique_Id', ascending = False)\n",
        "\n",
        "number_of_flights_by_distance"
      ],
      "execution_count": null,
      "outputs": [
        {
          "output_type": "execute_result",
          "data": {
            "text/html": [
              "<div>\n",
              "<style scoped>\n",
              "    .dataframe tbody tr th:only-of-type {\n",
              "        vertical-align: middle;\n",
              "    }\n",
              "\n",
              "    .dataframe tbody tr th {\n",
              "        vertical-align: top;\n",
              "    }\n",
              "\n",
              "    .dataframe thead th {\n",
              "        text-align: right;\n",
              "    }\n",
              "</style>\n",
              "<table border=\"1\" class=\"dataframe\">\n",
              "  <thead>\n",
              "    <tr style=\"text-align: right;\">\n",
              "      <th></th>\n",
              "      <th>Distance Name</th>\n",
              "      <th>Unique_Id</th>\n",
              "    </tr>\n",
              "  </thead>\n",
              "  <tbody>\n",
              "    <tr>\n",
              "      <th>1</th>\n",
              "      <td>Short Haul</td>\n",
              "      <td>703769</td>\n",
              "    </tr>\n",
              "    <tr>\n",
              "      <th>0</th>\n",
              "      <td>Long Haul</td>\n",
              "      <td>732</td>\n",
              "    </tr>\n",
              "  </tbody>\n",
              "</table>\n",
              "</div>"
            ],
            "text/plain": [
              "  Distance Name  Unique_Id\n",
              "1    Short Haul     703769\n",
              "0     Long Haul        732"
            ]
          },
          "metadata": {
            "tags": []
          },
          "execution_count": 39
        }
      ]
    },
    {
      "cell_type": "code",
      "metadata": {
        "colab": {
          "base_uri": "https://localhost:8080/",
          "height": 112
        },
        "id": "QHHULluJLYTG",
        "outputId": "6421f0f4-2c7b-477e-e17c-ea4314d46567"
      },
      "source": [
        "scaled_delays_by_distance = delays_by_distance.merge(number_of_flights_by_distance, how = 'left', on = 'Distance Name')\n",
        "\n",
        "scaled_delays_by_distance['Scaled Delayed Departure'] = round(scaled_delays_by_distance['Delayed Departure']/scaled_delays_by_distance['Unique_Id'],2)\n",
        "\n",
        "scaled_delays_by_distance.sort_values('Scaled Delayed Departure', ascending = False, inplace = True)\n",
        "\n",
        "scaled_delays_by_distance"
      ],
      "execution_count": null,
      "outputs": [
        {
          "output_type": "execute_result",
          "data": {
            "text/html": [
              "<div>\n",
              "<style scoped>\n",
              "    .dataframe tbody tr th:only-of-type {\n",
              "        vertical-align: middle;\n",
              "    }\n",
              "\n",
              "    .dataframe tbody tr th {\n",
              "        vertical-align: top;\n",
              "    }\n",
              "\n",
              "    .dataframe thead th {\n",
              "        text-align: right;\n",
              "    }\n",
              "</style>\n",
              "<table border=\"1\" class=\"dataframe\">\n",
              "  <thead>\n",
              "    <tr style=\"text-align: right;\">\n",
              "      <th></th>\n",
              "      <th>Distance Name</th>\n",
              "      <th>Delayed Departure</th>\n",
              "      <th>Unique_Id</th>\n",
              "      <th>Scaled Delayed Departure</th>\n",
              "    </tr>\n",
              "  </thead>\n",
              "  <tbody>\n",
              "    <tr>\n",
              "      <th>0</th>\n",
              "      <td>Short Haul</td>\n",
              "      <td>105786</td>\n",
              "      <td>703769</td>\n",
              "      <td>0.15</td>\n",
              "    </tr>\n",
              "    <tr>\n",
              "      <th>1</th>\n",
              "      <td>Long Haul</td>\n",
              "      <td>96</td>\n",
              "      <td>732</td>\n",
              "      <td>0.13</td>\n",
              "    </tr>\n",
              "  </tbody>\n",
              "</table>\n",
              "</div>"
            ],
            "text/plain": [
              "  Distance Name  Delayed Departure  Unique_Id  Scaled Delayed Departure\n",
              "0    Short Haul             105786     703769                      0.15\n",
              "1     Long Haul                 96        732                      0.13"
            ]
          },
          "metadata": {
            "tags": []
          },
          "execution_count": 40
        }
      ]
    },
    {
      "cell_type": "code",
      "metadata": {
        "colab": {
          "base_uri": "https://localhost:8080/",
          "height": 363
        },
        "id": "lu6I-zFgV1be",
        "outputId": "a92cbed7-6a8f-4346-dab6-9b0be3fc0b36"
      },
      "source": [
        "scaled_delays_by_distance2 = df[['Distance Range Name', 'Unique_Id']].groupby('Distance Range Name').count().reset_index().sort_values('Unique_Id', ascending = False).merge(\n",
        "   df[['Distance Range Name', 'Delayed Departure']].groupby('Distance Range Name').sum().reset_index().sort_values('Delayed Departure', ascending = False),\n",
        "   how = 'left', on ='Distance Range Name' \n",
        ")\n",
        "\n",
        "scaled_delays_by_distance2['Scaled Delayed Departure'] = round(scaled_delays_by_distance2['Delayed Departure']/scaled_delays_by_distance2['Unique_Id'],2)\n",
        "\n",
        "scaled_delays_by_distance2.sort_values('Scaled Delayed Departure', ascending = False, inplace = True)\n",
        "\n",
        "scaled_delays_by_distance2\n"
      ],
      "execution_count": null,
      "outputs": [
        {
          "output_type": "execute_result",
          "data": {
            "text/html": [
              "<div>\n",
              "<style scoped>\n",
              "    .dataframe tbody tr th:only-of-type {\n",
              "        vertical-align: middle;\n",
              "    }\n",
              "\n",
              "    .dataframe tbody tr th {\n",
              "        vertical-align: top;\n",
              "    }\n",
              "\n",
              "    .dataframe thead th {\n",
              "        text-align: right;\n",
              "    }\n",
              "</style>\n",
              "<table border=\"1\" class=\"dataframe\">\n",
              "  <thead>\n",
              "    <tr style=\"text-align: right;\">\n",
              "      <th></th>\n",
              "      <th>Distance Range Name</th>\n",
              "      <th>Unique_Id</th>\n",
              "      <th>Delayed Departure</th>\n",
              "      <th>Scaled Delayed Departure</th>\n",
              "    </tr>\n",
              "  </thead>\n",
              "  <tbody>\n",
              "    <tr>\n",
              "      <th>5</th>\n",
              "      <td>2539-3027</td>\n",
              "      <td>12104</td>\n",
              "      <td>2112</td>\n",
              "      <td>0.17</td>\n",
              "    </tr>\n",
              "    <tr>\n",
              "      <th>8</th>\n",
              "      <td>3027-3516</td>\n",
              "      <td>112</td>\n",
              "      <td>19</td>\n",
              "      <td>0.17</td>\n",
              "    </tr>\n",
              "    <tr>\n",
              "      <th>0</th>\n",
              "      <td>583-1072</td>\n",
              "      <td>245500</td>\n",
              "      <td>38694</td>\n",
              "      <td>0.16</td>\n",
              "    </tr>\n",
              "    <tr>\n",
              "      <th>2</th>\n",
              "      <td>1072-1561</td>\n",
              "      <td>93383</td>\n",
              "      <td>14488</td>\n",
              "      <td>0.16</td>\n",
              "    </tr>\n",
              "    <tr>\n",
              "      <th>4</th>\n",
              "      <td>2050-2539</td>\n",
              "      <td>43659</td>\n",
              "      <td>7175</td>\n",
              "      <td>0.16</td>\n",
              "    </tr>\n",
              "    <tr>\n",
              "      <th>3</th>\n",
              "      <td>1561-2050</td>\n",
              "      <td>71697</td>\n",
              "      <td>10762</td>\n",
              "      <td>0.15</td>\n",
              "    </tr>\n",
              "    <tr>\n",
              "      <th>9</th>\n",
              "      <td>4005-4494</td>\n",
              "      <td>52</td>\n",
              "      <td>8</td>\n",
              "      <td>0.15</td>\n",
              "    </tr>\n",
              "    <tr>\n",
              "      <th>1</th>\n",
              "      <td>90-583</td>\n",
              "      <td>237426</td>\n",
              "      <td>32555</td>\n",
              "      <td>0.14</td>\n",
              "    </tr>\n",
              "    <tr>\n",
              "      <th>7</th>\n",
              "      <td>3516-4005</td>\n",
              "      <td>203</td>\n",
              "      <td>27</td>\n",
              "      <td>0.13</td>\n",
              "    </tr>\n",
              "    <tr>\n",
              "      <th>6</th>\n",
              "      <td>4494-4983</td>\n",
              "      <td>365</td>\n",
              "      <td>42</td>\n",
              "      <td>0.12</td>\n",
              "    </tr>\n",
              "  </tbody>\n",
              "</table>\n",
              "</div>"
            ],
            "text/plain": [
              "  Distance Range Name  Unique_Id  Delayed Departure  Scaled Delayed Departure\n",
              "5           2539-3027      12104               2112                      0.17\n",
              "8           3027-3516        112                 19                      0.17\n",
              "0            583-1072     245500              38694                      0.16\n",
              "2           1072-1561      93383              14488                      0.16\n",
              "4           2050-2539      43659               7175                      0.16\n",
              "3           1561-2050      71697              10762                      0.15\n",
              "9           4005-4494         52                  8                      0.15\n",
              "1              90-583     237426              32555                      0.14\n",
              "7           3516-4005        203                 27                      0.13\n",
              "6           4494-4983        365                 42                      0.12"
            ]
          },
          "metadata": {
            "tags": []
          },
          "execution_count": 43
        }
      ]
    },
    {
      "cell_type": "code",
      "metadata": {
        "colab": {
          "base_uri": "https://localhost:8080/",
          "height": 363
        },
        "id": "BQwp2mc3WbsV",
        "outputId": "298952ec-3efa-4e39-a868-3a644801451e"
      },
      "source": [
        "df[['Distance Range Name', 'Delayed Departure']].groupby('Distance Range Name').sum().reset_index().sort_values('Delayed Departure', ascending = False)"
      ],
      "execution_count": null,
      "outputs": [
        {
          "output_type": "execute_result",
          "data": {
            "text/html": [
              "<div>\n",
              "<style scoped>\n",
              "    .dataframe tbody tr th:only-of-type {\n",
              "        vertical-align: middle;\n",
              "    }\n",
              "\n",
              "    .dataframe tbody tr th {\n",
              "        vertical-align: top;\n",
              "    }\n",
              "\n",
              "    .dataframe thead th {\n",
              "        text-align: right;\n",
              "    }\n",
              "</style>\n",
              "<table border=\"1\" class=\"dataframe\">\n",
              "  <thead>\n",
              "    <tr style=\"text-align: right;\">\n",
              "      <th></th>\n",
              "      <th>Distance Range Name</th>\n",
              "      <th>Delayed Departure</th>\n",
              "    </tr>\n",
              "  </thead>\n",
              "  <tbody>\n",
              "    <tr>\n",
              "      <th>1</th>\n",
              "      <td>583-1072</td>\n",
              "      <td>38694</td>\n",
              "    </tr>\n",
              "    <tr>\n",
              "      <th>0</th>\n",
              "      <td>90-583</td>\n",
              "      <td>32555</td>\n",
              "    </tr>\n",
              "    <tr>\n",
              "      <th>2</th>\n",
              "      <td>1072-1561</td>\n",
              "      <td>14488</td>\n",
              "    </tr>\n",
              "    <tr>\n",
              "      <th>3</th>\n",
              "      <td>1561-2050</td>\n",
              "      <td>10762</td>\n",
              "    </tr>\n",
              "    <tr>\n",
              "      <th>4</th>\n",
              "      <td>2050-2539</td>\n",
              "      <td>7175</td>\n",
              "    </tr>\n",
              "    <tr>\n",
              "      <th>5</th>\n",
              "      <td>2539-3027</td>\n",
              "      <td>2112</td>\n",
              "    </tr>\n",
              "    <tr>\n",
              "      <th>9</th>\n",
              "      <td>4494-4983</td>\n",
              "      <td>42</td>\n",
              "    </tr>\n",
              "    <tr>\n",
              "      <th>7</th>\n",
              "      <td>3516-4005</td>\n",
              "      <td>27</td>\n",
              "    </tr>\n",
              "    <tr>\n",
              "      <th>6</th>\n",
              "      <td>3027-3516</td>\n",
              "      <td>19</td>\n",
              "    </tr>\n",
              "    <tr>\n",
              "      <th>8</th>\n",
              "      <td>4005-4494</td>\n",
              "      <td>8</td>\n",
              "    </tr>\n",
              "  </tbody>\n",
              "</table>\n",
              "</div>"
            ],
            "text/plain": [
              "  Distance Range Name  Delayed Departure\n",
              "1            583-1072              38694\n",
              "0              90-583              32555\n",
              "2           1072-1561              14488\n",
              "3           1561-2050              10762\n",
              "4           2050-2539               7175\n",
              "5           2539-3027               2112\n",
              "9           4494-4983                 42\n",
              "7           3516-4005                 27\n",
              "6           3027-3516                 19\n",
              "8           4005-4494                  8"
            ]
          },
          "metadata": {
            "tags": []
          },
          "execution_count": 44
        }
      ]
    },
    {
      "cell_type": "markdown",
      "metadata": {
        "id": "I2b--dnJOYvJ"
      },
      "source": [
        "## When there is a delay, what impact does carrier, weather, NAS, security, and late arrival have?"
      ]
    },
    {
      "cell_type": "code",
      "metadata": {
        "colab": {
          "base_uri": "https://localhost:8080/",
          "height": 143
        },
        "id": "7NGFwIbBNTVI",
        "outputId": "a621ddfe-12c2-46ca-b7a4-7495e729df53"
      },
      "source": [
        "df[['Delayed Departure','Minutes Delayed By Carrier', 'Minutes Delayed By Weather', 'Minutes Delayed By NAS',\n",
        "    'Minutes Delayed By Security', 'Minutes Delayed By Late Arrival']].groupby('Delayed Departure').sum()\n",
        "# Note 0 means departing flights are not more than 15 minutes late. Seems like Delta is doing a decent job mitigating delays by NAS"
      ],
      "execution_count": null,
      "outputs": [
        {
          "output_type": "execute_result",
          "data": {
            "text/html": [
              "<div>\n",
              "<style scoped>\n",
              "    .dataframe tbody tr th:only-of-type {\n",
              "        vertical-align: middle;\n",
              "    }\n",
              "\n",
              "    .dataframe tbody tr th {\n",
              "        vertical-align: top;\n",
              "    }\n",
              "\n",
              "    .dataframe thead th {\n",
              "        text-align: right;\n",
              "    }\n",
              "</style>\n",
              "<table border=\"1\" class=\"dataframe\">\n",
              "  <thead>\n",
              "    <tr style=\"text-align: right;\">\n",
              "      <th></th>\n",
              "      <th>Minutes Delayed By Carrier</th>\n",
              "      <th>Minutes Delayed By Weather</th>\n",
              "      <th>Minutes Delayed By NAS</th>\n",
              "      <th>Minutes Delayed By Security</th>\n",
              "      <th>Minutes Delayed By Late Arrival</th>\n",
              "    </tr>\n",
              "    <tr>\n",
              "      <th>Delayed Departure</th>\n",
              "      <th></th>\n",
              "      <th></th>\n",
              "      <th></th>\n",
              "      <th></th>\n",
              "      <th></th>\n",
              "    </tr>\n",
              "  </thead>\n",
              "  <tbody>\n",
              "    <tr>\n",
              "      <th>0</th>\n",
              "      <td>57940</td>\n",
              "      <td>5460</td>\n",
              "      <td>711972</td>\n",
              "      <td>0</td>\n",
              "      <td>26736</td>\n",
              "    </tr>\n",
              "    <tr>\n",
              "      <th>1</th>\n",
              "      <td>2500872</td>\n",
              "      <td>507765</td>\n",
              "      <td>1444131</td>\n",
              "      <td>7491</td>\n",
              "      <td>2050198</td>\n",
              "    </tr>\n",
              "  </tbody>\n",
              "</table>\n",
              "</div>"
            ],
            "text/plain": [
              "                   Minutes Delayed By Carrier  ...  Minutes Delayed By Late Arrival\n",
              "Delayed Departure                              ...                                 \n",
              "0                                       57940  ...                            26736\n",
              "1                                     2500872  ...                          2050198\n",
              "\n",
              "[2 rows x 5 columns]"
            ]
          },
          "metadata": {
            "tags": []
          },
          "execution_count": 45
        }
      ]
    },
    {
      "cell_type": "code",
      "metadata": {
        "id": "cZr1MAtEN0aH",
        "colab": {
          "base_uri": "https://localhost:8080/",
          "height": 452
        },
        "outputId": "f3e063d8-e065-402a-9955-1882b17a6923"
      },
      "source": [
        "df.head()"
      ],
      "execution_count": null,
      "outputs": [
        {
          "output_type": "execute_result",
          "data": {
            "text/html": [
              "<div>\n",
              "<style scoped>\n",
              "    .dataframe tbody tr th:only-of-type {\n",
              "        vertical-align: middle;\n",
              "    }\n",
              "\n",
              "    .dataframe tbody tr th {\n",
              "        vertical-align: top;\n",
              "    }\n",
              "\n",
              "    .dataframe thead th {\n",
              "        text-align: right;\n",
              "    }\n",
              "</style>\n",
              "<table border=\"1\" class=\"dataframe\">\n",
              "  <thead>\n",
              "    <tr style=\"text-align: right;\">\n",
              "      <th></th>\n",
              "      <th>Unique_Id</th>\n",
              "      <th>Carrier Code</th>\n",
              "      <th>Flight Date</th>\n",
              "      <th>Flight Number</th>\n",
              "      <th>Tail Number</th>\n",
              "      <th>Origin Airport</th>\n",
              "      <th>Origin City</th>\n",
              "      <th>Origin State</th>\n",
              "      <th>Origin Divison</th>\n",
              "      <th>Origin Region</th>\n",
              "      <th>Dest Airport</th>\n",
              "      <th>Dest City</th>\n",
              "      <th>Dest State</th>\n",
              "      <th>Dest Divison</th>\n",
              "      <th>Dest Region</th>\n",
              "      <th>Scheduled Departure Time</th>\n",
              "      <th>Actual Departure Time</th>\n",
              "      <th>Actual Departure Time Name</th>\n",
              "      <th>Minutes Delayed Departing</th>\n",
              "      <th>Delayed Departure</th>\n",
              "      <th>Scheduled Elapsed Time</th>\n",
              "      <th>Actual Elapsed Time</th>\n",
              "      <th>Wheels-off Time</th>\n",
              "      <th>Taxi-out Time</th>\n",
              "      <th>Minutes Delayed By Carrier</th>\n",
              "      <th>Minutes Delayed By Weather</th>\n",
              "      <th>Minutes Delayed By NAS</th>\n",
              "      <th>Minutes Delayed By Security</th>\n",
              "      <th>Minutes Delayed By Late Arrival</th>\n",
              "      <th>Cancelled</th>\n",
              "      <th>Diverted</th>\n",
              "      <th>Flights</th>\n",
              "      <th>Distance</th>\n",
              "      <th>Distance Name</th>\n",
              "      <th>Scheduled Arrival Time</th>\n",
              "      <th>Actual Arrival Time</th>\n",
              "      <th>Minutes Delayed Arriving</th>\n",
              "      <th>AirTime</th>\n",
              "      <th>Month</th>\n",
              "      <th>Day_Of_Week</th>\n",
              "      <th>Distance Range Name</th>\n",
              "    </tr>\n",
              "  </thead>\n",
              "  <tbody>\n",
              "    <tr>\n",
              "      <th>0</th>\n",
              "      <td>01/01/2019-N67171-15-ATL</td>\n",
              "      <td>DL</td>\n",
              "      <td>2019-01-01</td>\n",
              "      <td>15</td>\n",
              "      <td>N67171</td>\n",
              "      <td>ATL</td>\n",
              "      <td>Atlanta</td>\n",
              "      <td>Georgia</td>\n",
              "      <td>South Atlantic</td>\n",
              "      <td>South</td>\n",
              "      <td>TPA</td>\n",
              "      <td>Tampa</td>\n",
              "      <td>Florida</td>\n",
              "      <td>South Atlantic</td>\n",
              "      <td>South</td>\n",
              "      <td>19:51</td>\n",
              "      <td>19:48</td>\n",
              "      <td>Evening</td>\n",
              "      <td>-3</td>\n",
              "      <td>0</td>\n",
              "      <td>88</td>\n",
              "      <td>80</td>\n",
              "      <td>20:01</td>\n",
              "      <td>13</td>\n",
              "      <td>0</td>\n",
              "      <td>0</td>\n",
              "      <td>0</td>\n",
              "      <td>0</td>\n",
              "      <td>0</td>\n",
              "      <td>0.0</td>\n",
              "      <td>0.0</td>\n",
              "      <td>1.0</td>\n",
              "      <td>406.0</td>\n",
              "      <td>Short Haul</td>\n",
              "      <td>2119</td>\n",
              "      <td>2108.0</td>\n",
              "      <td>-11.0</td>\n",
              "      <td>64.0</td>\n",
              "      <td>1</td>\n",
              "      <td>1</td>\n",
              "      <td>90-583</td>\n",
              "    </tr>\n",
              "    <tr>\n",
              "      <th>1</th>\n",
              "      <td>01/01/2019-N354NW-31-ATL</td>\n",
              "      <td>DL</td>\n",
              "      <td>2019-01-01</td>\n",
              "      <td>31</td>\n",
              "      <td>N354NW</td>\n",
              "      <td>ATL</td>\n",
              "      <td>Atlanta</td>\n",
              "      <td>Georgia</td>\n",
              "      <td>South Atlantic</td>\n",
              "      <td>South</td>\n",
              "      <td>DFW</td>\n",
              "      <td>Dallas/Fort Worth</td>\n",
              "      <td>Texas</td>\n",
              "      <td>West South Central</td>\n",
              "      <td>South</td>\n",
              "      <td>19:14</td>\n",
              "      <td>19:17</td>\n",
              "      <td>Evening</td>\n",
              "      <td>3</td>\n",
              "      <td>0</td>\n",
              "      <td>148</td>\n",
              "      <td>139</td>\n",
              "      <td>19:31</td>\n",
              "      <td>14</td>\n",
              "      <td>0</td>\n",
              "      <td>0</td>\n",
              "      <td>0</td>\n",
              "      <td>0</td>\n",
              "      <td>0</td>\n",
              "      <td>0.0</td>\n",
              "      <td>0.0</td>\n",
              "      <td>1.0</td>\n",
              "      <td>731.0</td>\n",
              "      <td>Short Haul</td>\n",
              "      <td>2042</td>\n",
              "      <td>2036.0</td>\n",
              "      <td>-6.0</td>\n",
              "      <td>112.0</td>\n",
              "      <td>1</td>\n",
              "      <td>1</td>\n",
              "      <td>583-1072</td>\n",
              "    </tr>\n",
              "    <tr>\n",
              "      <th>2</th>\n",
              "      <td>01/01/2019-N960DL-91-ATL</td>\n",
              "      <td>DL</td>\n",
              "      <td>2019-01-01</td>\n",
              "      <td>91</td>\n",
              "      <td>N960DL</td>\n",
              "      <td>ATL</td>\n",
              "      <td>Atlanta</td>\n",
              "      <td>Georgia</td>\n",
              "      <td>South Atlantic</td>\n",
              "      <td>South</td>\n",
              "      <td>RSW</td>\n",
              "      <td>Fort Myers</td>\n",
              "      <td>Florida</td>\n",
              "      <td>South Atlantic</td>\n",
              "      <td>South</td>\n",
              "      <td>17:24</td>\n",
              "      <td>17:20</td>\n",
              "      <td>Evening</td>\n",
              "      <td>-4</td>\n",
              "      <td>0</td>\n",
              "      <td>101</td>\n",
              "      <td>99</td>\n",
              "      <td>17:30</td>\n",
              "      <td>10</td>\n",
              "      <td>0</td>\n",
              "      <td>0</td>\n",
              "      <td>0</td>\n",
              "      <td>0</td>\n",
              "      <td>0</td>\n",
              "      <td>0.0</td>\n",
              "      <td>0.0</td>\n",
              "      <td>1.0</td>\n",
              "      <td>515.0</td>\n",
              "      <td>Short Haul</td>\n",
              "      <td>1905</td>\n",
              "      <td>1859.0</td>\n",
              "      <td>-46.0</td>\n",
              "      <td>86.0</td>\n",
              "      <td>1</td>\n",
              "      <td>1</td>\n",
              "      <td>90-583</td>\n",
              "    </tr>\n",
              "    <tr>\n",
              "      <th>3</th>\n",
              "      <td>01/01/2019-N944AT-131-ATL</td>\n",
              "      <td>DL</td>\n",
              "      <td>2019-01-01</td>\n",
              "      <td>131</td>\n",
              "      <td>N944AT</td>\n",
              "      <td>ATL</td>\n",
              "      <td>Atlanta</td>\n",
              "      <td>Georgia</td>\n",
              "      <td>South Atlantic</td>\n",
              "      <td>South</td>\n",
              "      <td>GSP</td>\n",
              "      <td>Greer</td>\n",
              "      <td>South Carolina</td>\n",
              "      <td>South Atlantic</td>\n",
              "      <td>South</td>\n",
              "      <td>17:46</td>\n",
              "      <td>17:48</td>\n",
              "      <td>Evening</td>\n",
              "      <td>2</td>\n",
              "      <td>0</td>\n",
              "      <td>54</td>\n",
              "      <td>44</td>\n",
              "      <td>17:58</td>\n",
              "      <td>10</td>\n",
              "      <td>0</td>\n",
              "      <td>0</td>\n",
              "      <td>0</td>\n",
              "      <td>0</td>\n",
              "      <td>0</td>\n",
              "      <td>0.0</td>\n",
              "      <td>0.0</td>\n",
              "      <td>1.0</td>\n",
              "      <td>153.0</td>\n",
              "      <td>Short Haul</td>\n",
              "      <td>1840</td>\n",
              "      <td>1832.0</td>\n",
              "      <td>-8.0</td>\n",
              "      <td>31.0</td>\n",
              "      <td>1</td>\n",
              "      <td>1</td>\n",
              "      <td>90-583</td>\n",
              "    </tr>\n",
              "    <tr>\n",
              "      <th>4</th>\n",
              "      <td>01/01/2019-N173DZ-186-ATL</td>\n",
              "      <td>DL</td>\n",
              "      <td>2019-01-01</td>\n",
              "      <td>186</td>\n",
              "      <td>N173DZ</td>\n",
              "      <td>ATL</td>\n",
              "      <td>Atlanta</td>\n",
              "      <td>Georgia</td>\n",
              "      <td>South Atlantic</td>\n",
              "      <td>South</td>\n",
              "      <td>MCO</td>\n",
              "      <td>Orlando</td>\n",
              "      <td>Florida</td>\n",
              "      <td>South Atlantic</td>\n",
              "      <td>South</td>\n",
              "      <td>15:55</td>\n",
              "      <td>15:54</td>\n",
              "      <td>Afternoon</td>\n",
              "      <td>-1</td>\n",
              "      <td>0</td>\n",
              "      <td>90</td>\n",
              "      <td>83</td>\n",
              "      <td>16:10</td>\n",
              "      <td>16</td>\n",
              "      <td>0</td>\n",
              "      <td>0</td>\n",
              "      <td>0</td>\n",
              "      <td>0</td>\n",
              "      <td>0</td>\n",
              "      <td>0.0</td>\n",
              "      <td>0.0</td>\n",
              "      <td>1.0</td>\n",
              "      <td>404.0</td>\n",
              "      <td>Short Haul</td>\n",
              "      <td>1725</td>\n",
              "      <td>1717.0</td>\n",
              "      <td>-8.0</td>\n",
              "      <td>60.0</td>\n",
              "      <td>1</td>\n",
              "      <td>1</td>\n",
              "      <td>90-583</td>\n",
              "    </tr>\n",
              "  </tbody>\n",
              "</table>\n",
              "</div>"
            ],
            "text/plain": [
              "                   Unique_Id Carrier Code  ... Day_Of_Week  Distance Range Name\n",
              "0   01/01/2019-N67171-15-ATL           DL  ...           1               90-583\n",
              "1   01/01/2019-N354NW-31-ATL           DL  ...           1             583-1072\n",
              "2   01/01/2019-N960DL-91-ATL           DL  ...           1               90-583\n",
              "3  01/01/2019-N944AT-131-ATL           DL  ...           1               90-583\n",
              "4  01/01/2019-N173DZ-186-ATL           DL  ...           1               90-583\n",
              "\n",
              "[5 rows x 41 columns]"
            ]
          },
          "metadata": {
            "tags": []
          },
          "execution_count": 98
        }
      ]
    },
    {
      "cell_type": "code",
      "metadata": {
        "colab": {
          "base_uri": "https://localhost:8080/"
        },
        "id": "j2HE0RRXRR6s",
        "outputId": "843bae11-4653-4dfc-81ee-5f85b214d6a4"
      },
      "source": [
        "df.columns"
      ],
      "execution_count": null,
      "outputs": [
        {
          "output_type": "execute_result",
          "data": {
            "text/plain": [
              "Index(['Unique_Id', 'Carrier Code', 'Flight Date', 'Flight Number',\n",
              "       'Tail Number', 'Origin Airport', 'Origin City', 'Origin State',\n",
              "       'Origin Divison', 'Origin Region', 'Dest Airport', 'Dest City',\n",
              "       'Dest State', 'Dest Divison', 'Dest Region', 'Scheduled Departure Time',\n",
              "       'Actual Departure Time', 'Actual Departure Time Name',\n",
              "       'Minutes Delayed Departing', 'Delayed Departure',\n",
              "       'Scheduled Elapsed Time', 'Actual Elapsed Time', 'Wheels-off Time',\n",
              "       'Taxi-out Time', 'Minutes Delayed By Carrier',\n",
              "       'Minutes Delayed By Weather', 'Minutes Delayed By NAS',\n",
              "       'Minutes Delayed By Security', 'Minutes Delayed By Late Arrival',\n",
              "       'Cancelled', 'Diverted', 'Flights', 'Distance', 'Distance Name',\n",
              "       'Scheduled Arrival Time', 'Actual Arrival Time',\n",
              "       'Minutes Delayed Arriving', 'AirTime', 'Month', 'Day_Of_Week',\n",
              "       'Distance Range Name'],\n",
              "      dtype='object')"
            ]
          },
          "metadata": {
            "tags": []
          },
          "execution_count": 99
        }
      ]
    },
    {
      "cell_type": "code",
      "metadata": {
        "colab": {
          "base_uri": "https://localhost:8080/"
        },
        "id": "_ev3iWot2r8D",
        "outputId": "3c3a8595-652d-4a2b-87e5-2ca8c7565edf"
      },
      "source": [
        "df['Minutes Delayed By Carrier'].value_counts() #monthly average delay by airport"
      ],
      "execution_count": null,
      "outputs": [
        {
          "output_type": "execute_result",
          "data": {
            "text/plain": [
              "0       646290\n",
              "6         1933\n",
              "7         1775\n",
              "15        1767\n",
              "8         1715\n",
              "         ...  \n",
              "1120         1\n",
              "608          1\n",
              "936          1\n",
              "426          1\n",
              "589          1\n",
              "Name: Minutes Delayed By Carrier, Length: 818, dtype: int64"
            ]
          },
          "metadata": {
            "tags": []
          },
          "execution_count": 102
        }
      ]
    },
    {
      "cell_type": "markdown",
      "metadata": {
        "id": "xiZp6zrsRJmD"
      },
      "source": [
        "## What does canceled or diverted flights tell us about flight delays?"
      ]
    },
    {
      "cell_type": "code",
      "metadata": {
        "colab": {
          "base_uri": "https://localhost:8080/",
          "height": 143
        },
        "id": "c8KEGzyj1hQV",
        "outputId": "126e2111-94c0-4485-dc80-c08264311231"
      },
      "source": [
        "df[['Delayed Departure','Cancelled', 'Diverted']].groupby('Delayed Departure').sum()"
      ],
      "execution_count": null,
      "outputs": [
        {
          "output_type": "execute_result",
          "data": {
            "text/html": [
              "<div>\n",
              "<style scoped>\n",
              "    .dataframe tbody tr th:only-of-type {\n",
              "        vertical-align: middle;\n",
              "    }\n",
              "\n",
              "    .dataframe tbody tr th {\n",
              "        vertical-align: top;\n",
              "    }\n",
              "\n",
              "    .dataframe thead th {\n",
              "        text-align: right;\n",
              "    }\n",
              "</style>\n",
              "<table border=\"1\" class=\"dataframe\">\n",
              "  <thead>\n",
              "    <tr style=\"text-align: right;\">\n",
              "      <th></th>\n",
              "      <th>Cancelled</th>\n",
              "      <th>Diverted</th>\n",
              "    </tr>\n",
              "    <tr>\n",
              "      <th>Delayed Departure</th>\n",
              "      <th></th>\n",
              "      <th></th>\n",
              "    </tr>\n",
              "  </thead>\n",
              "  <tbody>\n",
              "    <tr>\n",
              "      <th>0</th>\n",
              "      <td>1341.0</td>\n",
              "      <td>1068.0</td>\n",
              "    </tr>\n",
              "    <tr>\n",
              "      <th>1</th>\n",
              "      <td>31.0</td>\n",
              "      <td>445.0</td>\n",
              "    </tr>\n",
              "  </tbody>\n",
              "</table>\n",
              "</div>"
            ],
            "text/plain": [
              "                   Cancelled  Diverted\n",
              "Delayed Departure                     \n",
              "0                     1341.0    1068.0\n",
              "1                       31.0     445.0"
            ]
          },
          "metadata": {
            "tags": []
          },
          "execution_count": 47
        }
      ]
    },
    {
      "cell_type": "code",
      "metadata": {
        "colab": {
          "base_uri": "https://localhost:8080/",
          "height": 300
        },
        "id": "SRX_Q3Wrcp8u",
        "outputId": "5b80d373-7fb4-436e-fd87-a509ff230336"
      },
      "source": [
        "df[['Cancelled', 'Diverted']].describe()"
      ],
      "execution_count": null,
      "outputs": [
        {
          "output_type": "execute_result",
          "data": {
            "text/html": [
              "<div>\n",
              "<style scoped>\n",
              "    .dataframe tbody tr th:only-of-type {\n",
              "        vertical-align: middle;\n",
              "    }\n",
              "\n",
              "    .dataframe tbody tr th {\n",
              "        vertical-align: top;\n",
              "    }\n",
              "\n",
              "    .dataframe thead th {\n",
              "        text-align: right;\n",
              "    }\n",
              "</style>\n",
              "<table border=\"1\" class=\"dataframe\">\n",
              "  <thead>\n",
              "    <tr style=\"text-align: right;\">\n",
              "      <th></th>\n",
              "      <th>Cancelled</th>\n",
              "      <th>Diverted</th>\n",
              "    </tr>\n",
              "  </thead>\n",
              "  <tbody>\n",
              "    <tr>\n",
              "      <th>count</th>\n",
              "      <td>704501.000000</td>\n",
              "      <td>704501.000000</td>\n",
              "    </tr>\n",
              "    <tr>\n",
              "      <th>mean</th>\n",
              "      <td>0.001947</td>\n",
              "      <td>0.002148</td>\n",
              "    </tr>\n",
              "    <tr>\n",
              "      <th>std</th>\n",
              "      <td>0.044087</td>\n",
              "      <td>0.046293</td>\n",
              "    </tr>\n",
              "    <tr>\n",
              "      <th>min</th>\n",
              "      <td>0.000000</td>\n",
              "      <td>0.000000</td>\n",
              "    </tr>\n",
              "    <tr>\n",
              "      <th>25%</th>\n",
              "      <td>0.000000</td>\n",
              "      <td>0.000000</td>\n",
              "    </tr>\n",
              "    <tr>\n",
              "      <th>50%</th>\n",
              "      <td>0.000000</td>\n",
              "      <td>0.000000</td>\n",
              "    </tr>\n",
              "    <tr>\n",
              "      <th>75%</th>\n",
              "      <td>0.000000</td>\n",
              "      <td>0.000000</td>\n",
              "    </tr>\n",
              "    <tr>\n",
              "      <th>max</th>\n",
              "      <td>1.000000</td>\n",
              "      <td>1.000000</td>\n",
              "    </tr>\n",
              "  </tbody>\n",
              "</table>\n",
              "</div>"
            ],
            "text/plain": [
              "           Cancelled       Diverted\n",
              "count  704501.000000  704501.000000\n",
              "mean        0.001947       0.002148\n",
              "std         0.044087       0.046293\n",
              "min         0.000000       0.000000\n",
              "25%         0.000000       0.000000\n",
              "50%         0.000000       0.000000\n",
              "75%         0.000000       0.000000\n",
              "max         1.000000       1.000000"
            ]
          },
          "metadata": {
            "tags": []
          },
          "execution_count": 48
        }
      ]
    },
    {
      "cell_type": "markdown",
      "metadata": {
        "id": "FrXLP4lKRJxJ"
      },
      "source": [
        "## What does air time tell us about flight delays?"
      ]
    },
    {
      "cell_type": "code",
      "metadata": {
        "colab": {
          "base_uri": "https://localhost:8080/",
          "height": 143
        },
        "id": "1lalPyz21zH5",
        "outputId": "268d94d8-b2bc-4446-ab1f-0fa6413e33b5"
      },
      "source": [
        "df[['Delayed Departure','AirTime']].groupby('Delayed Departure').mean()"
      ],
      "execution_count": null,
      "outputs": [
        {
          "output_type": "execute_result",
          "data": {
            "text/html": [
              "<div>\n",
              "<style scoped>\n",
              "    .dataframe tbody tr th:only-of-type {\n",
              "        vertical-align: middle;\n",
              "    }\n",
              "\n",
              "    .dataframe tbody tr th {\n",
              "        vertical-align: top;\n",
              "    }\n",
              "\n",
              "    .dataframe thead th {\n",
              "        text-align: right;\n",
              "    }\n",
              "</style>\n",
              "<table border=\"1\" class=\"dataframe\">\n",
              "  <thead>\n",
              "    <tr style=\"text-align: right;\">\n",
              "      <th></th>\n",
              "      <th>AirTime</th>\n",
              "    </tr>\n",
              "    <tr>\n",
              "      <th>Delayed Departure</th>\n",
              "      <th></th>\n",
              "    </tr>\n",
              "  </thead>\n",
              "  <tbody>\n",
              "    <tr>\n",
              "      <th>0</th>\n",
              "      <td>126.951945</td>\n",
              "    </tr>\n",
              "    <tr>\n",
              "      <th>1</th>\n",
              "      <td>130.689335</td>\n",
              "    </tr>\n",
              "  </tbody>\n",
              "</table>\n",
              "</div>"
            ],
            "text/plain": [
              "                      AirTime\n",
              "Delayed Departure            \n",
              "0                  126.951945\n",
              "1                  130.689335"
            ]
          },
          "metadata": {
            "tags": []
          },
          "execution_count": 49
        }
      ]
    },
    {
      "cell_type": "code",
      "metadata": {
        "colab": {
          "base_uri": "https://localhost:8080/"
        },
        "id": "Om6AKigzcGxW",
        "outputId": "42a95005-71a2-4f99-e27e-19e030dd56ed"
      },
      "source": [
        "df['AirTime'].describe() #What is airtime.."
      ],
      "execution_count": null,
      "outputs": [
        {
          "output_type": "execute_result",
          "data": {
            "text/plain": [
              "count    701616.000000\n",
              "mean        127.513425\n",
              "std          74.914275\n",
              "min          19.000000\n",
              "25%          73.000000\n",
              "50%         106.000000\n",
              "75%         164.000000\n",
              "max         651.000000\n",
              "Name: AirTime, dtype: float64"
            ]
          },
          "metadata": {
            "tags": []
          },
          "execution_count": 50
        }
      ]
    },
    {
      "cell_type": "markdown",
      "metadata": {
        "id": "ubUXc6nyRKQn"
      },
      "source": [
        "## Does Wheels-off Time or Taxi_out Time relate to delayed flights?"
      ]
    },
    {
      "cell_type": "code",
      "metadata": {
        "id": "4Uicf8WgcfTg",
        "colab": {
          "base_uri": "https://localhost:8080/",
          "height": 143
        },
        "outputId": "228fb6a2-08c2-4bb2-e416-598ba4e32b63"
      },
      "source": [
        "df[['Delayed Departure','AirTime']].groupby('Delayed Departure').mean()"
      ],
      "execution_count": null,
      "outputs": [
        {
          "output_type": "execute_result",
          "data": {
            "text/html": [
              "<div>\n",
              "<style scoped>\n",
              "    .dataframe tbody tr th:only-of-type {\n",
              "        vertical-align: middle;\n",
              "    }\n",
              "\n",
              "    .dataframe tbody tr th {\n",
              "        vertical-align: top;\n",
              "    }\n",
              "\n",
              "    .dataframe thead th {\n",
              "        text-align: right;\n",
              "    }\n",
              "</style>\n",
              "<table border=\"1\" class=\"dataframe\">\n",
              "  <thead>\n",
              "    <tr style=\"text-align: right;\">\n",
              "      <th></th>\n",
              "      <th>AirTime</th>\n",
              "    </tr>\n",
              "    <tr>\n",
              "      <th>Delayed Departure</th>\n",
              "      <th></th>\n",
              "    </tr>\n",
              "  </thead>\n",
              "  <tbody>\n",
              "    <tr>\n",
              "      <th>0</th>\n",
              "      <td>126.951945</td>\n",
              "    </tr>\n",
              "    <tr>\n",
              "      <th>1</th>\n",
              "      <td>130.689335</td>\n",
              "    </tr>\n",
              "  </tbody>\n",
              "</table>\n",
              "</div>"
            ],
            "text/plain": [
              "                      AirTime\n",
              "Delayed Departure            \n",
              "0                  126.951945\n",
              "1                  130.689335"
            ]
          },
          "metadata": {
            "tags": []
          },
          "execution_count": 51
        }
      ]
    },
    {
      "cell_type": "code",
      "metadata": {
        "colab": {
          "base_uri": "https://localhost:8080/"
        },
        "id": "omDiSvSw1_DK",
        "outputId": "78403df2-cd9c-436f-f8f9-d313793d764d"
      },
      "source": [
        "df.columns"
      ],
      "execution_count": null,
      "outputs": [
        {
          "output_type": "execute_result",
          "data": {
            "text/plain": [
              "Index(['Unique_Id', 'Carrier Code', 'Flight Date', 'Flight Number',\n",
              "       'Tail Number', 'Origin Airport', 'Origin City', 'Origin State',\n",
              "       'Origin Divison', 'Origin Region', 'Dest Airport', 'Dest City',\n",
              "       'Dest State', 'Dest Divison', 'Dest Region', 'Scheduled Departure Time',\n",
              "       'Actual Departure Time', 'Actual Departure Time Name',\n",
              "       'Minutes Delayed Departing', 'Delayed Departure',\n",
              "       'Scheduled Elapsed Time', 'Actual Elapsed Time', 'Wheels-off Time',\n",
              "       'Taxi-out Time', 'Minutes Delayed By Carrier',\n",
              "       'Minutes Delayed By Weather', 'Minutes Delayed By NAS',\n",
              "       'Minutes Delayed By Security', 'Minutes Delayed By Late Arrival',\n",
              "       'Cancelled', 'Diverted', 'Flights', 'Distance', 'Distance Name',\n",
              "       'Scheduled Arrival Time', 'Actual Arrival Time',\n",
              "       'Minutes Delayed Arriving', 'AirTime', 'Month', 'Day_Of_Week',\n",
              "       'Distance Range Name'],\n",
              "      dtype='object')"
            ]
          },
          "metadata": {
            "tags": []
          },
          "execution_count": 52
        }
      ]
    },
    {
      "cell_type": "code",
      "metadata": {
        "colab": {
          "base_uri": "https://localhost:8080/",
          "height": 424
        },
        "id": "HCsjKLUA2AB-",
        "outputId": "4c724953-5668-48eb-c24f-7ef21c2ef69a"
      },
      "source": [
        "df[['Delayed Departure','Tail Number']].groupby('Tail Number').sum().reset_index().sort_values('Delayed Departure', ascending = False)"
      ],
      "execution_count": null,
      "outputs": [
        {
          "output_type": "execute_result",
          "data": {
            "text/html": [
              "<div>\n",
              "<style scoped>\n",
              "    .dataframe tbody tr th:only-of-type {\n",
              "        vertical-align: middle;\n",
              "    }\n",
              "\n",
              "    .dataframe tbody tr th {\n",
              "        vertical-align: top;\n",
              "    }\n",
              "\n",
              "    .dataframe thead th {\n",
              "        text-align: right;\n",
              "    }\n",
              "</style>\n",
              "<table border=\"1\" class=\"dataframe\">\n",
              "  <thead>\n",
              "    <tr style=\"text-align: right;\">\n",
              "      <th></th>\n",
              "      <th>Tail Number</th>\n",
              "      <th>Delayed Departure</th>\n",
              "    </tr>\n",
              "  </thead>\n",
              "  <tbody>\n",
              "    <tr>\n",
              "      <th>1</th>\n",
              "      <td>N102DU</td>\n",
              "      <td>251</td>\n",
              "    </tr>\n",
              "    <tr>\n",
              "      <th>234</th>\n",
              "      <td>N357DN</td>\n",
              "      <td>239</td>\n",
              "    </tr>\n",
              "    <tr>\n",
              "      <th>4</th>\n",
              "      <td>N105DU</td>\n",
              "      <td>234</td>\n",
              "    </tr>\n",
              "    <tr>\n",
              "      <th>223</th>\n",
              "      <td>N353DN</td>\n",
              "      <td>222</td>\n",
              "    </tr>\n",
              "    <tr>\n",
              "      <th>134</th>\n",
              "      <td>N322US</td>\n",
              "      <td>222</td>\n",
              "    </tr>\n",
              "    <tr>\n",
              "      <th>...</th>\n",
              "      <td>...</td>\n",
              "      <td>...</td>\n",
              "    </tr>\n",
              "    <tr>\n",
              "      <th>393</th>\n",
              "      <td>N510DN</td>\n",
              "      <td>0</td>\n",
              "    </tr>\n",
              "    <tr>\n",
              "      <th>632</th>\n",
              "      <td>N852NW</td>\n",
              "      <td>0</td>\n",
              "    </tr>\n",
              "    <tr>\n",
              "      <th>821</th>\n",
              "      <td>N940DN</td>\n",
              "      <td>0</td>\n",
              "    </tr>\n",
              "    <tr>\n",
              "      <th>826</th>\n",
              "      <td>N943DN</td>\n",
              "      <td>0</td>\n",
              "    </tr>\n",
              "    <tr>\n",
              "      <th>846</th>\n",
              "      <td>N952DL</td>\n",
              "      <td>0</td>\n",
              "    </tr>\n",
              "  </tbody>\n",
              "</table>\n",
              "<p>940 rows × 2 columns</p>\n",
              "</div>"
            ],
            "text/plain": [
              "    Tail Number  Delayed Departure\n",
              "1        N102DU                251\n",
              "234      N357DN                239\n",
              "4        N105DU                234\n",
              "223      N353DN                222\n",
              "134      N322US                222\n",
              "..          ...                ...\n",
              "393      N510DN                  0\n",
              "632      N852NW                  0\n",
              "821      N940DN                  0\n",
              "826      N943DN                  0\n",
              "846      N952DL                  0\n",
              "\n",
              "[940 rows x 2 columns]"
            ]
          },
          "metadata": {
            "tags": []
          },
          "execution_count": 53
        }
      ]
    },
    {
      "cell_type": "code",
      "metadata": {
        "colab": {
          "base_uri": "https://localhost:8080/",
          "height": 424
        },
        "id": "-VFDq_xw29_8",
        "outputId": "9810f3a6-5a50-442c-cf68-b5b50c33841f"
      },
      "source": [
        "df[['Unique_Id','Tail Number']].groupby('Tail Number').count().reset_index().sort_values('Unique_Id', ascending = False)"
      ],
      "execution_count": null,
      "outputs": [
        {
          "output_type": "execute_result",
          "data": {
            "text/html": [
              "<div>\n",
              "<style scoped>\n",
              "    .dataframe tbody tr th:only-of-type {\n",
              "        vertical-align: middle;\n",
              "    }\n",
              "\n",
              "    .dataframe tbody tr th {\n",
              "        vertical-align: top;\n",
              "    }\n",
              "\n",
              "    .dataframe thead th {\n",
              "        text-align: right;\n",
              "    }\n",
              "</style>\n",
              "<table border=\"1\" class=\"dataframe\">\n",
              "  <thead>\n",
              "    <tr style=\"text-align: right;\">\n",
              "      <th></th>\n",
              "      <th>Tail Number</th>\n",
              "      <th>Unique_Id</th>\n",
              "    </tr>\n",
              "  </thead>\n",
              "  <tbody>\n",
              "    <tr>\n",
              "      <th>243</th>\n",
              "      <td>N360DN</td>\n",
              "      <td>1332</td>\n",
              "    </tr>\n",
              "    <tr>\n",
              "      <th>252</th>\n",
              "      <td>N363DN</td>\n",
              "      <td>1315</td>\n",
              "    </tr>\n",
              "    <tr>\n",
              "      <th>249</th>\n",
              "      <td>N362DN</td>\n",
              "      <td>1311</td>\n",
              "    </tr>\n",
              "    <tr>\n",
              "      <th>174</th>\n",
              "      <td>N336DX</td>\n",
              "      <td>1311</td>\n",
              "    </tr>\n",
              "    <tr>\n",
              "      <th>180</th>\n",
              "      <td>N338DN</td>\n",
              "      <td>1309</td>\n",
              "    </tr>\n",
              "    <tr>\n",
              "      <th>...</th>\n",
              "      <td>...</td>\n",
              "      <td>...</td>\n",
              "    </tr>\n",
              "    <tr>\n",
              "      <th>394</th>\n",
              "      <td>N512DN</td>\n",
              "      <td>1</td>\n",
              "    </tr>\n",
              "    <tr>\n",
              "      <th>387</th>\n",
              "      <td>N501DN</td>\n",
              "      <td>1</td>\n",
              "    </tr>\n",
              "    <tr>\n",
              "      <th>386</th>\n",
              "      <td>N404DX</td>\n",
              "      <td>1</td>\n",
              "    </tr>\n",
              "    <tr>\n",
              "      <th>391</th>\n",
              "      <td>N507DN</td>\n",
              "      <td>1</td>\n",
              "    </tr>\n",
              "    <tr>\n",
              "      <th>392</th>\n",
              "      <td>N509DN</td>\n",
              "      <td>1</td>\n",
              "    </tr>\n",
              "  </tbody>\n",
              "</table>\n",
              "<p>940 rows × 2 columns</p>\n",
              "</div>"
            ],
            "text/plain": [
              "    Tail Number  Unique_Id\n",
              "243      N360DN       1332\n",
              "252      N363DN       1315\n",
              "249      N362DN       1311\n",
              "174      N336DX       1311\n",
              "180      N338DN       1309\n",
              "..          ...        ...\n",
              "394      N512DN          1\n",
              "387      N501DN          1\n",
              "386      N404DX          1\n",
              "391      N507DN          1\n",
              "392      N509DN          1\n",
              "\n",
              "[940 rows x 2 columns]"
            ]
          },
          "metadata": {
            "tags": []
          },
          "execution_count": 54
        }
      ]
    },
    {
      "cell_type": "code",
      "metadata": {
        "colab": {
          "base_uri": "https://localhost:8080/"
        },
        "id": "ztG75Knh5YOa",
        "outputId": "9ac643f2-e560-43a6-c882-511609747cb9"
      },
      "source": [
        "scaled_delays_by_tail = df[['Delayed Departure','Tail Number']].groupby('Tail Number').sum().reset_index().sort_values('Delayed Departure', ascending = False).merge(\n",
        "  df[['Unique_Id','Tail Number']].groupby('Tail Number').count().reset_index().sort_values('Unique_Id', ascending = False),\n",
        "   how = 'left', on ='Tail Number' \n",
        ")\n",
        "\n",
        "scaled_delays_by_tail['Scaled Delayed Departure'] = round(scaled_delays_by_distance2['Delayed Departure']/scaled_delays_by_distance2['Unique_Id'],2)\n",
        "\n",
        "scaled_delays_by_tail.sort_values('Scaled Delayed Departure', ascending = False, inplace = True)\n",
        "\n",
        "scaled_delays_by_tail.dropna(axis=0, subset=['Scaled Delayed Departure'])['Delayed Departure'].sum()"
      ],
      "execution_count": null,
      "outputs": [
        {
          "output_type": "execute_result",
          "data": {
            "text/plain": [
              "2262"
            ]
          },
          "metadata": {
            "tags": []
          },
          "execution_count": 55
        }
      ]
    },
    {
      "cell_type": "code",
      "metadata": {
        "id": "NxN75Se056tH"
      },
      "source": [
        ""
      ],
      "execution_count": null,
      "outputs": []
    }
  ]
}