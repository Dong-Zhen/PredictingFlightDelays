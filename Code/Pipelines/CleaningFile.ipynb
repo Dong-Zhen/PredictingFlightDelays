{
 "cells": [
  {
   "cell_type": "code",
   "execution_count": 2,
   "metadata": {},
   "outputs": [],
   "source": [
    "import pandas as pd\n",
    "import numpy as np"
   ]
  },
  {
   "cell_type": "code",
   "execution_count": 3,
   "metadata": {},
   "outputs": [],
   "source": [
    "import calendar"
   ]
  },
  {
   "cell_type": "code",
   "execution_count": 4,
   "metadata": {},
   "outputs": [],
   "source": [
    "from datetime import datetime\n",
    "import time"
   ]
  },
  {
   "cell_type": "code",
   "execution_count": 5,
   "metadata": {},
   "outputs": [],
   "source": [
    "import os"
   ]
  },
  {
   "cell_type": "code",
   "execution_count": 6,
   "metadata": {},
   "outputs": [],
   "source": [
    "import matplotlib.pyplot as plt\n",
    "import matplotlib.cm as cm\n",
    "%matplotlib inline\n",
    "import seaborn as sns\n",
    "sns.set()"
   ]
  },
  {
   "cell_type": "code",
   "execution_count": 7,
   "metadata": {},
   "outputs": [],
   "source": [
    "selection = 25\n",
    "year = '2019'\n",
    "airline = 'DL'\n",
    "download_path = r'/home/desbrium/Metis/PredictingFlightDelays/Data/BTS Departure Data'\n",
    "file_path = os.path.join(download_path, f'{selection}airports{airline}{year}.csv')"
   ]
  },
  {
   "cell_type": "code",
   "execution_count": 8,
   "metadata": {},
   "outputs": [],
   "source": [
    "download_path = r'/home/desbrium/Metis/PredictingFlightDelays/Data/BTS Departure Data'"
   ]
  },
  {
   "cell_type": "code",
   "execution_count": 9,
   "metadata": {},
   "outputs": [],
   "source": [
    "file_path = os.path.join(download_path, f'{selection}airports{airline}{year}.csv')"
   ]
  },
  {
   "cell_type": "code",
   "execution_count": 10,
   "metadata": {},
   "outputs": [],
   "source": [
    "df = pd.read_csv(file_path)"
   ]
  },
  {
   "cell_type": "code",
   "execution_count": 163,
   "metadata": {},
   "outputs": [],
   "source": [
    "Region_Division = {'Northeast':['New Englad','Middle Atlantic'], \n",
    "                   'Midwest':['East North Central','West North Central'], \n",
    "                   'South': ['South Atlantic','East South Central','West South Central'], \n",
    "                   'West': ['Mountain','Pacific'],\n",
    "                   'U.S. Territory': ['Island']\n",
    "                  }"
   ]
  },
  {
   "cell_type": "code",
   "execution_count": 164,
   "metadata": {},
   "outputs": [],
   "source": [
    "RD_list = []"
   ]
  },
  {
   "cell_type": "code",
   "execution_count": 165,
   "metadata": {},
   "outputs": [],
   "source": [
    "for region, divisions in Region_Division.items():\n",
    "    for division in divisions:\n",
    "        RD_dict = {}\n",
    "        RD_dict['Region'] = region\n",
    "        RD_dict['Division'] = division\n",
    "        RD_list.append(RD_dict)"
   ]
  },
  {
   "cell_type": "code",
   "execution_count": 166,
   "metadata": {},
   "outputs": [
    {
     "data": {
      "text/plain": [
       "[{'Region': 'Northeast', 'Division': 'New Englad'},\n",
       " {'Region': 'Northeast', 'Division': 'Middle Atlantic'},\n",
       " {'Region': 'Midwest', 'Division': 'East North Central'},\n",
       " {'Region': 'Midwest', 'Division': 'West North Central'},\n",
       " {'Region': 'South', 'Division': 'South Atlantic'},\n",
       " {'Region': 'South', 'Division': 'East South Central'},\n",
       " {'Region': 'South', 'Division': 'West South Central'},\n",
       " {'Region': 'West', 'Division': 'Mountain'},\n",
       " {'Region': 'West', 'Division': 'Pacific'},\n",
       " {'Region': 'U.S. Territory', 'Division': 'Island'}]"
      ]
     },
     "execution_count": 166,
     "metadata": {},
     "output_type": "execute_result"
    }
   ],
   "source": [
    "RD_list"
   ]
  },
  {
   "cell_type": "code",
   "execution_count": 167,
   "metadata": {},
   "outputs": [],
   "source": [
    "regions_df = pd.DataFrame(RD_list)"
   ]
  },
  {
   "cell_type": "code",
   "execution_count": 168,
   "metadata": {},
   "outputs": [],
   "source": [
    "Division_State = {'New Englad':['Maine','New Hampshire','Vermont','Massachusetts','Rhode Island','Connecticut'], \n",
    "                  'Middle Atlantic':['New York','Pennsylvania','New Jersey'], \n",
    "                  'East North Central':['Wisconsin','Michigan','Illinois','Indiana','Ohio'],\n",
    "                  'West North Central':['North Dakota','South Dakota','Nebraska','Kansas','Minnesota','Iowa','Missouri'], \n",
    "                  'South Atlantic':['Delaware','Maryland','District of Columbia','Virginia','West Virginia','North Carolina','South Carolina','Georgia','Florida'],\n",
    "                  'East South Central':['Kentucky','Tennessee','Mississippi','Alabama'],\n",
    "                  'West South Central':['Oklahoma','Texas','Arkansas','Louisiana'], \n",
    "                  'Mountain':['Idaho','Montana','Wyoming','Nevada','Utah','Colorado','Arizona','New Mexico'],\n",
    "                  'Pacific':['Alaska','Washington','Oregon','California','Hawaii'],\n",
    "                  'Island': ['Puerto Rico', 'U.S. Virgin Islands']\n",
    "                 }"
   ]
  },
  {
   "cell_type": "code",
   "execution_count": 169,
   "metadata": {},
   "outputs": [],
   "source": [
    "DS_list = []"
   ]
  },
  {
   "cell_type": "code",
   "execution_count": 170,
   "metadata": {},
   "outputs": [],
   "source": [
    "for division, states in Division_State.items():\n",
    "    for state in states:\n",
    "        DS_dict= {}\n",
    "        DS_dict['Division'] = division\n",
    "        DS_dict['State'] = state\n",
    "        DS_list.append(DS_dict)"
   ]
  },
  {
   "cell_type": "code",
   "execution_count": 171,
   "metadata": {},
   "outputs": [],
   "source": [
    "state_df = pd.DataFrame(DS_list)"
   ]
  },
  {
   "cell_type": "code",
   "execution_count": 172,
   "metadata": {},
   "outputs": [
    {
     "data": {
      "text/html": [
       "<div>\n",
       "<style scoped>\n",
       "    .dataframe tbody tr th:only-of-type {\n",
       "        vertical-align: middle;\n",
       "    }\n",
       "\n",
       "    .dataframe tbody tr th {\n",
       "        vertical-align: top;\n",
       "    }\n",
       "\n",
       "    .dataframe thead th {\n",
       "        text-align: right;\n",
       "    }\n",
       "</style>\n",
       "<table border=\"1\" class=\"dataframe\">\n",
       "  <thead>\n",
       "    <tr style=\"text-align: right;\">\n",
       "      <th></th>\n",
       "      <th>Region</th>\n",
       "      <th>Division</th>\n",
       "    </tr>\n",
       "  </thead>\n",
       "  <tbody>\n",
       "    <tr>\n",
       "      <th>0</th>\n",
       "      <td>Northeast</td>\n",
       "      <td>New Englad</td>\n",
       "    </tr>\n",
       "    <tr>\n",
       "      <th>1</th>\n",
       "      <td>Northeast</td>\n",
       "      <td>Middle Atlantic</td>\n",
       "    </tr>\n",
       "    <tr>\n",
       "      <th>2</th>\n",
       "      <td>Midwest</td>\n",
       "      <td>East North Central</td>\n",
       "    </tr>\n",
       "    <tr>\n",
       "      <th>3</th>\n",
       "      <td>Midwest</td>\n",
       "      <td>West North Central</td>\n",
       "    </tr>\n",
       "    <tr>\n",
       "      <th>4</th>\n",
       "      <td>South</td>\n",
       "      <td>South Atlantic</td>\n",
       "    </tr>\n",
       "    <tr>\n",
       "      <th>5</th>\n",
       "      <td>South</td>\n",
       "      <td>East South Central</td>\n",
       "    </tr>\n",
       "    <tr>\n",
       "      <th>6</th>\n",
       "      <td>South</td>\n",
       "      <td>West South Central</td>\n",
       "    </tr>\n",
       "    <tr>\n",
       "      <th>7</th>\n",
       "      <td>West</td>\n",
       "      <td>Mountain</td>\n",
       "    </tr>\n",
       "    <tr>\n",
       "      <th>8</th>\n",
       "      <td>West</td>\n",
       "      <td>Pacific</td>\n",
       "    </tr>\n",
       "    <tr>\n",
       "      <th>9</th>\n",
       "      <td>U.S. Territory</td>\n",
       "      <td>Island</td>\n",
       "    </tr>\n",
       "  </tbody>\n",
       "</table>\n",
       "</div>"
      ],
      "text/plain": [
       "           Region            Division\n",
       "0       Northeast          New Englad\n",
       "1       Northeast     Middle Atlantic\n",
       "2         Midwest  East North Central\n",
       "3         Midwest  West North Central\n",
       "4           South      South Atlantic\n",
       "5           South  East South Central\n",
       "6           South  West South Central\n",
       "7            West            Mountain\n",
       "8            West             Pacific\n",
       "9  U.S. Territory              Island"
      ]
     },
     "execution_count": 172,
     "metadata": {},
     "output_type": "execute_result"
    }
   ],
   "source": [
    "regions_df"
   ]
  },
  {
   "cell_type": "code",
   "execution_count": 173,
   "metadata": {},
   "outputs": [],
   "source": [
    "regions_df = state_df.merge(regions_df, how='left', on= 'Division')"
   ]
  },
  {
   "cell_type": "code",
   "execution_count": 174,
   "metadata": {},
   "outputs": [],
   "source": [
    "regions_df[['Origin State', 'Origin Divison', 'Origin Region']] = regions_df[['State', 'Division', 'Region']]"
   ]
  },
  {
   "cell_type": "code",
   "execution_count": 175,
   "metadata": {},
   "outputs": [],
   "source": [
    "regions_df[['Dest State', 'Dest Divison', 'Dest Region']] = regions_df[['State', 'Division', 'Region']]"
   ]
  },
  {
   "cell_type": "code",
   "execution_count": 176,
   "metadata": {},
   "outputs": [],
   "source": [
    "origin_regions_df = regions_df[['Origin State', 'Origin Divison', 'Origin Region']]"
   ]
  },
  {
   "cell_type": "code",
   "execution_count": 177,
   "metadata": {},
   "outputs": [],
   "source": [
    "dest_regions_df = regions_df[['Dest State', 'Dest Divison', 'Dest Region']]"
   ]
  },
  {
   "cell_type": "code",
   "execution_count": 178,
   "metadata": {},
   "outputs": [],
   "source": [
    "df = df.merge(origin_regions_df, how='left', on='Origin State')"
   ]
  },
  {
   "cell_type": "code",
   "execution_count": 179,
   "metadata": {},
   "outputs": [],
   "source": [
    "df = df.merge(dest_regions_df, how='left', on='Dest State')"
   ]
  },
  {
   "cell_type": "code",
   "execution_count": 229,
   "metadata": {},
   "outputs": [],
   "source": [
    "def time_bin(time):\n",
    "    \n",
    "    if time >= '04:00' and time < '08:00':\n",
    "\n",
    "        time = 'Early Morning'\n",
    "\n",
    "        return time\n",
    "\n",
    "    elif time >= '08:00' and time < '12:00':\n",
    "\n",
    "        time = 'Morning'\n",
    "\n",
    "        return time\n",
    "\n",
    "    elif time >= '12:00' and time < '16:00':\n",
    "\n",
    "        time = 'Afternoon'\n",
    "\n",
    "        return time\n",
    "\n",
    "    elif time >= '16:00' and time < '20:00':\n",
    "\n",
    "        time = 'Evening'\n",
    "\n",
    "        return time\n",
    "\n",
    "    elif time >= '20:00' and time < '24:00':\n",
    "\n",
    "        time = 'Night'\n",
    "\n",
    "        return time\n",
    "\n",
    "    else:\n",
    "\n",
    "        time = 'Late Night'\n",
    "\n",
    "        return time\n"
   ]
  },
  {
   "cell_type": "code",
   "execution_count": 121,
   "metadata": {},
   "outputs": [],
   "source": [
    "df['Actual Departure Time Name'] = df['Actual Departure Time'].apply(lambda time: time_bin(time))"
   ]
  },
  {
   "cell_type": "code",
   "execution_count": 148,
   "metadata": {},
   "outputs": [],
   "source": [
    "df['Schedule Departure Time Name'] = df['Scheduled Departure Time'].apply(lambda time: time_bin(time))"
   ]
  },
  {
   "cell_type": "code",
   "execution_count": 230,
   "metadata": {},
   "outputs": [],
   "source": [
    "df['Schedule Arrival Time Name'] = df['Scheduled Arrival Time'].apply(lambda time: time_bin(time))"
   ]
  },
  {
   "cell_type": "code",
   "execution_count": 149,
   "metadata": {},
   "outputs": [],
   "source": [
    "bins = [90, 583, 1072, 1561, 2050, 2539, 3027, 3516, 4005, 4494, 4983]\n",
    "names = ['90-583', '583-1072', '1072-1561', '1561-2050', '2050-2539', '2539-3027', '3027-3516', '3516-4005','4005-4494', '4494-4983']"
   ]
  },
  {
   "cell_type": "code",
   "execution_count": 150,
   "metadata": {},
   "outputs": [],
   "source": [
    "df['Distance Range Name'] = pd.cut(df['Distance'],bins, labels=names)"
   ]
  },
  {
   "cell_type": "code",
   "execution_count": 196,
   "metadata": {},
   "outputs": [],
   "source": [
    "bins = [0, 3000, np.inf]\n",
    "names = ['Short Haul', 'Long Haul']\n",
    "\n",
    "df['Distance Name'] = pd.cut(df['Distance'], bins, labels=names)"
   ]
  },
  {
   "cell_type": "code",
   "execution_count": 9,
   "metadata": {},
   "outputs": [],
   "source": [
    "df['Flight Date'] = pd.to_datetime(df['Flight Date'], format = '%m/%d/%Y')"
   ]
  },
  {
   "cell_type": "code",
   "execution_count": 165,
   "metadata": {},
   "outputs": [],
   "source": [
    "df['Month'] = df['Flight Date'].dt.month"
   ]
  },
  {
   "cell_type": "code",
   "execution_count": 221,
   "metadata": {},
   "outputs": [],
   "source": [
    "df['Month'] = df['Month'].astype(int).apply(lambda month: calendar.month_name[month])"
   ]
  },
  {
   "cell_type": "code",
   "execution_count": 151,
   "metadata": {},
   "outputs": [],
   "source": [
    "bins = [90, 583, 1072, 1561, 2050, 2539, 3027, 3516, 4005, 4494, 4983]\n",
    "names = ['90-583', '583-1072', '1072-1561', '1561-2050', '2050-2539', '2539-3027', '3027-3516', '3516-4005','4005-4494', '4494-4983']"
   ]
  },
  {
   "cell_type": "code",
   "execution_count": 152,
   "metadata": {},
   "outputs": [],
   "source": [
    "df['Distance Range Name'] = pd.cut(df['Distance'],bins, labels=names)"
   ]
  },
  {
   "cell_type": "code",
   "execution_count": 153,
   "metadata": {},
   "outputs": [],
   "source": [
    "def convert_int_to_time(x):\n",
    "    \n",
    "    x = list(x)\n",
    "    x.insert(-2,':')\n",
    "    x = ''.join(x)\n",
    "    \n",
    "    return x"
   ]
  },
  {
   "cell_type": "code",
   "execution_count": 154,
   "metadata": {},
   "outputs": [],
   "source": [
    "df['Scheduled Arrival Time'] = df['Scheduled Arrival Time'].astype(str).apply(lambda x: convert_int_to_time(x))"
   ]
  },
  {
   "cell_type": "code",
   "execution_count": 155,
   "metadata": {},
   "outputs": [],
   "source": [
    "test_df = df[['Flight Date', 'Tail Number', 'Scheduled Departure Time']].groupby(['Flight Date', 'Tail Number'], as_index = False).agg({'Scheduled Departure Time': 'count'}).sort_values('Scheduled Departure Time', ascending = False)"
   ]
  },
  {
   "cell_type": "code",
   "execution_count": 156,
   "metadata": {},
   "outputs": [],
   "source": [
    "test_df.rename(columns = {'Scheduled Departure Time' : 'Total Number of Scheduled Flights'}, inplace = True)"
   ]
  },
  {
   "cell_type": "code",
   "execution_count": 157,
   "metadata": {},
   "outputs": [],
   "source": [
    "df = df.merge(test_df, how = 'left', on = ['Flight Date', 'Tail Number'])"
   ]
  },
  {
   "cell_type": "code",
   "execution_count": 34,
   "metadata": {},
   "outputs": [],
   "source": [
    "testdf1 = df[['Flight Date', 'Tail Number','Minutes Delayed By Carrier', 'Minutes Delayed By NAS',\n",
    "              'Minutes Delayed By Security', 'Minutes Delayed By Late Arrival']].groupby(['Tail Number', 'Flight Date']).mean().round(2).apply(lambda grp: grp.shift(1))\n",
    "testdf1 = testdf1.rename(columns = {'Minutes Delayed By Carrier': 'Avg Min Delayed Due To Delta Yesterday','Minutes Delayed By NAS': 'Avg Min Delayed Due To NAS Yesterday', \n",
    "                                    'Minutes Delayed By Security': 'Avg Min Delayed Due To Security Yesterday',\n",
    "                                    'Minutes Delayed By Late Arrival': 'Avg Min Delayed Due To Late Arrival Yesterday'}).reset_index()\n",
    "testdf1.fillna(value = 0, inplace = True)"
   ]
  },
  {
   "cell_type": "code",
   "execution_count": 28,
   "metadata": {},
   "outputs": [],
   "source": [
    "test_df = df[['Flight Date', 'Origin Airport', 'Scheduled Departure Time']].groupby(['Flight Date', 'Origin Airport'], as_index = False).agg({'Scheduled Departure Time': 'count'}).sort_values('Scheduled Departure Time', ascending = False)\n",
    "test_df.rename(columns = {'Scheduled Departure Time' : 'Total Number of Scheduled Flights Airport'}, inplace = True)\n",
    "df = df.merge(test_df, how = 'left', on = ['Flight Date', 'Origin Airport'])"
   ]
  },
  {
   "cell_type": "code",
   "execution_count": 23,
   "metadata": {},
   "outputs": [],
   "source": [
    "testdf2 = df[['Flight Date', 'Origin Airport','Minutes Delayed By Carrier', 'Minutes Delayed By NAS',\n",
    "              'Minutes Delayed By Security', 'Minutes Delayed By Late Arrival', 'Minutes Delayed By Weather']].groupby(['Origin Airport','Flight Date']).mean().round(2).apply(lambda grp: grp.shift(1))\n",
    "testdf2 = testdf2.rename(columns = {'Minutes Delayed By Weather': 'Avg Min Delayed Due To Weather Yesterday Airport', \n",
    "                                    'Minutes Delayed By Carrier': 'Avg Min Delayed Due To Delta Yesterday Airport',\n",
    "                                    'Minutes Delayed By NAS': 'Avg Min Delayed Due To NAS Yesterday Airport', \n",
    "                                    'Minutes Delayed By Security': 'Avg Min Delayed Due To Security Yesterday Airport',\n",
    "                                    'Minutes Delayed By Late Arrival': 'Avg Min Delayed Due To Late Arrival Yesterday Airport'}).reset_index()\n",
    "testdf2.fillna(value = 0, inplace = True)"
   ]
  },
  {
   "cell_type": "code",
   "execution_count": 24,
   "metadata": {},
   "outputs": [],
   "source": [
    "df = df.merge(testdf2, how= 'left', on = ['Flight Date', 'Origin Airport'])"
   ]
  },
  {
   "cell_type": "code",
   "execution_count": 35,
   "metadata": {},
   "outputs": [],
   "source": [
    "df = df.merge(testdf1, how= 'left', on = ['Flight Date', 'Tail Number'])"
   ]
  },
  {
   "cell_type": "code",
   "execution_count": null,
   "metadata": {},
   "outputs": [],
   "source": [
    "#testdf2 = df[['Flight Date', 'Origin Region', 'Dest Region','Minutes Delayed By Carrier', 'Minutes Delayed By NAS',\n",
    "              #'Minutes Delayed By Security', 'Minutes Delayed By Late Arrival', 'Minutes Delayed By Weather']].groupby(['Origin Region', 'Dest Region', 'Flight Date']).mean().round(2).apply(lambda grp: grp.shift(1))\n",
    "#testdf2 = testdf2.rename(columns = {'Minutes Delayed By Weather': 'Avg Min Delayed Due To Weather Yesterday Region', \n",
    "                                    #'Minutes Delayed By Carrier': 'Avg Min Delayed Due To Delta Yesterday Region',\n",
    "                                    #'Minutes Delayed By NAS': 'Avg Min Delayed Due To NAS Yesterday Region', \n",
    "                                    #'Minutes Delayed By Security': 'Avg Min Delayed Due To Security Yesterday Region',\n",
    "                                    #'Minutes Delayed By Late Arrival': 'Avg Min Delayed Due To Late Arrival Yesterday Region'}).reset_index()\n",
    "#testdf2.fillna(value = 0, inplace = True)"
   ]
  },
  {
   "cell_type": "code",
   "execution_count": 14,
   "metadata": {},
   "outputs": [],
   "source": [
    "#df = df.merge(testdf2, how= 'left', on = ['Flight Date', 'Origin Region', 'Dest Region'])"
   ]
  },
  {
   "cell_type": "code",
   "execution_count": 32,
   "metadata": {},
   "outputs": [],
   "source": [
    "df = df[['Unique_Id', 'Carrier Code', 'Flight Date', 'Flight Number', 'Month',\n",
    "       'Tail Number', 'Origin Airport', 'Origin City', 'Origin State',\n",
    "       'Origin Divison', 'Origin Region', 'Dest Airport', 'Dest City',\n",
    "       'Dest State', 'Dest Divison', 'Dest Region', 'Scheduled Departure Time',\n",
    "       'Schedule Departure Time Name', 'Actual Departure Time',\n",
    "       'Actual Departure Time Name', 'Minutes Delayed Departing',\n",
    "       'Delayed Departure', 'Scheduled Elapsed Time', 'Actual Elapsed Time',\n",
    "       'Wheels-off Time', 'Taxi-out Time', 'Minutes Delayed By Carrier',\n",
    "       'Minutes Delayed By Weather', 'Minutes Delayed By NAS',\n",
    "       'Minutes Delayed By Security', 'Minutes Delayed By Late Arrival',\n",
    "       'Total Number of Scheduled Flights', 'Cancelled', 'Diverted', 'Flights',\n",
    "       'Distance', 'Distance Name', 'Distance Range Name',\n",
    "       'Scheduled Arrival Time', 'Schedule Arrival Time Name',\n",
    "       'Actual Arrival Time', 'Minutes Delayed Arriving', 'AirTime',\n",
    "       'Avg Min Delayed Due To Delta Yesterday Region',\n",
    "       'Avg Min Delayed Due To NAS Yesterday Region',\n",
    "       'Avg Min Delayed Due To Security Yesterday Region',\n",
    "       'Avg Min Delayed Due To Late Arrival Yesterday Region',\n",
    "       'Avg Min Delayed Due To Weather Yesterday Region',\n",
    "       'Avg Min Delayed Due To Delta Yesterday Airport',\n",
    "       'Avg Min Delayed Due To NAS Yesterday Airport',\n",
    "       'Avg Min Delayed Due To Security Yesterday Airport',\n",
    "       'Avg Min Delayed Due To Late Arrival Yesterday Airport',\n",
    "       'Avg Min Delayed Due To Weather Yesterday Airport',\n",
    "        'Total Number of Scheduled Flights Airport']]"
   ]
  },
  {
   "cell_type": "code",
   "execution_count": 33,
   "metadata": {},
   "outputs": [
    {
     "data": {
      "text/plain": [
       "Index(['Unique_Id', 'Carrier Code', 'Flight Date', 'Flight Number', 'Month',\n",
       "       'Tail Number', 'Origin Airport', 'Origin City', 'Origin State',\n",
       "       'Origin Divison', 'Origin Region', 'Dest Airport', 'Dest City',\n",
       "       'Dest State', 'Dest Divison', 'Dest Region', 'Scheduled Departure Time',\n",
       "       'Schedule Departure Time Name', 'Actual Departure Time',\n",
       "       'Actual Departure Time Name', 'Minutes Delayed Departing',\n",
       "       'Delayed Departure', 'Scheduled Elapsed Time', 'Actual Elapsed Time',\n",
       "       'Wheels-off Time', 'Taxi-out Time', 'Minutes Delayed By Carrier',\n",
       "       'Minutes Delayed By Weather', 'Minutes Delayed By NAS',\n",
       "       'Minutes Delayed By Security', 'Minutes Delayed By Late Arrival',\n",
       "       'Total Number of Scheduled Flights', 'Cancelled', 'Diverted', 'Flights',\n",
       "       'Distance', 'Distance Name', 'Distance Range Name',\n",
       "       'Scheduled Arrival Time', 'Schedule Arrival Time Name',\n",
       "       'Actual Arrival Time', 'Minutes Delayed Arriving', 'AirTime',\n",
       "       'Avg Min Delayed Due To Delta Yesterday Region',\n",
       "       'Avg Min Delayed Due To NAS Yesterday Region',\n",
       "       'Avg Min Delayed Due To Security Yesterday Region',\n",
       "       'Avg Min Delayed Due To Late Arrival Yesterday Region',\n",
       "       'Avg Min Delayed Due To Weather Yesterday Region',\n",
       "       'Avg Min Delayed Due To Delta Yesterday Airport',\n",
       "       'Avg Min Delayed Due To NAS Yesterday Airport',\n",
       "       'Avg Min Delayed Due To Security Yesterday Airport',\n",
       "       'Avg Min Delayed Due To Late Arrival Yesterday Airport',\n",
       "       'Avg Min Delayed Due To Weather Yesterday Airport',\n",
       "       'Total Number of Scheduled Flights Airport'],\n",
       "      dtype='object')"
      ]
     },
     "execution_count": 33,
     "metadata": {},
     "output_type": "execute_result"
    }
   ],
   "source": [
    "df.columns"
   ]
  },
  {
   "cell_type": "code",
   "execution_count": 16,
   "metadata": {},
   "outputs": [],
   "source": [
    "df = df[['Unique_Id', 'Carrier Code', 'Flight Date', 'Flight Number', 'Month',\n",
    "       'Tail Number', 'Origin Airport', 'Origin City', 'Origin State',\n",
    "       'Origin Divison', 'Origin Region', 'Dest Airport', 'Dest City',\n",
    "       'Dest State', 'Dest Divison', 'Dest Region', 'Scheduled Departure Time',\n",
    "       'Schedule Departure Time Name', 'Actual Departure Time',\n",
    "       'Actual Departure Time Name', 'Minutes Delayed Departing',\n",
    "       'Delayed Departure', 'Scheduled Elapsed Time', 'Actual Elapsed Time',\n",
    "       'Wheels-off Time', 'Taxi-out Time', 'Minutes Delayed By Carrier',\n",
    "       'Minutes Delayed By Weather', 'Minutes Delayed By NAS',\n",
    "       'Minutes Delayed By Security', 'Minutes Delayed By Late Arrival',\n",
    "       'Total Number of Scheduled Flights', 'Cancelled', 'Diverted', 'Flights',\n",
    "       'Distance', 'Distance Name', 'Distance Range Name',\n",
    "       'Scheduled Arrival Time', 'Schedule Arrival Time Name',\n",
    "       'Actual Arrival Time', 'Minutes Delayed Arriving', 'AirTime',\n",
    "       'Total Number of Scheduled Flights Region',\n",
    "       'Avg Min Delayed Due To Delta Yesterday Region',\n",
    "       'Avg Min Delayed Due To NAS Yesterday Region',\n",
    "       'Avg Min Delayed Due To Security Yesterday Region',\n",
    "       'Avg Min Delayed Due To Late Arrival Yesterday Region',\n",
    "       'Avg Min Delayed Due To Weather Yesterday Region']]"
   ]
  },
  {
   "cell_type": "code",
   "execution_count": 246,
   "metadata": {},
   "outputs": [],
   "source": [
    "def edit_time(x):\n",
    "    if x.find(':') == 1:\n",
    "        x = '0' + x\n",
    "    if x.find(':') == 0:\n",
    "        x = '00' + x\n",
    "    return x"
   ]
  },
  {
   "cell_type": "code",
   "execution_count": 248,
   "metadata": {},
   "outputs": [],
   "source": [
    "df['Scheduled Arrival Time'] = df['Scheduled Arrival Time'].apply(lambda x: edit_time(x))"
   ]
  },
  {
   "cell_type": "code",
   "execution_count": 249,
   "metadata": {},
   "outputs": [],
   "source": [
    "df['Scheduled Departure Time'] = df['Scheduled Departure Time'].apply(lambda x: datetime.strptime(x, '%H:%M').time())\n",
    "df['Scheduled Arrival Time'] = df['Scheduled Arrival Time'].apply(lambda x: datetime.strptime(x, '%H:%M').time())"
   ]
  },
  {
   "cell_type": "code",
   "execution_count": 36,
   "metadata": {},
   "outputs": [],
   "source": [
    "df.to_csv(file_path, index = False)"
   ]
  },
  {
   "cell_type": "code",
   "execution_count": 26,
   "metadata": {},
   "outputs": [
    {
     "data": {
      "text/plain": [
       "Index(['Unique_Id', 'Carrier Code', 'Flight Date', 'Flight Number', 'Month',\n",
       "       'Tail Number', 'Origin Airport', 'Origin City', 'Origin State',\n",
       "       'Origin Divison', 'Origin Region', 'Dest Airport', 'Dest City',\n",
       "       'Dest State', 'Dest Divison', 'Dest Region', 'Scheduled Departure Time',\n",
       "       'Schedule Departure Time Name', 'Actual Departure Time',\n",
       "       'Actual Departure Time Name', 'Minutes Delayed Departing',\n",
       "       'Delayed Departure', 'Scheduled Elapsed Time', 'Actual Elapsed Time',\n",
       "       'Wheels-off Time', 'Taxi-out Time', 'Minutes Delayed By Carrier',\n",
       "       'Minutes Delayed By Weather', 'Minutes Delayed By NAS',\n",
       "       'Minutes Delayed By Security', 'Minutes Delayed By Late Arrival',\n",
       "       'Total Number of Scheduled Flights', 'Cancelled', 'Diverted', 'Flights',\n",
       "       'Distance', 'Distance Name', 'Distance Range Name',\n",
       "       'Scheduled Arrival Time', 'Schedule Arrival Time Name',\n",
       "       'Actual Arrival Time', 'Minutes Delayed Arriving', 'AirTime',\n",
       "       'Total Number of Scheduled Flights Region_x',\n",
       "       'Avg Min Delayed Due To Delta Yesterday Region',\n",
       "       'Avg Min Delayed Due To NAS Yesterday Region',\n",
       "       'Avg Min Delayed Due To Security Yesterday Region',\n",
       "       'Avg Min Delayed Due To Late Arrival Yesterday Region',\n",
       "       'Avg Min Delayed Due To Weather Yesterday Region',\n",
       "       'Total Number of Scheduled Flights Region_y',\n",
       "       'Avg Min Delayed Due To Delta Yesterday Airport',\n",
       "       'Avg Min Delayed Due To NAS Yesterday Airport',\n",
       "       'Avg Min Delayed Due To Security Yesterday Airport',\n",
       "       'Avg Min Delayed Due To Late Arrival Yesterday Airport',\n",
       "       'Avg Min Delayed Due To Weather Yesterday Airport'],\n",
       "      dtype='object')"
      ]
     },
     "execution_count": 26,
     "metadata": {},
     "output_type": "execute_result"
    }
   ],
   "source": [
    "df.columns"
   ]
  },
  {
   "cell_type": "code",
   "execution_count": null,
   "metadata": {},
   "outputs": [],
   "source": []
  }
 ],
 "metadata": {
  "kernelspec": {
   "display_name": "Python 3",
   "language": "python",
   "name": "python3"
  },
  "language_info": {
   "codemirror_mode": {
    "name": "ipython",
    "version": 3
   },
   "file_extension": ".py",
   "mimetype": "text/x-python",
   "name": "python",
   "nbconvert_exporter": "python",
   "pygments_lexer": "ipython3",
   "version": "3.8.5"
  }
 },
 "nbformat": 4,
 "nbformat_minor": 4
}
